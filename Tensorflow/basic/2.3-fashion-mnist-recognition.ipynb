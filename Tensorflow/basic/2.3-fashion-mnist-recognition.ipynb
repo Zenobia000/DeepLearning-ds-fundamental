{
 "cells": [
  {
   "cell_type": "markdown",
   "metadata": {},
   "source": [
    "# 時尚服飾圖像辨識"
   ]
  },
  {
   "cell_type": "markdown",
   "metadata": {},
   "source": [
    "圖像分類被廣泛地應用到很多的領域中，從醫學掃描中危及生命的疾病識別到電視卡通角色的識別。\n",
    "\n",
    "MNIST數據集（可以說）是最常用的圖像分類入門數據集。它包含手寫數字的28x28灰度圖像，每個灰度圖像都有一個關聯的標籤，用於指示圖像上手寫的數字（0到9之間的整數）。\n",
    "\n",
    "MNIST在過去幾年中越來越受歡迎, 但也引起了一些問題。\n",
    "\n",
    "使用MNIST來進行圖像辨識的範例有什麼問題呢？\n",
    "1. **MNIST太簡單了** - 卷積網絡(Convolution network)可以很容易地在MNIST上達到99.7%的辨識力，即使經典的機械學習(Machine learning)算法也能達到97%。\n",
    "\n",
    "2. **MNIST被過度使用** - 幾乎每個有深度學習經驗的人都至少遇到過MNIST一次。\n",
    "\n",
    "3. **NIST無法有效代表現代的電視視覺相關的任務** - Keras的主要貢獻者(François Chollet)也特別提及這一點。\n",
    "\n",
    ">**François Chollet**\n",
    ">\n",
    ">Many good ideas will not work well on MNIST (e.g. batch norm). Inversely many bad ideas may work on MNIST and no transfer to real CV.\n",
    ">\n",
    "> 2:51 AM - Apr 14, 2017\n",
    "\n",
    "\n",
    "![Fashion-Mnist](https://cdn-images-1.medium.com/max/600/1*GNLB2jtcfb_xTqgQd9ntJA.png)"
   ]
  },
  {
   "cell_type": "markdown",
   "metadata": {},
   "source": [
    "## 資料集說明\n",
    "\n",
    "時尚MNIST訓練集是由[Zalando Reserach](https://jobs.zalando.com/tech/)所發佈出來的資料集。它包含60,000個範例圖像，測試集包含10,000個範例圖像。\n",
    "\n",
    "每個範例圖像都是28x28的灰度圖像（就像原始MNIST中的圖像一樣），與10類（T卹，褲子，套頭衫，連衣裙，大衣，涼鞋，襯衫，運動鞋，包包和踝靴）的標籤相關聯。時尚MNIST也與MNIST具有相同的訓練與測試數據分離結構，以便於學習使用。\n",
    "\n",
    "相關的詳細資訊說明及資料集下載可以透過Zalando在Github: [https://github.com/zalandoresearch/fashion-mnist](https://github.com/zalandoresearch/fashion-mnist) 來了解更多。\n",
    "\n",
    "在這篇文章裡頭, 我們會從[Kaggle](https://www.kaggle.com/zalando-research/fashionmnist)上取得這個數據集。"
   ]
  },
  {
   "cell_type": "markdown",
   "metadata": {},
   "source": [
    "## 資料準備\n",
    "\n",
    "1. 從[Kaggle](https://www.kaggle.com/zalando-research/fashionmnist/data/)點擊`Download All`下載圖像資料檔\"fashionmnist.zip\"。\n",
    "2. 在這個Jupyter Notebook所在的目錄下產生一個新的子目錄\"data\"。\n",
    "3. 解壓縮圖像資料檔到\"data\"的目錄裡頭。\n",
    "4. 在\"data/\"的資料夾會看到兩個檔案\n",
    "  * `fashion-mnist_test.csv`\n",
    "  * `fashion-mnist_train.csv`\n",
    "  \n",
    "最後你的目錄結構看起來像這樣:\n",
    "\n",
    "    2.3-fashion-mnist-recognition.ipynb\n",
    "    data/\n",
    "    ├── fashion-mnist_test.csv\n",
    "    └── fashion-mnist_train.csv"
   ]
  },
  {
   "cell_type": "markdown",
   "metadata": {},
   "source": [
    "## 資料預處理 (Data Preprocessing)\n",
    "預處理圖片的第一步是調整它們的大小。我們需要有相同大小的所有照片進行訓練。\n",
    "我會將數據資料轉換型別為`float32`來節省一些記憶的用量並對它們進行歸一化（除以255）。\n",
    "\n",
    "然後使用one-hot編碼來將10類別的標籤(label)轉換為向量(vector)："
   ]
  },
  {
   "cell_type": "code",
   "execution_count": 1,
   "metadata": {},
   "outputs": [
    {
     "name": "stderr",
     "output_type": "stream",
     "text": [
      "Using TensorFlow backend.\n"
     ]
    }
   ],
   "source": [
    "from keras.utils import to_categorical\n",
    "import numpy as np\n",
    "import pandas as pd\n",
    "from sklearn.model_selection import train_test_split\n",
    "\n",
    "# 載入資料\n",
    "data_train = pd.read_csv('data/fashion-mnist_train.csv')\n",
    "data_test = pd.read_csv('data/fashion-mnist_test.csv')\n",
    "\n",
    "num_classes = 10 # 標籤總共有10類\n",
    "img_rows, img_cols, img_channels = 28, 28, 1 # 圖像是 28像素 x 28像素 (灰階: 1)\n",
    "input_shape = (img_rows, img_cols, img_channels) # (圖像的height, 圖像的width, 圖像的顏色通道數channel)\n",
    "\n",
    "X = np.array(data_train.iloc[:, 1:]) # Dataframe中 idx(1 ~ 784)的欄都是像素值\n",
    "\n",
    "# 進行標籤的one-hot編碼\n",
    "y = to_categorical(np.array(data_train.iloc[:, 0])) # Dataframe 中 idx(0)的欄是標籤\n",
    "\n",
    "# 把訓練資料進行拆分成訓練(80%)與驗證(20%)資料集\n",
    "X_train, X_val, y_train, y_val = train_test_split(X, y, test_size=0.2, random_state=13)\n",
    "\n",
    "# 測試資料的處理\n",
    "X_test = np.array(data_test.iloc[:, 1:])\n",
    "y_test = to_categorical(np.array(data_test.iloc[:, 0]))\n",
    "\n",
    "# 對向量進行shape的轉換以符合訓練的input要求\n",
    "X_train = X_train.reshape(X_train.shape[0], img_rows, img_cols, 1)\n",
    "X_test = X_test.reshape(X_test.shape[0], img_rows, img_cols, 1)\n",
    "X_val = X_val.reshape(X_val.shape[0], img_rows, img_cols, 1)\n",
    "\n",
    "# 對每個像素進行型別轉換與歸一化\n",
    "X_train = X_train.astype('float32')/255\n",
    "X_test = X_test.astype('float32')/255\n",
    "X_val = X_val.astype('float32')/255"
   ]
  },
  {
   "cell_type": "markdown",
   "metadata": {},
   "source": [
    "## 網絡模型 (Model)構建\n",
    "\n",
    "現在我們來定義我們的模型架構。我們將使用具有6個卷積層的前饋(feed-forward)網絡，然後是完全連接的隱藏層。\n",
    "我們也將在兩者之間使用Dropout層來防止網絡\"過擬合(overfitting)\"。"
   ]
  },
  {
   "cell_type": "code",
   "execution_count": 3,
   "metadata": {
    "collapsed": true
   },
   "outputs": [],
   "source": [
    "import keras\n",
    "from keras.models import Sequential\n",
    "from keras.layers import Dense, Dropout, Flatten\n",
    "from keras.layers import Conv2D, MaxPooling2D\n",
    "\n",
    "def create_model_six_conv(input_shape):\n",
    "    model = Sequential()\n",
    "    model.add(Conv2D(32, (3, 3), padding='same', activation='relu', kernel_initializer='he_normal', input_shape=input_shape))\n",
    "    model.add(Conv2D(32, (3, 3), activation='relu'))\n",
    "    model.add(MaxPooling2D(pool_size=(2, 2)))\n",
    "    model.add(Dropout(0.2))\n",
    "    \n",
    "    model.add(Conv2D(64, (3, 3), padding='same', activation='relu'))\n",
    "    model.add(Conv2D(64, (3, 3), activation='relu'))\n",
    "    model.add(MaxPooling2D(pool_size=(2, 2)))\n",
    "    model.add(Dropout(0.2))\n",
    "    \n",
    "    model.add(Conv2D(128, (3, 3), padding='same', activation='relu'))\n",
    "    model.add(Conv2D(128, (3, 3), activation='relu'))\n",
    "    model.add(MaxPooling2D(pool_size=(2, 2)))\n",
    "    model.add(Dropout(0.2))\n",
    "    \n",
    "    model.add(Flatten())\n",
    "    model.add(Dense(128, activation='relu'))\n",
    "    model.add(Dropout(0.5))\n",
    "    \n",
    "    model.add(Dense(num_classes, activation='softmax'))\n",
    "    \n",
    "    return model;"
   ]
  },
  {
   "cell_type": "markdown",
   "metadata": {},
   "source": [
    "在訓練模型之前，我們需要將模型配置為學習算法並進行編譯。我們需要指定: loss: 損失函數，我們要優化。我們不能使用MSE，因為它是不連續的數值。因此，我們使用：categorical_crossentropy optimizer: 我們使用標準隨機梯度下降(Stochastic gradient descent)與涅斯捷羅夫動量(Nesterov momentum) metric: 由於我們正在處理一個分類問題，我們用度量是accuracy。"
   ]
  },
  {
   "cell_type": "code",
   "execution_count": 4,
   "metadata": {},
   "outputs": [
    {
     "name": "stdout",
     "output_type": "stream",
     "text": [
      "_________________________________________________________________\n",
      "Layer (type)                 Output Shape              Param #   \n",
      "=================================================================\n",
      "conv2d_1 (Conv2D)            (None, 28, 28, 32)        320       \n",
      "_________________________________________________________________\n",
      "conv2d_2 (Conv2D)            (None, 26, 26, 32)        9248      \n",
      "_________________________________________________________________\n",
      "max_pooling2d_1 (MaxPooling2 (None, 13, 13, 32)        0         \n",
      "_________________________________________________________________\n",
      "dropout_1 (Dropout)          (None, 13, 13, 32)        0         \n",
      "_________________________________________________________________\n",
      "conv2d_3 (Conv2D)            (None, 13, 13, 64)        18496     \n",
      "_________________________________________________________________\n",
      "conv2d_4 (Conv2D)            (None, 11, 11, 64)        36928     \n",
      "_________________________________________________________________\n",
      "max_pooling2d_2 (MaxPooling2 (None, 5, 5, 64)          0         \n",
      "_________________________________________________________________\n",
      "dropout_2 (Dropout)          (None, 5, 5, 64)          0         \n",
      "_________________________________________________________________\n",
      "conv2d_5 (Conv2D)            (None, 5, 5, 128)         73856     \n",
      "_________________________________________________________________\n",
      "conv2d_6 (Conv2D)            (None, 3, 3, 128)         147584    \n",
      "_________________________________________________________________\n",
      "max_pooling2d_3 (MaxPooling2 (None, 1, 1, 128)         0         \n",
      "_________________________________________________________________\n",
      "dropout_3 (Dropout)          (None, 1, 1, 128)         0         \n",
      "_________________________________________________________________\n",
      "flatten_1 (Flatten)          (None, 128)               0         \n",
      "_________________________________________________________________\n",
      "dense_1 (Dense)              (None, 128)               16512     \n",
      "_________________________________________________________________\n",
      "dropout_4 (Dropout)          (None, 128)               0         \n",
      "_________________________________________________________________\n",
      "dense_2 (Dense)              (None, 10)                1290      \n",
      "=================================================================\n",
      "Total params: 304,234\n",
      "Trainable params: 304,234\n",
      "Non-trainable params: 0\n",
      "_________________________________________________________________\n"
     ]
    }
   ],
   "source": [
    "from keras.optimizers import Adam\n",
    "\n",
    "batch_size = 256\n",
    "epochs = 50\n",
    "\n",
    "#圖像的shape是 (28,28,1)\n",
    "model = create_model_six_conv((img_rows, img_cols, img_channels)) # 初始化一個模型\n",
    "\n",
    "# 秀出模型架構\n",
    "model.summary() \n",
    "\n",
    "model.compile(loss=keras.losses.categorical_crossentropy,\n",
    "              optimizer=keras.optimizers.Adam(),\n",
    "              metrics=['accuracy'])"
   ]
  },
  {
   "cell_type": "markdown",
   "metadata": {},
   "source": [
    "## 訓練 (Training)\n",
    "\n",
    "現在，我們的模型已經準備好了。在訓練期間，我們的模型將進行迭代批量訓練，每個次的訓練資料的大小為batch_size。對於每批次，模型將會計算出梯度(gradient)，並自動更新網絡的權重。對所有訓練集的一次迭代被稱為一次的循環(epoch)。訓練通常會一直進行到損失收斂於一個常數。"
   ]
  },
  {
   "cell_type": "code",
   "execution_count": 5,
   "metadata": {},
   "outputs": [
    {
     "name": "stdout",
     "output_type": "stream",
     "text": [
      "Train on 48000 samples, validate on 12000 samples\n",
      "Epoch 1/50\n",
      "48000/48000 [==============================] - 5s 102us/step - loss: 0.8780 - acc: 0.6749 - val_loss: 0.4904 - val_acc: 0.8204\n",
      "Epoch 2/50\n",
      "48000/48000 [==============================] - 3s 67us/step - loss: 0.5011 - acc: 0.8215 - val_loss: 0.3820 - val_acc: 0.8568\n",
      "Epoch 3/50\n",
      "48000/48000 [==============================] - 3s 67us/step - loss: 0.4042 - acc: 0.8578 - val_loss: 0.3313 - val_acc: 0.8778\n",
      "Epoch 4/50\n",
      "48000/48000 [==============================] - 3s 67us/step - loss: 0.3519 - acc: 0.8760 - val_loss: 0.2941 - val_acc: 0.8930\n",
      "Epoch 5/50\n",
      "48000/48000 [==============================] - 3s 65us/step - loss: 0.3236 - acc: 0.8857 - val_loss: 0.2961 - val_acc: 0.8952\n",
      "Epoch 6/50\n",
      "48000/48000 [==============================] - 3s 65us/step - loss: 0.2950 - acc: 0.8964 - val_loss: 0.2623 - val_acc: 0.8992\n",
      "Epoch 7/50\n",
      "48000/48000 [==============================] - 3s 63us/step - loss: 0.2729 - acc: 0.9035 - val_loss: 0.2660 - val_acc: 0.8966\n",
      "Epoch 8/50\n",
      "48000/48000 [==============================] - 3s 66us/step - loss: 0.2564 - acc: 0.9082 - val_loss: 0.2405 - val_acc: 0.9098\n",
      "Epoch 9/50\n",
      "48000/48000 [==============================] - 3s 67us/step - loss: 0.2494 - acc: 0.9130 - val_loss: 0.2397 - val_acc: 0.9116\n",
      "Epoch 10/50\n",
      "48000/48000 [==============================] - 3s 66us/step - loss: 0.2299 - acc: 0.9180 - val_loss: 0.2614 - val_acc: 0.9069\n",
      "Epoch 11/50\n",
      "48000/48000 [==============================] - 3s 67us/step - loss: 0.2216 - acc: 0.9216 - val_loss: 0.2224 - val_acc: 0.9180\n",
      "Epoch 12/50\n",
      "48000/48000 [==============================] - 3s 71us/step - loss: 0.2129 - acc: 0.9237 - val_loss: 0.2228 - val_acc: 0.9183\n",
      "Epoch 13/50\n",
      "48000/48000 [==============================] - 3s 68us/step - loss: 0.2026 - acc: 0.9270 - val_loss: 0.2252 - val_acc: 0.9187\n",
      "Epoch 14/50\n",
      "48000/48000 [==============================] - 3s 66us/step - loss: 0.1915 - acc: 0.9306 - val_loss: 0.2192 - val_acc: 0.9238\n",
      "Epoch 15/50\n",
      "48000/48000 [==============================] - 3s 66us/step - loss: 0.1909 - acc: 0.9314 - val_loss: 0.2092 - val_acc: 0.9245\n",
      "Epoch 16/50\n",
      "48000/48000 [==============================] - 3s 66us/step - loss: 0.1792 - acc: 0.9349 - val_loss: 0.2119 - val_acc: 0.9249\n",
      "Epoch 17/50\n",
      "48000/48000 [==============================] - 3s 66us/step - loss: 0.1724 - acc: 0.9374 - val_loss: 0.2119 - val_acc: 0.9240\n",
      "Epoch 18/50\n",
      "48000/48000 [==============================] - 3s 65us/step - loss: 0.1694 - acc: 0.9384 - val_loss: 0.2120 - val_acc: 0.9226\n",
      "Epoch 19/50\n",
      "48000/48000 [==============================] - 3s 66us/step - loss: 0.1598 - acc: 0.9412 - val_loss: 0.2083 - val_acc: 0.9277\n",
      "Epoch 20/50\n",
      "48000/48000 [==============================] - 3s 68us/step - loss: 0.1555 - acc: 0.9432 - val_loss: 0.2025 - val_acc: 0.9291\n",
      "Epoch 21/50\n",
      "48000/48000 [==============================] - 3s 66us/step - loss: 0.1488 - acc: 0.9453 - val_loss: 0.2107 - val_acc: 0.9277\n",
      "Epoch 22/50\n",
      "48000/48000 [==============================] - 3s 68us/step - loss: 0.1481 - acc: 0.9469 - val_loss: 0.2045 - val_acc: 0.9311\n",
      "Epoch 23/50\n",
      "48000/48000 [==============================] - 3s 67us/step - loss: 0.1395 - acc: 0.9485 - val_loss: 0.2172 - val_acc: 0.9269\n",
      "Epoch 24/50\n",
      "48000/48000 [==============================] - 3s 66us/step - loss: 0.1368 - acc: 0.9496 - val_loss: 0.2102 - val_acc: 0.9297\n",
      "Epoch 25/50\n",
      "48000/48000 [==============================] - 3s 67us/step - loss: 0.1335 - acc: 0.9509 - val_loss: 0.2094 - val_acc: 0.9277\n",
      "Epoch 26/50\n",
      "48000/48000 [==============================] - 3s 68us/step - loss: 0.1315 - acc: 0.9516 - val_loss: 0.2120 - val_acc: 0.9298\n",
      "Epoch 27/50\n",
      "48000/48000 [==============================] - 3s 69us/step - loss: 0.1242 - acc: 0.9555 - val_loss: 0.2151 - val_acc: 0.9301\n",
      "Epoch 28/50\n",
      "48000/48000 [==============================] - 3s 65us/step - loss: 0.1189 - acc: 0.9556 - val_loss: 0.2089 - val_acc: 0.9302\n",
      "Epoch 29/50\n",
      "48000/48000 [==============================] - 3s 67us/step - loss: 0.1161 - acc: 0.9573 - val_loss: 0.2177 - val_acc: 0.9326\n",
      "Epoch 30/50\n",
      "48000/48000 [==============================] - 3s 64us/step - loss: 0.1107 - acc: 0.9589 - val_loss: 0.2333 - val_acc: 0.9285\n",
      "Epoch 31/50\n",
      "48000/48000 [==============================] - 3s 65us/step - loss: 0.1100 - acc: 0.9589 - val_loss: 0.2236 - val_acc: 0.9298\n",
      "Epoch 32/50\n",
      "48000/48000 [==============================] - 3s 65us/step - loss: 0.1091 - acc: 0.9589 - val_loss: 0.2292 - val_acc: 0.9302\n",
      "Epoch 33/50\n",
      "48000/48000 [==============================] - 3s 66us/step - loss: 0.1084 - acc: 0.9595 - val_loss: 0.2251 - val_acc: 0.9281\n",
      "Epoch 34/50\n",
      "48000/48000 [==============================] - 3s 65us/step - loss: 0.1028 - acc: 0.9624 - val_loss: 0.2481 - val_acc: 0.9297\n",
      "Epoch 35/50\n",
      "48000/48000 [==============================] - 3s 64us/step - loss: 0.0979 - acc: 0.9639 - val_loss: 0.2284 - val_acc: 0.9306\n",
      "Epoch 36/50\n",
      "48000/48000 [==============================] - 3s 65us/step - loss: 0.0958 - acc: 0.9647 - val_loss: 0.2317 - val_acc: 0.9302\n",
      "Epoch 37/50\n",
      "48000/48000 [==============================] - 3s 65us/step - loss: 0.0923 - acc: 0.9659 - val_loss: 0.2404 - val_acc: 0.9286\n",
      "Epoch 38/50\n",
      "48000/48000 [==============================] - 3s 67us/step - loss: 0.0933 - acc: 0.9656 - val_loss: 0.2475 - val_acc: 0.9318\n",
      "Epoch 39/50\n",
      "48000/48000 [==============================] - 3s 66us/step - loss: 0.0951 - acc: 0.9650 - val_loss: 0.2399 - val_acc: 0.9312\n",
      "Epoch 40/50\n",
      "48000/48000 [==============================] - 3s 67us/step - loss: 0.0892 - acc: 0.9681 - val_loss: 0.2369 - val_acc: 0.9302\n",
      "Epoch 41/50\n",
      "48000/48000 [==============================] - 3s 69us/step - loss: 0.0878 - acc: 0.9685 - val_loss: 0.2377 - val_acc: 0.9305\n",
      "Epoch 42/50\n",
      "48000/48000 [==============================] - 3s 66us/step - loss: 0.0830 - acc: 0.9686 - val_loss: 0.2558 - val_acc: 0.9311\n",
      "Epoch 43/50\n",
      "48000/48000 [==============================] - 3s 68us/step - loss: 0.0897 - acc: 0.9672 - val_loss: 0.2389 - val_acc: 0.9315\n",
      "Epoch 44/50\n",
      "48000/48000 [==============================] - 3s 64us/step - loss: 0.0806 - acc: 0.9699 - val_loss: 0.2555 - val_acc: 0.9302\n",
      "Epoch 45/50\n",
      "48000/48000 [==============================] - 3s 64us/step - loss: 0.0822 - acc: 0.9707 - val_loss: 0.2471 - val_acc: 0.9305\n",
      "Epoch 46/50\n",
      "48000/48000 [==============================] - 3s 69us/step - loss: 0.0800 - acc: 0.9714 - val_loss: 0.2575 - val_acc: 0.9328\n",
      "Epoch 47/50\n",
      "48000/48000 [==============================] - 3s 65us/step - loss: 0.0777 - acc: 0.9717 - val_loss: 0.2442 - val_acc: 0.9335\n",
      "Epoch 48/50\n",
      "48000/48000 [==============================] - 3s 63us/step - loss: 0.0843 - acc: 0.9698 - val_loss: 0.2628 - val_acc: 0.9298\n",
      "Epoch 49/50\n",
      "48000/48000 [==============================] - 3s 65us/step - loss: 0.0746 - acc: 0.9724 - val_loss: 0.2593 - val_acc: 0.9302\n",
      "Epoch 50/50\n",
      "48000/48000 [==============================] - 3s 63us/step - loss: 0.0722 - acc: 0.9742 - val_loss: 0.2649 - val_acc: 0.9326\n"
     ]
    }
   ],
   "source": [
    "history = model.fit(X_train, y_train,\n",
    "          batch_size=batch_size,\n",
    "          epochs=epochs,\n",
    "          verbose=1,\n",
    "          validation_data=(X_val, y_val))"
   ]
  },
  {
   "cell_type": "markdown",
   "metadata": {},
   "source": [
    "### 訓練過程的可視化"
   ]
  },
  {
   "cell_type": "code",
   "execution_count": 6,
   "metadata": {},
   "outputs": [
    {
     "data": {
      "image/png": "[encoded data removed]",
      "text/plain": [
       "<matplotlib.figure.Figure at 0x2a2ddd83ef0>"
      ]
     },
     "metadata": {},
     "output_type": "display_data"
    }
   ],
   "source": [
    "# 透過趨勢圖來觀察訓練與驗證的走向 (特別去觀察是否有\"過擬合(overfitting)\"的現象)\n",
    "import matplotlib.pyplot as plt\n",
    "\n",
    "def plot_train_history(history, train_metrics, val_metrics):\n",
    "    plt.plot(history.history.get(train_metrics),'-o')\n",
    "    plt.plot(history.history.get(val_metrics),'-o')\n",
    "    plt.ylabel(train_metrics)\n",
    "    plt.xlabel('Epochs')\n",
    "    plt.legend(['train', 'validation'])\n",
    "    \n",
    "    \n",
    "plt.figure(figsize=(12,4))\n",
    "plt.subplot(1,2,1)\n",
    "plot_train_history(history, 'loss','val_loss')\n",
    "\n",
    "plt.subplot(1,2,2)\n",
    "plot_train_history(history, 'acc','val_acc')\n",
    "\n",
    "plt.show()"
   ]
  },
  {
   "cell_type": "markdown",
   "metadata": {},
   "source": [
    "分析一下訓練過程, 我們可以很明顯看到大約在第10個epochs之後整個模型就開始在驗證資料集有過擬合(overfitting)的現象。\n",
    "如果要繼續調優的話, 可以朝向增加資料集或進行一些降維的處理。"
   ]
  },
  {
   "cell_type": "markdown",
   "metadata": {},
   "source": [
    "## 驗證評估 (Evaluation)"
   ]
  },
  {
   "cell_type": "code",
   "execution_count": 7,
   "metadata": {},
   "outputs": [
    {
     "name": "stdout",
     "output_type": "stream",
     "text": [
      "Test loss: 0.250863265352\n",
      "Test accuracy: 0.9343\n"
     ]
    }
   ],
   "source": [
    "score = model.evaluate(X_test, y_test, verbose=0)\n",
    "\n",
    "print('Test loss:', score[0])\n",
    "print('Test accuracy:', score[1])"
   ]
  },
  {
   "cell_type": "markdown",
   "metadata": {},
   "source": [
    "### 93.8%的正確率 ~~ 太神奇了, 傑克!!\n",
    "\n",
    "事實證明，卷積神經網絡分類器比在[這里](http://fashion-mnist.s3-website.eu-central-1.amazonaws.com/)報告的最好的分類器(SVM) 89.7%還要更好。"
   ]
  },
  {
   "cell_type": "markdown",
   "metadata": {},
   "source": [
    "### 每一種類別的預測正確率"
   ]
  },
  {
   "cell_type": "code",
   "execution_count": 8,
   "metadata": {},
   "outputs": [
    {
     "name": "stdout",
     "output_type": "stream",
     "text": [
      "10000/10000 [==============================] - 0s 50us/step\n"
     ]
    }
   ],
   "source": [
    "#get the predictions for the test data\n",
    "predicted_classes = model.predict_classes(X_test)\n",
    "\n",
    "#get the indices to be plotted\n",
    "y_true = data_test.iloc[:, 0]\n",
    "corrects = np.nonzero(predicted_classes==y_true)[0]\n",
    "incorrects = np.nonzero(predicted_classes!=y_true)[0]"
   ]
  },
  {
   "cell_type": "code",
   "execution_count": 9,
   "metadata": {},
   "outputs": [
    {
     "name": "stdout",
     "output_type": "stream",
     "text": [
      "             precision    recall  f1-score   support\n",
      "\n",
      "    Class 0       0.88      0.90      0.89      1000\n",
      "    Class 1       0.99      0.99      0.99      1000\n",
      "    Class 2       0.91      0.90      0.90      1000\n",
      "    Class 3       0.92      0.95      0.93      1000\n",
      "    Class 4       0.91      0.90      0.90      1000\n",
      "    Class 5       0.99      0.98      0.99      1000\n",
      "    Class 6       0.83      0.79      0.81      1000\n",
      "    Class 7       0.96      0.97      0.97      1000\n",
      "    Class 8       0.99      0.99      0.99      1000\n",
      "    Class 9       0.96      0.98      0.97      1000\n",
      "\n",
      "avg / total       0.93      0.93      0.93     10000\n",
      "\n"
     ]
    }
   ],
   "source": [
    "from sklearn.metrics import classification_report\n",
    "\n",
    "target_names = [\"Class {}\".format(i) for i in range(num_classes)]\n",
    "print(classification_report(y_true, predicted_classes, target_names=target_names))"
   ]
  },
  {
   "cell_type": "markdown",
   "metadata": {},
   "source": [
    "顯然，我們的分類器對第6類別的圖像辨識在精度和召回方面的表現相對差。也許我們會在可視化正確和錯誤的預測之後獲得更多的洞察力。"
   ]
  },
  {
   "cell_type": "markdown",
   "metadata": {},
   "source": [
    "#### 正確辨識的圖像範例:"
   ]
  },
  {
   "cell_type": "code",
   "execution_count": 10,
   "metadata": {},
   "outputs": [
    {
     "data": {
      "image/png": "[encoded data removed]",
      "text/plain": [
       "<matplotlib.figure.Figure at 0x2a2ddec09e8>"
      ]
     },
     "metadata": {},
     "output_type": "display_data"
    }
   ],
   "source": [
    "for i, correct in enumerate(corrects[:9]):\n",
    "    plt.subplot(3,3,i+1)\n",
    "    plt.imshow(X_test[correct].reshape(28,28), cmap='gray', interpolation='none')\n",
    "    plt.title(\"Predicted {}, Class {}\".format(predicted_classes[correct], y_true[correct]))\n",
    "    plt.tight_layout()\n",
    "    \n",
    "plt.show()"
   ]
  },
  {
   "cell_type": "markdown",
   "metadata": {},
   "source": [
    "#### 辨識錯誤的圖像範例"
   ]
  },
  {
   "cell_type": "code",
   "execution_count": 12,
   "metadata": {},
   "outputs": [
    {
     "data": {
      "image/png": "[encoded data removed]",
      "text/plain": [
       "<matplotlib.figure.Figure at 0x2a358007860>"
      ]
     },
     "metadata": {},
     "output_type": "display_data"
    }
   ],
   "source": [
    "for i, incorrect in enumerate(incorrects[0:9]):\n",
    "    plt.subplot(3,3,i+1)\n",
    "    plt.imshow(X_test[incorrect].reshape(28,28), cmap='gray', interpolation='none')\n",
    "    plt.title(\"Predicted {}, Class {}\".format(predicted_classes[incorrect], y_true[incorrect]))\n",
    "    plt.tight_layout()\n",
    "    \n",
    "plt.show()"
   ]
  },
  {
   "cell_type": "markdown",
   "metadata": {},
   "source": [
    "## 總結 (Conclusion)\n",
    "\n",
    "在這篇文章中有一些個人學習到的一些有趣的重點:\n",
    "* 深度學習也可以很摩登很現代感\n",
    "* 只要有創造力與天馬行空的想法,很多我們眼睛看到的東西都可以變成應用AI的場景 \n",
    "* 每個公司都可以擁有自己的訓練圖像資料集\n",
    "* 電腦宅男也可以跟時尚(fashion)掛上勾了, 下次我們可以說我們是\"AI時尚宅男\" ...太潮了!!"
   ]
  },
  {
   "cell_type": "markdown",
   "metadata": {},
   "source": [
    "### 參考:\n",
    "* [CNN with Keras](https://www.kaggle.com/bugraokcu/cnn-with-keras)\n",
    "* [zalandoresearch/fashion-mnist](https://github.com/zalandoresearch/fashion-mnist)\n",
    "* [Classifying clothes using Tensorflow](https://medium.com/tensorist/classifying-fashion-articles-using-tensorflow-fashion-mnist-f22e8a04728a)\n",
    "* [Keras官網](http://keras.io/)"
   ]
  },
  {
   "cell_type": "code",
   "execution_count": null,
   "metadata": {
    "collapsed": true
   },
   "outputs": [],
   "source": []
  }
 ],
 "metadata": {
  "kernelspec": {
   "display_name": "Python 3",
   "language": "python",
   "name": "python3"
  },
  "language_info": {
   "codemirror_mode": {
    "name": "ipython",
    "version": 3
   },
   "file_extension": ".py",
   "mimetype": "text/x-python",
   "name": "python",
   "nbconvert_exporter": "python",
   "pygments_lexer": "ipython3",
   "version": "3.5.3"
  }
 },
 "nbformat": 4,
 "nbformat_minor": 2
}
