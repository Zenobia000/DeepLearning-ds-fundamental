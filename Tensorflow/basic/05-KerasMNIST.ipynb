{
 "cells": [
  {
   "cell_type": "markdown",
   "metadata": {},
   "source": [
    "# 本筆記將帶大家用Keras建模\n",
    "# 此範例使用MNIST手寫數字資料集"
   ]
  },
  {
   "cell_type": "markdown",
   "metadata": {},
   "source": [
    "---\n",
    "\n",
    "# 索引\n",
    "\n",
    "[1. 資料準備](#I.-資料準備)\n",
    "  * [1.a. 載入圖片](#1.a.-載入圖片)\n",
    "  * [1.b. 利用Pandas可迅速了解每個資料夾裡面有幾張圖片](#1.b.-利用Pandas可迅速了解每個資料夾裡面有幾張圖片)\n",
    "  * [1.c. 將圖片路徑資料切割成三份：取其80%做為train-data。 之後，剩下的20%中的10%做validation data，10%做test data](#1.c.-將圖片路徑資料切割成三份：取其80%做為train-data。-之後，剩下的20%中的10%做validation-data，10%做test-data)\n",
    "  * [1.d. 將圖片載入，存成數值矩陣](#1.d.-將圖片載入，存成數值矩陣)\n",
    "  \n",
    "\n",
    "[2. Softmax Regression](#2.-Softmax-Regression)\n",
    "\n",
    "  * [2.a. 將y 轉成one hot形式](#2.a.-將y-轉成one-hot形式)\n",
    "  * [2.b. 開始建立模型](#2.b.-開始建立模型)\n",
    "  * [2.c. 開始訓練模型](#2.c.-開始訓練模型)\n",
    "  * [2.d. 檢視訓練好的模型用於test data有多少準確率](#2.d.-檢視訓練好的模型用於test-data有多少準確率)\n",
    "  * [2.e. 檢視50筆測試資料的預測結果，以稍為了解預測是否還算ok](#2.e.-檢視50筆測試資料的預測結果，以稍為了解預測是否還算ok)\n",
    "  * [2.f. 畫出模型訓練過程](#2.f.-畫出模型訓練過程)\n",
    "  * [2.g. 儲存模型和權重](#2.g.-儲存模型和權重)\n",
    "  * [2.h. 載入存好的模型和權重](#2.h.-載入存好的模型和權重)\n",
    "  * [2.i. 輸出分類報告](#2.i.-輸出分類報告)\n",
    "  \n",
    "[3. Simple Convolutional Neural Network](#3.-Simple-Convolutional-Neural-Network)\n",
    "\n",
    "  * [3.a. 建立模型](#3.a.-建立模型)\n",
    "  * [3.b. 訓練模型](#3.b.-訓練模型)\n",
    "  * [3.c. 檢視模型訓練結果](#3.c.-檢視模型訓練結果)\n",
    "  * [3.d. 檢視模型準確率](#3.d.-檢視模型準確率)\n",
    "  * [3.e. 檢視分類報告](#3.e.-檢視分類報告)\n",
    "  \n",
    "---"
   ]
  },
  {
   "cell_type": "code",
   "execution_count": 1,
   "metadata": {},
   "outputs": [],
   "source": [
    "import os\n",
    "import tensorflow as tf"
   ]
  },
  {
   "cell_type": "code",
   "execution_count": 2,
   "metadata": {},
   "outputs": [],
   "source": [
    "import numpy as np\n",
    "import matplotlib.pyplot as plt\n",
    "# %matplotlib inline\n",
    "import seaborn as sns\n",
    "sns.set()\n",
    "import pandas as pd\n",
    "import sklearn"
   ]
  },
  {
   "cell_type": "markdown",
   "metadata": {},
   "source": [
    "---"
   ]
  },
  {
   "cell_type": "markdown",
   "metadata": {},
   "source": [
    "### 1. 資料準備"
   ]
  },
  {
   "cell_type": "markdown",
   "metadata": {},
   "source": [
    "#### 1.a. 載入圖片"
   ]
  },
  {
   "cell_type": "code",
   "execution_count": 25,
   "metadata": {},
   "outputs": [],
   "source": [
    "# def filePathsGen(rootPath):\n",
    "#     '''此函數將rootPath資料夾目錄中的所有圖片路徑資訊儲存至一個清單內。'''\n",
    "#     paths = []\n",
    "#     dirs = []\n",
    "#     for dirPath,dirNames,fileNames in os.walk(rootPath):\n",
    "#         for fileName in fileNames:\n",
    "#             fullPath = os.path.join(dirPath, fileName)\n",
    "#             paths.append((int(dirPath[len(rootPath) ]), fullPath))\n",
    "#         dirs.append(dirNames)\n",
    "#     return dirs, paths"
   ]
  },
  {
   "cell_type": "code",
   "execution_count": 9,
   "metadata": {},
   "outputs": [],
   "source": [
    "from pathlib import Path"
   ]
  },
  {
   "cell_type": "markdown",
   "metadata": {},
   "source": [
    "目標: 整理出 `[\n",
    "(class_id_1, image_path_1),\n",
    "(class_id_2, image_path_2),\n",
    "...\n",
    "]`"
   ]
  },
  {
   "cell_type": "code",
   "execution_count": 26,
   "metadata": {},
   "outputs": [],
   "source": [
    "data_root_dir = Path(\"../datasets/mnist/\")\n",
    "\n",
    "paths = [\n",
    "    (path.parent.name, str(path)) \n",
    "    for path in data_root_dir.glob(\"*/*.jpg\") \n",
    "    if \"._\" not in str(path)\n",
    "]"
   ]
  },
  {
   "cell_type": "code",
   "execution_count": 28,
   "metadata": {},
   "outputs": [
    {
     "data": {
      "text/html": [
       "<div>\n",
       "<style scoped>\n",
       "    .dataframe tbody tr th:only-of-type {\n",
       "        vertical-align: middle;\n",
       "    }\n",
       "\n",
       "    .dataframe tbody tr th {\n",
       "        vertical-align: top;\n",
       "    }\n",
       "\n",
       "    .dataframe thead th {\n",
       "        text-align: right;\n",
       "    }\n",
       "</style>\n",
       "<table border=\"1\" class=\"dataframe\">\n",
       "  <thead>\n",
       "    <tr style=\"text-align: right;\">\n",
       "      <th></th>\n",
       "      <th>class</th>\n",
       "      <th>path</th>\n",
       "    </tr>\n",
       "  </thead>\n",
       "  <tbody>\n",
       "    <tr>\n",
       "      <th>0</th>\n",
       "      <td>0</td>\n",
       "      <td>..\\datasets\\mnist\\0\\00001.jpg</td>\n",
       "    </tr>\n",
       "    <tr>\n",
       "      <th>1</th>\n",
       "      <td>0</td>\n",
       "      <td>..\\datasets\\mnist\\0\\00021.jpg</td>\n",
       "    </tr>\n",
       "    <tr>\n",
       "      <th>2</th>\n",
       "      <td>0</td>\n",
       "      <td>..\\datasets\\mnist\\0\\00034.jpg</td>\n",
       "    </tr>\n",
       "  </tbody>\n",
       "</table>\n",
       "</div>"
      ],
      "text/plain": [
       "  class                           path\n",
       "0     0  ..\\datasets\\mnist\\0\\00001.jpg\n",
       "1     0  ..\\datasets\\mnist\\0\\00021.jpg\n",
       "2     0  ..\\datasets\\mnist\\0\\00034.jpg"
      ]
     },
     "execution_count": 28,
     "metadata": {},
     "output_type": "execute_result"
    }
   ],
   "source": [
    "# dirs,paths=filePathsGen('../datasets/mnist/') #載入圖片路徑\n",
    "\n",
    "dfPath = pd.DataFrame(paths, columns=['class','path']) #圖片路徑存成Pandas資料表\n",
    "dfPath.head(3) # 看資料表前3個row"
   ]
  },
  {
   "cell_type": "markdown",
   "metadata": {},
   "source": [
    "[回索引](#索引)"
   ]
  },
  {
   "cell_type": "markdown",
   "metadata": {},
   "source": [
    "#### 1.b. 利用Pandas可迅速了解每個資料夾裡面有幾張圖片"
   ]
  },
  {
   "cell_type": "code",
   "execution_count": 29,
   "metadata": {},
   "outputs": [
    {
     "data": {
      "text/plain": [
       "<AxesSubplot: xlabel='class'>"
      ]
     },
     "execution_count": 29,
     "metadata": {},
     "output_type": "execute_result"
    },
    {
     "data": {
      "image/png": "[encoded data removed]",
      "text/plain": [
       "<Figure size 640x480 with 1 Axes>"
      ]
     },
     "metadata": {},
     "output_type": "display_data"
    }
   ],
   "source": [
    "#依照class分群後，數各群的數量，並繪圖\n",
    "dfCountPerClass = dfPath.groupby('class').count()\n",
    "dfCountPerClass.rename(columns={'path':'amount of figures'}, inplace=True)\n",
    "dfCountPerClass.plot(kind='bar', rot=0)"
   ]
  },
  {
   "cell_type": "markdown",
   "metadata": {},
   "source": [
    "[回索引](#索引)"
   ]
  },
  {
   "cell_type": "markdown",
   "metadata": {},
   "source": [
    "####  1.c. 將圖片路徑資料切割成三份：取其80%做為train data。 之後，剩下的20%中取一半做validation data，另一半做test data"
   ]
  },
  {
   "cell_type": "code",
   "execution_count": 34,
   "metadata": {},
   "outputs": [
    {
     "name": "stdout",
     "output_type": "stream",
     "text": [
      "shape(all figures)=\t\t (60000, 2)\n",
      "shape(fraction of figures)=\t (12000, 2)\n",
      "shape(train)=\t\t\t (9600, 2)\n",
      "shape(trainVal)=\t\t (1200, 2)\n",
      "shape(test)=\t\t\t (1200, 2)\n"
     ]
    },
    {
     "data": {
      "image/png": "[encoded data removed]",
      "text/plain": [
       "<Figure size 640x480 with 1 Axes>"
      ]
     },
     "metadata": {},
     "output_type": "display_data"
    },
    {
     "data": {
      "image/png": "[encoded data removed]",
      "text/plain": [
       "<Figure size 640x480 with 1 Axes>"
      ]
     },
     "metadata": {},
     "output_type": "display_data"
    },
    {
     "data": {
      "image/png": "[encoded data removed]",
      "text/plain": [
       "<Figure size 640x480 with 1 Axes>"
      ]
     },
     "metadata": {},
     "output_type": "display_data"
    }
   ],
   "source": [
    "dfFrac=dfPath.sample(frac=0.2) # 打亂一下path data\n",
    "\n",
    "train=dfFrac.sample(frac=0.8) # 將path data隨機取樣，80%的path data當train\n",
    "test=dfFrac.drop(train.index) # 20%的path data當test\n",
    "\n",
    "trainVal=test.sample(frac=0.5)\n",
    "test=test.drop(trainVal.index)\n",
    "\n",
    "print('shape(all figures)=\\t\\t', dfPath.shape)\n",
    "print('shape(fraction of figures)=\\t', dfFrac.shape)\n",
    "print('shape(train)=\\t\\t\\t', train.shape)\n",
    "print('shape(trainVal)=\\t\\t', trainVal.shape)\n",
    "print('shape(test)=\\t\\t\\t', test.shape)\n",
    "\n",
    "#隨便抓三張圖來看\n",
    "for j in range(3):\n",
    "    img=plt.imread(train['path'].iloc[j])\n",
    "    plt.imshow(img, cmap=\"gray\")\n",
    "    plt.show()"
   ]
  },
  {
   "cell_type": "markdown",
   "metadata": {},
   "source": [
    "[回索引](#索引)"
   ]
  },
  {
   "cell_type": "markdown",
   "metadata": {},
   "source": [
    "####  1.d. 將圖片載入，存成數值矩陣"
   ]
  },
  {
   "cell_type": "code",
   "execution_count": 35,
   "metadata": {},
   "outputs": [],
   "source": [
    "def dataLoad(dfPath):\n",
    "    paths = dfPath['path'].values\n",
    "    x = np.zeros((len(paths),28,28), dtype=np.float32)\n",
    "    for j in range(len(paths)):\n",
    "        x[j,:,:] = plt.imread(paths[j]) / 255.\n",
    "\n",
    "    y = dfPath['class'].values\n",
    "    return x, y"
   ]
  },
  {
   "cell_type": "code",
   "execution_count": 36,
   "metadata": {},
   "outputs": [],
   "source": [
    "trainX, trainY = dataLoad(train)\n",
    "trainValX, trainValY = dataLoad(trainVal)\n",
    "testX, testY = dataLoad(test)"
   ]
  },
  {
   "cell_type": "code",
   "execution_count": 37,
   "metadata": {},
   "outputs": [
    {
     "name": "stdout",
     "output_type": "stream",
     "text": [
      "train:\t (9600, 28, 28) (9600,)\n",
      "trainVal: (1200, 28, 28) (1200,)\n",
      "test:\t (1200, 28, 28) (1200,)\n"
     ]
    }
   ],
   "source": [
    "print('train:\\t', trainX.shape, trainY.shape)\n",
    "print('trainVal:', trainValX.shape, trainValY.shape)\n",
    "print('test:\\t', testX.shape, testY.shape)"
   ]
  },
  {
   "cell_type": "markdown",
   "metadata": {},
   "source": [
    "[回索引](#索引)"
   ]
  },
  {
   "cell_type": "markdown",
   "metadata": {},
   "source": [
    "## 2. Softmax Regression"
   ]
  },
  {
   "cell_type": "code",
   "execution_count": 38,
   "metadata": {},
   "outputs": [],
   "source": [
    "from tensorflow.keras.models import Sequential\n",
    "from tensorflow.keras.layers import Dense, Flatten\n",
    "from tensorflow.keras.optimizers import SGD"
   ]
  },
  {
   "cell_type": "markdown",
   "metadata": {},
   "source": [
    "#### 2.a. 將y 轉成one hot形式"
   ]
  },
  {
   "cell_type": "code",
   "execution_count": 39,
   "metadata": {},
   "outputs": [],
   "source": [
    "from sklearn.preprocessing import OneHotEncoder\n",
    "enc = OneHotEncoder()\n",
    "trainYOneHot = enc.fit_transform(trainY.reshape(-1,1)) \\\n",
    "                  .toarray()\n",
    "\n",
    "trainValYOneHot = enc.fit_transform(trainValY.reshape(-1,1)) \\\n",
    "                     .toarray()\n",
    "\n",
    "testYOneHot = enc.fit_transform(testY.reshape(-1,1)) \\\n",
    "                 .toarray()"
   ]
  },
  {
   "cell_type": "code",
   "execution_count": 40,
   "metadata": {},
   "outputs": [
    {
     "name": "stdout",
     "output_type": "stream",
     "text": [
      "train:\t (9600, 28, 28) (9600,)\n",
      "trainVal: (1200, 28, 28) (1200,)\n",
      "test:\t (1200, 28, 28) (1200,)\n"
     ]
    }
   ],
   "source": [
    "print('train:\\t',trainX.shape,trainY.shape)\n",
    "print('trainVal:',trainValX.shape,trainValY.shape)\n",
    "print('test:\\t',testX.shape,testY.shape)"
   ]
  },
  {
   "cell_type": "code",
   "execution_count": 49,
   "metadata": {},
   "outputs": [],
   "source": [
    "# plt.imshow(\n",
    "# trainX[-1, ...], cmap='gray'\n",
    "# )"
   ]
  },
  {
   "cell_type": "markdown",
   "metadata": {},
   "source": [
    "[回索引](#索引)"
   ]
  },
  {
   "cell_type": "markdown",
   "metadata": {},
   "source": [
    "#### 2.b. 開始建立模型"
   ]
  },
  {
   "cell_type": "markdown",
   "metadata": {},
   "source": [
    "The softmax classifier's input: `[BS, num_features]`\n",
    "\n",
    "A batch of images: shape= `[BS, H=28, W=28]` -> Flatten -> `[BS, H * W = 28 * 28 = 768]`\n",
    "\n",
    "-> `Dense(units=10)` + softmax -> `[BS, 10]`"
   ]
  },
  {
   "cell_type": "code",
   "execution_count": null,
   "metadata": {},
   "outputs": [],
   "source": []
  },
  {
   "cell_type": "code",
   "execution_count": 51,
   "metadata": {},
   "outputs": [],
   "source": [
    "from tensorflow.keras.layers import Flatten"
   ]
  },
  {
   "cell_type": "code",
   "execution_count": 54,
   "metadata": {},
   "outputs": [],
   "source": [
    "model = Sequential()\n",
    "model.add(Flatten(input_shape=(28,28)))    # 此層將28X28的資料攤成1維\n",
    "model.add(Dense(10, activation='softmax') )# 此層將以十個神經元輸出十種數字的個別機率\n",
    "\n",
    "sgd=SGD(learning_rate = 0.05) \n",
    "model.compile(optimizer= sgd,             # 告知模型訓練方式 \n",
    "      loss='categorical_crossentropy',\n",
    "      metrics=['accuracy'])"
   ]
  },
  {
   "cell_type": "code",
   "execution_count": 56,
   "metadata": {},
   "outputs": [
    {
     "data": {
      "text/plain": [
       "784"
      ]
     },
     "execution_count": 56,
     "metadata": {},
     "output_type": "execute_result"
    }
   ],
   "source": [
    "28 * 28"
   ]
  },
  {
   "cell_type": "code",
   "execution_count": 55,
   "metadata": {},
   "outputs": [
    {
     "name": "stdout",
     "output_type": "stream",
     "text": [
      "Model: \"sequential_1\"\n",
      "_________________________________________________________________\n",
      " Layer (type)                Output Shape              Param #   \n",
      "=================================================================\n",
      " flatten_1 (Flatten)         (None, 784)               0         \n",
      "                                                                 \n",
      " dense_1 (Dense)             (None, 10)                7850      \n",
      "                                                                 \n",
      "=================================================================\n",
      "Total params: 7,850\n",
      "Trainable params: 7,850\n",
      "Non-trainable params: 0\n",
      "_________________________________________________________________\n"
     ]
    }
   ],
   "source": [
    "# 檢視一下所訓練的模型\n",
    "model.summary()"
   ]
  },
  {
   "cell_type": "markdown",
   "metadata": {},
   "source": [
    "[回索引](#索引)"
   ]
  },
  {
   "cell_type": "code",
   "execution_count": 58,
   "metadata": {},
   "outputs": [],
   "source": [
    "# trainable params = 784 x 10 + 1 x 10 = 7850"
   ]
  },
  {
   "cell_type": "markdown",
   "metadata": {},
   "source": [
    "#### 2.c. 開始訓練模型"
   ]
  },
  {
   "cell_type": "code",
   "execution_count": 59,
   "metadata": {},
   "outputs": [
    {
     "name": "stdout",
     "output_type": "stream",
     "text": [
      "Epoch 1/20\n",
      "75/75 [==============================] - 1s 6ms/step - loss: 2.8775 - accuracy: 0.3489 - val_loss: 1.2465 - val_accuracy: 0.6267\n",
      "Epoch 2/20\n",
      "75/75 [==============================] - 0s 4ms/step - loss: 1.0637 - accuracy: 0.6850 - val_loss: 0.8933 - val_accuracy: 0.7067\n",
      "Epoch 3/20\n",
      "75/75 [==============================] - 0s 4ms/step - loss: 0.7334 - accuracy: 0.7809 - val_loss: 0.6947 - val_accuracy: 0.7867\n",
      "Epoch 4/20\n",
      "75/75 [==============================] - 0s 3ms/step - loss: 0.6266 - accuracy: 0.8114 - val_loss: 0.5847 - val_accuracy: 0.8300\n",
      "Epoch 5/20\n",
      "75/75 [==============================] - 0s 3ms/step - loss: 0.5548 - accuracy: 0.8363 - val_loss: 0.5801 - val_accuracy: 0.8225\n",
      "Epoch 6/20\n",
      "75/75 [==============================] - 0s 4ms/step - loss: 0.5274 - accuracy: 0.8418 - val_loss: 0.5136 - val_accuracy: 0.8517\n",
      "Epoch 7/20\n",
      "75/75 [==============================] - 0s 3ms/step - loss: 0.4799 - accuracy: 0.8554 - val_loss: 0.5282 - val_accuracy: 0.8517\n",
      "Epoch 8/20\n",
      "75/75 [==============================] - 0s 3ms/step - loss: 0.4661 - accuracy: 0.8642 - val_loss: 0.5119 - val_accuracy: 0.8517\n",
      "Epoch 9/20\n",
      "75/75 [==============================] - 0s 3ms/step - loss: 0.4385 - accuracy: 0.8719 - val_loss: 0.4980 - val_accuracy: 0.8467\n",
      "Epoch 10/20\n",
      "75/75 [==============================] - 0s 3ms/step - loss: 0.4345 - accuracy: 0.8753 - val_loss: 0.4691 - val_accuracy: 0.8608\n",
      "Epoch 11/20\n",
      "75/75 [==============================] - 0s 3ms/step - loss: 0.4147 - accuracy: 0.8829 - val_loss: 0.4520 - val_accuracy: 0.8683\n",
      "Epoch 12/20\n",
      "75/75 [==============================] - 0s 3ms/step - loss: 0.4060 - accuracy: 0.8833 - val_loss: 0.4406 - val_accuracy: 0.8708\n",
      "Epoch 13/20\n",
      "75/75 [==============================] - 0s 3ms/step - loss: 0.3983 - accuracy: 0.8860 - val_loss: 0.4845 - val_accuracy: 0.8467\n",
      "Epoch 14/20\n",
      "75/75 [==============================] - 0s 3ms/step - loss: 0.3896 - accuracy: 0.8884 - val_loss: 0.4328 - val_accuracy: 0.8750\n",
      "Epoch 15/20\n",
      "75/75 [==============================] - 0s 4ms/step - loss: 0.3818 - accuracy: 0.8931 - val_loss: 0.4603 - val_accuracy: 0.8625\n",
      "Epoch 16/20\n",
      "75/75 [==============================] - 0s 3ms/step - loss: 0.3791 - accuracy: 0.8903 - val_loss: 0.4774 - val_accuracy: 0.8558\n",
      "Epoch 17/20\n",
      "75/75 [==============================] - 0s 3ms/step - loss: 0.3689 - accuracy: 0.8968 - val_loss: 0.4119 - val_accuracy: 0.8733\n",
      "Epoch 18/20\n",
      "75/75 [==============================] - 0s 3ms/step - loss: 0.3690 - accuracy: 0.8956 - val_loss: 0.4197 - val_accuracy: 0.8767\n",
      "Epoch 19/20\n",
      "75/75 [==============================] - 0s 3ms/step - loss: 0.3628 - accuracy: 0.8954 - val_loss: 0.4140 - val_accuracy: 0.8783\n",
      "Epoch 20/20\n",
      "75/75 [==============================] - 0s 3ms/step - loss: 0.3584 - accuracy: 0.8975 - val_loss: 0.4358 - val_accuracy: 0.8675\n"
     ]
    }
   ],
   "source": [
    "hist = model.fit(\n",
    "    trainX,\n",
    "    trainYOneHot,\n",
    "    epochs=20, \n",
    "    batch_size=128,\n",
    "    validation_data=(trainValX, trainValYOneHot)\n",
    ")"
   ]
  },
  {
   "cell_type": "markdown",
   "metadata": {},
   "source": [
    "[回索引](#索引)"
   ]
  },
  {
   "cell_type": "markdown",
   "metadata": {},
   "source": [
    "#### 2.d. 檢視訓練好的模型用於test data有多少準確率"
   ]
  },
  {
   "cell_type": "code",
   "execution_count": 60,
   "metadata": {},
   "outputs": [
    {
     "name": "stdout",
     "output_type": "stream",
     "text": [
      "10/10 [==============================] - 0s 6ms/step - loss: 0.4121 - accuracy: 0.8758\n",
      "\n",
      "\n",
      "loss=0.4120909571647644 \n",
      "accuracy=0.8758333325386047\n"
     ]
    }
   ],
   "source": [
    "score = model.evaluate(testX, testYOneHot, batch_size=128)\n",
    "print()\n",
    "print('\\nloss=%s \\naccuracy=%s'%(score[0], score[1]))"
   ]
  },
  {
   "cell_type": "markdown",
   "metadata": {},
   "source": [
    "[回索引](#索引)"
   ]
  },
  {
   "cell_type": "markdown",
   "metadata": {},
   "source": [
    "#### 2.e. 檢視50筆測試資料的預測結果，以稍為了解預測是否還算ok"
   ]
  },
  {
   "cell_type": "code",
   "execution_count": 76,
   "metadata": {},
   "outputs": [
    {
     "name": "stdout",
     "output_type": "stream",
     "text": [
      "0 5 5\n",
      "1 4 4\n",
      "2 6 5\n",
      "3 4 4\n",
      "4 7 7\n",
      "5 7 7\n",
      "6 4 4\n",
      "7 9 9\n",
      "8 0 0\n",
      "9 5 5\n",
      "10 3 3\n",
      "11 7 7\n",
      "12 1 1\n",
      "13 2 2\n",
      "14 2 2\n",
      "15 2 2\n",
      "16 4 9\n",
      "17 2 2\n",
      "18 9 9\n",
      "19 3 3\n",
      "20 7 7\n",
      "21 1 1\n",
      "22 7 7\n",
      "23 6 6\n",
      "24 1 1\n",
      "25 0 0\n",
      "26 8 8\n",
      "27 6 6\n",
      "28 1 1\n",
      "29 7 7\n",
      "30 3 3\n",
      "31 0 0\n",
      "32 4 4\n",
      "33 1 1\n",
      "34 0 0\n",
      "35 6 6\n",
      "36 2 2\n",
      "37 3 3\n",
      "38 6 8\n",
      "39 4 9\n",
      "40 3 3\n",
      "41 5 5\n",
      "42 5 1\n",
      "43 1 1\n",
      "44 1 1\n",
      "45 9 9\n",
      "46 5 6\n",
      "47 3 3\n",
      "48 8 8\n",
      "49 7 7\n"
     ]
    }
   ],
   "source": [
    "for idx in range(50):\n",
    "    image = testX[np.newaxis, idx, ...]\n",
    "\n",
    "    y_gt = testY[idx]\n",
    "    y_pred = tf.squeeze(tf.argmax(\n",
    "        model(image), \n",
    "        axis=-1,\n",
    "    )).numpy()\n",
    "\n",
    "    print(idx, y_gt, y_pred)"
   ]
  },
  {
   "cell_type": "code",
   "execution_count": 63,
   "metadata": {},
   "outputs": [],
   "source": [
    "# for j in range(50):\n",
    "#     predY= model.predict(trainValX[j:j+1,:]).argmax()\n",
    "#     trueY= trainValYOneHot[j].argmax()\n",
    "#     print( predY,trueY,end='\\t')"
   ]
  },
  {
   "cell_type": "markdown",
   "metadata": {},
   "source": [
    "[回索引](#索引)"
   ]
  },
  {
   "cell_type": "markdown",
   "metadata": {},
   "source": [
    "#### 2.f. 畫出模型訓練過程"
   ]
  },
  {
   "cell_type": "code",
   "execution_count": 78,
   "metadata": {},
   "outputs": [
    {
     "data": {
      "image/png": "[encoded data removed]",
      "text/plain": [
       "<Figure size 640x480 with 1 Axes>"
      ]
     },
     "metadata": {},
     "output_type": "display_data"
    }
   ],
   "source": [
    "plt.plot(hist.history['accuracy'], ms=5, marker='o', label='accuracy')\n",
    "plt.plot(hist.history['val_accuracy'], ms=5, marker='o', label='val accuracy')\n",
    "plt.legend()\n",
    "plt.show()"
   ]
  },
  {
   "cell_type": "markdown",
   "metadata": {},
   "source": [
    "[回索引](#索引)"
   ]
  },
  {
   "cell_type": "markdown",
   "metadata": {},
   "source": [
    "#### 2.g. 儲存模型和權重"
   ]
  },
  {
   "cell_type": "code",
   "execution_count": null,
   "metadata": {},
   "outputs": [],
   "source": [
    "import json\n",
    "with open('first_try.json', 'w') as jsOut:\n",
    "    json.dump(model.to_json(), jsOut)\n",
    "\n",
    "model.save_weights('first_try.h5')"
   ]
  },
  {
   "cell_type": "markdown",
   "metadata": {},
   "source": [
    "[回索引](#索引)"
   ]
  },
  {
   "cell_type": "markdown",
   "metadata": {},
   "source": [
    "#### 2.h. 載入存好的模型和權重"
   ]
  },
  {
   "cell_type": "code",
   "execution_count": null,
   "metadata": {},
   "outputs": [],
   "source": [
    "from tensorflow.keras.models import model_from_json"
   ]
  },
  {
   "cell_type": "code",
   "execution_count": null,
   "metadata": {},
   "outputs": [],
   "source": [
    "with open('first_try.json', 'r') as jsIn:\n",
    "    modelJson=json.load(jsIn)\n",
    "    \n",
    "modelLoaded=model_from_json(modelJson)\n",
    "modelLoaded.load_weights('first_try.h5')"
   ]
  },
  {
   "cell_type": "code",
   "execution_count": null,
   "metadata": {},
   "outputs": [],
   "source": [
    "modelLoaded.summary()"
   ]
  },
  {
   "cell_type": "markdown",
   "metadata": {},
   "source": [
    "[回索引](#索引)"
   ]
  },
  {
   "cell_type": "markdown",
   "metadata": {},
   "source": [
    "#### 2.i. 輸出分類報告"
   ]
  },
  {
   "cell_type": "code",
   "execution_count": 80,
   "metadata": {},
   "outputs": [],
   "source": [
    "from sklearn.metrics import classification_report"
   ]
  },
  {
   "cell_type": "code",
   "execution_count": 81,
   "metadata": {},
   "outputs": [],
   "source": [
    "predY = model(testX).numpy().argmax(axis=1)"
   ]
  },
  {
   "cell_type": "code",
   "execution_count": 87,
   "metadata": {},
   "outputs": [
    {
     "name": "stdout",
     "output_type": "stream",
     "text": [
      "              precision    recall  f1-score   support\n",
      "\n",
      "           0       0.95      0.94      0.94       129\n",
      "           1       0.93      0.94      0.94       146\n",
      "           2       0.91      0.80      0.85       109\n",
      "           3       0.75      0.94      0.84       121\n",
      "           4       0.94      0.88      0.91       104\n",
      "           5       0.87      0.68      0.76       115\n",
      "           6       0.91      0.94      0.92       124\n",
      "           7       0.91      0.86      0.88       127\n",
      "           8       0.84      0.84      0.84       121\n",
      "           9       0.79      0.91      0.84       104\n",
      "\n",
      "    accuracy                           0.88      1200\n",
      "   macro avg       0.88      0.87      0.87      1200\n",
      "weighted avg       0.88      0.88      0.88      1200\n",
      "\n"
     ]
    }
   ],
   "source": [
    "print(\n",
    "    classification_report(testY.astype(np.int32), predY)\n",
    ")"
   ]
  },
  {
   "cell_type": "markdown",
   "metadata": {},
   "source": [
    "[回索引](#索引)"
   ]
  },
  {
   "cell_type": "markdown",
   "metadata": {},
   "source": [
    "## 3. Simple Convolutional Neural Network"
   ]
  },
  {
   "cell_type": "code",
   "execution_count": 88,
   "metadata": {},
   "outputs": [],
   "source": [
    "trainX = trainX.reshape(*trainX.shape, 1)\n",
    "trainValX = trainValX.reshape(*trainValX.shape, 1)\n",
    "testX = testX.reshape(*testX.shape, 1)"
   ]
  },
  {
   "cell_type": "code",
   "execution_count": 89,
   "metadata": {},
   "outputs": [
    {
     "data": {
      "text/plain": [
       "(9600, 28, 28, 1)"
      ]
     },
     "execution_count": 89,
     "metadata": {},
     "output_type": "execute_result"
    }
   ],
   "source": [
    "trainX.shape"
   ]
  },
  {
   "cell_type": "markdown",
   "metadata": {},
   "source": [
    "#### 3.a. 建立模型"
   ]
  },
  {
   "cell_type": "code",
   "execution_count": 92,
   "metadata": {},
   "outputs": [],
   "source": [
    "from tensorflow.keras.models import Sequential\n",
    "from tensorflow.keras.layers import Dense, Dropout, Flatten,Conv2D, MaxPooling2D\n",
    "from tensorflow.keras.layers import Activation\n",
    "from tensorflow.keras.optimizers import SGD,Adam,Adamax\n",
    "\n",
    "input_shape = (28,28,1)\n",
    "\n",
    "model = Sequential()\n",
    "\n",
    "#conv1\n",
    "model.add(Conv2D(filters=32, kernel_size=(3, 3),\n",
    "                 activation='relu',\n",
    "                 input_shape=input_shape))\n",
    "          \n",
    "#conv2\n",
    "model.add(Conv2D(filters=64,\n",
    "                 kernel_size=(3, 3),\n",
    "                 activation='relu'))\n",
    "#pool1\n",
    "model.add(MaxPooling2D(pool_size=(2, 2)))\n",
    "#conv3\n",
    "model.add(Conv2D(filters=64,\n",
    "                 kernel_size=(3, 3),\n",
    "                 activation='relu'))\n",
    "#pool2\n",
    "model.add(MaxPooling2D(pool_size=(2, 2)))\n",
    "#dropout1\n",
    "model.add(Dropout(0.5))\n",
    "model.add(Flatten())\n",
    "#dense1\n",
    "model.add(Dense(128, activation='relu'))\n",
    "#dropout2\n",
    "model.add(Dropout(0.5))\n",
    "#dense2\n",
    "model.add(Dense(10, activation='softmax'))\n",
    "\n",
    "model.compile(loss='categorical_crossentropy',\n",
    "              optimizer=SGD(learning_rate=0.05),\n",
    "              metrics=['accuracy'])"
   ]
  },
  {
   "cell_type": "markdown",
   "metadata": {},
   "source": [
    "[回索引](#索引)"
   ]
  },
  {
   "cell_type": "markdown",
   "metadata": {},
   "source": [
    "#### 3.b. 訓練模型"
   ]
  },
  {
   "cell_type": "code",
   "execution_count": 93,
   "metadata": {},
   "outputs": [
    {
     "name": "stdout",
     "output_type": "stream",
     "text": [
      "Epoch 1/30\n",
      "75/75 [==============================] - 4s 17ms/step - loss: 2.2746 - accuracy: 0.1644 - val_loss: 2.1810 - val_accuracy: 0.5308\n",
      "Epoch 2/30\n",
      "75/75 [==============================] - 1s 14ms/step - loss: 1.6755 - accuracy: 0.4474 - val_loss: 0.5778 - val_accuracy: 0.8700\n",
      "Epoch 3/30\n",
      "75/75 [==============================] - 1s 14ms/step - loss: 0.6672 - accuracy: 0.7814 - val_loss: 0.2762 - val_accuracy: 0.9333\n",
      "Epoch 4/30\n",
      "75/75 [==============================] - 1s 15ms/step - loss: 0.4358 - accuracy: 0.8605 - val_loss: 0.1974 - val_accuracy: 0.9492\n",
      "Epoch 5/30\n",
      "75/75 [==============================] - 1s 14ms/step - loss: 0.3451 - accuracy: 0.8950 - val_loss: 0.1719 - val_accuracy: 0.9492\n",
      "Epoch 6/30\n",
      "75/75 [==============================] - 1s 14ms/step - loss: 0.2882 - accuracy: 0.9099 - val_loss: 0.1488 - val_accuracy: 0.9567\n",
      "Epoch 7/30\n",
      "75/75 [==============================] - 1s 14ms/step - loss: 0.2609 - accuracy: 0.9225 - val_loss: 0.1327 - val_accuracy: 0.9600\n",
      "Epoch 8/30\n",
      "75/75 [==============================] - 1s 14ms/step - loss: 0.2321 - accuracy: 0.9297 - val_loss: 0.1240 - val_accuracy: 0.9608\n",
      "Epoch 9/30\n",
      "75/75 [==============================] - 1s 14ms/step - loss: 0.2139 - accuracy: 0.9352 - val_loss: 0.1148 - val_accuracy: 0.9608\n",
      "Epoch 10/30\n",
      "75/75 [==============================] - 1s 14ms/step - loss: 0.2019 - accuracy: 0.9370 - val_loss: 0.1091 - val_accuracy: 0.9650\n",
      "Epoch 11/30\n",
      "75/75 [==============================] - 1s 14ms/step - loss: 0.1831 - accuracy: 0.9425 - val_loss: 0.1048 - val_accuracy: 0.9658\n",
      "Epoch 12/30\n",
      "75/75 [==============================] - 1s 14ms/step - loss: 0.1808 - accuracy: 0.9460 - val_loss: 0.1024 - val_accuracy: 0.9658\n",
      "Epoch 13/30\n",
      "75/75 [==============================] - 1s 14ms/step - loss: 0.1679 - accuracy: 0.9490 - val_loss: 0.0961 - val_accuracy: 0.9675\n",
      "Epoch 14/30\n",
      "75/75 [==============================] - 1s 15ms/step - loss: 0.1622 - accuracy: 0.9498 - val_loss: 0.0989 - val_accuracy: 0.9675\n",
      "Epoch 15/30\n",
      "75/75 [==============================] - 1s 14ms/step - loss: 0.1459 - accuracy: 0.9570 - val_loss: 0.0927 - val_accuracy: 0.9675\n",
      "Epoch 16/30\n",
      "75/75 [==============================] - 1s 14ms/step - loss: 0.1410 - accuracy: 0.9590 - val_loss: 0.0862 - val_accuracy: 0.9742\n",
      "Epoch 17/30\n",
      "75/75 [==============================] - 1s 14ms/step - loss: 0.1418 - accuracy: 0.9568 - val_loss: 0.0874 - val_accuracy: 0.9742\n",
      "Epoch 18/30\n",
      "75/75 [==============================] - 1s 14ms/step - loss: 0.1335 - accuracy: 0.9602 - val_loss: 0.0814 - val_accuracy: 0.9758\n",
      "Epoch 19/30\n",
      "75/75 [==============================] - 1s 15ms/step - loss: 0.1298 - accuracy: 0.9592 - val_loss: 0.0799 - val_accuracy: 0.9750\n",
      "Epoch 20/30\n",
      "75/75 [==============================] - 1s 14ms/step - loss: 0.1192 - accuracy: 0.9622 - val_loss: 0.0793 - val_accuracy: 0.9742\n",
      "Epoch 21/30\n",
      "75/75 [==============================] - 1s 14ms/step - loss: 0.1214 - accuracy: 0.9636 - val_loss: 0.0804 - val_accuracy: 0.9733\n",
      "Epoch 22/30\n",
      "75/75 [==============================] - 1s 14ms/step - loss: 0.1155 - accuracy: 0.9645 - val_loss: 0.0787 - val_accuracy: 0.9742\n",
      "Epoch 23/30\n",
      "75/75 [==============================] - 1s 14ms/step - loss: 0.1140 - accuracy: 0.9650 - val_loss: 0.0812 - val_accuracy: 0.9717\n",
      "Epoch 24/30\n",
      "75/75 [==============================] - 1s 14ms/step - loss: 0.1122 - accuracy: 0.9642 - val_loss: 0.0760 - val_accuracy: 0.9792\n",
      "Epoch 25/30\n",
      "75/75 [==============================] - 1s 14ms/step - loss: 0.1091 - accuracy: 0.9667 - val_loss: 0.0730 - val_accuracy: 0.9758\n",
      "Epoch 26/30\n",
      "75/75 [==============================] - 1s 14ms/step - loss: 0.1063 - accuracy: 0.9672 - val_loss: 0.0729 - val_accuracy: 0.9767\n",
      "Epoch 27/30\n",
      "75/75 [==============================] - 1s 14ms/step - loss: 0.1057 - accuracy: 0.9688 - val_loss: 0.0691 - val_accuracy: 0.9783\n",
      "Epoch 28/30\n",
      "75/75 [==============================] - 1s 14ms/step - loss: 0.0959 - accuracy: 0.9711 - val_loss: 0.0671 - val_accuracy: 0.9792\n",
      "Epoch 29/30\n",
      "75/75 [==============================] - 1s 14ms/step - loss: 0.0989 - accuracy: 0.9700 - val_loss: 0.0672 - val_accuracy: 0.9775\n",
      "Epoch 30/30\n",
      "75/75 [==============================] - 1s 14ms/step - loss: 0.0901 - accuracy: 0.9712 - val_loss: 0.0726 - val_accuracy: 0.9783\n",
      "CPU times: total: 42.6 s\n",
      "Wall time: 34.4 s\n"
     ]
    }
   ],
   "source": [
    "%%time \n",
    "hist = model.fit(trainX, trainYOneHot, \n",
    "                 epochs=30,\n",
    "                 batch_size=128,\n",
    "                 validation_data=(trainValX,trainValYOneHot),\n",
    "                )"
   ]
  },
  {
   "cell_type": "markdown",
   "metadata": {},
   "source": [
    "[回索引](#索引)"
   ]
  },
  {
   "cell_type": "markdown",
   "metadata": {},
   "source": [
    "#### 3.c. 檢視模型訓練結果"
   ]
  },
  {
   "cell_type": "code",
   "execution_count": 95,
   "metadata": {},
   "outputs": [
    {
     "data": {
      "image/png": "[encoded data removed]",
      "text/plain": [
       "<Figure size 640x480 with 1 Axes>"
      ]
     },
     "metadata": {},
     "output_type": "display_data"
    }
   ],
   "source": [
    "plt.plot(hist.history['accuracy'], ms=5, marker='o', label='accuracy')\n",
    "plt.plot(hist.history['val_accuracy'], ms=5, marker='o', label='val accuracy')\n",
    "plt.legend()\n",
    "plt.show()"
   ]
  },
  {
   "cell_type": "markdown",
   "metadata": {},
   "source": [
    "[回索引](#索引)"
   ]
  },
  {
   "cell_type": "markdown",
   "metadata": {},
   "source": [
    "#### 3.d. 檢視模型準確率"
   ]
  },
  {
   "cell_type": "code",
   "execution_count": 96,
   "metadata": {},
   "outputs": [
    {
     "name": "stdout",
     "output_type": "stream",
     "text": [
      "10/10 [==============================] - 0s 16ms/step - loss: 0.0547 - accuracy: 0.9842\n",
      "\n",
      "\n",
      "loss=0.054667264223098755 \n",
      "accuracy=0.98416668176651\n"
     ]
    }
   ],
   "source": [
    "score = model.evaluate(testX, testYOneHot, batch_size=128)\n",
    "print()\n",
    "print('\\nloss=%s \\naccuracy=%s'%(score[0], score[1]))"
   ]
  },
  {
   "cell_type": "markdown",
   "metadata": {},
   "source": [
    "[回索引](#索引)"
   ]
  },
  {
   "cell_type": "markdown",
   "metadata": {},
   "source": [
    "#### 3.e. 檢視分類報告"
   ]
  },
  {
   "cell_type": "code",
   "execution_count": 98,
   "metadata": {},
   "outputs": [
    {
     "name": "stdout",
     "output_type": "stream",
     "text": [
      "38/38 [==============================] - 0s 10ms/step\n",
      "              precision    recall  f1-score   support\n",
      "\n",
      "           0       0.99      0.99      0.99       129\n",
      "           1       0.99      0.98      0.99       146\n",
      "           2       0.97      1.00      0.99       109\n",
      "           3       1.00      0.97      0.98       121\n",
      "           4       1.00      0.98      0.99       104\n",
      "           5       0.97      0.97      0.97       115\n",
      "           6       0.98      0.98      0.98       124\n",
      "           7       0.98      0.98      0.98       127\n",
      "           8       0.96      0.99      0.98       121\n",
      "           9       0.99      0.99      0.99       104\n",
      "\n",
      "    accuracy                           0.98      1200\n",
      "   macro avg       0.98      0.98      0.98      1200\n",
      "weighted avg       0.98      0.98      0.98      1200\n",
      "\n"
     ]
    }
   ],
   "source": [
    "from sklearn.metrics import classification_report\n",
    "\n",
    "predY = model.predict(testX).argmax(axis=1)\n",
    "print(classification_report(testY.astype(np.int32), predY))"
   ]
  },
  {
   "cell_type": "markdown",
   "metadata": {},
   "source": [
    "[回索引](#索引)"
   ]
  },
  {
   "cell_type": "code",
   "execution_count": null,
   "metadata": {},
   "outputs": [],
   "source": []
  }
 ],
 "metadata": {
  "kernelspec": {
   "display_name": "Python 3 (ipykernel)",
   "language": "python",
   "name": "python3"
  },
  "language_info": {
   "codemirror_mode": {
    "name": "ipython",
    "version": 3
   },
   "file_extension": ".py",
   "mimetype": "text/x-python",
   "name": "python",
   "nbconvert_exporter": "python",
   "pygments_lexer": "ipython3",
   "version": "3.10.7"
  }
 },
 "nbformat": 4,
 "nbformat_minor": 4
}
