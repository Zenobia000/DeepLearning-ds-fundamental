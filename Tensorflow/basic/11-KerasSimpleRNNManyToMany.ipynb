{
 "cells": [
  {
   "cell_type": "markdown",
   "metadata": {},
   "source": [
    "# 此筆記介紹 many to many這個種類的 RNN。\n",
    "\n",
    "所謂many to many即：\n",
    "\n",
    "於多個(many)連續的時間點讀取資訊(例如：$\\vec{x}_{t=0},\\vec{x}_{t=1},\\vec{x}_{t=2},...,\\vec{x}_{t=n}$)，然後輸出於各相應時間點(many)的預測結果(例如：$\\vec{out}_{t=0},\\vec{out}_{t=1},\\vec{out}_{t=2},...,\\vec{out}_{t=n}$)。"
   ]
  },
  {
   "cell_type": "markdown",
   "metadata": {},
   "source": [
    "---"
   ]
  },
  {
   "cell_type": "code",
   "execution_count": null,
   "metadata": {},
   "outputs": [],
   "source": [
    "import os\n",
    "os.environ[\"CUDA_VISIBLE_DEVICES\"] = \"0\"\n",
    "\n",
    "import tensorflow as tf"
   ]
  },
  {
   "cell_type": "code",
   "execution_count": null,
   "metadata": {},
   "outputs": [],
   "source": [
    "import matplotlib.pyplot as plt\n",
    "%matplotlib inline\n",
    "import seaborn as sns\n",
    "sns.set()\n",
    "import numpy as np\n",
    "\n",
    "import pandas as pd"
   ]
  },
  {
   "cell_type": "code",
   "execution_count": null,
   "metadata": {},
   "outputs": [],
   "source": [
    "from tensorflow.keras.models import Sequential\n",
    "from tensorflow.keras.layers import Embedding, SimpleRNN, LSTM, Dense"
   ]
  },
  {
   "cell_type": "markdown",
   "metadata": {},
   "source": [
    "## 拿$\\cos(t_1)$, $\\cos(t_2)$, ..., $\\cos(t_n)$去預測$\\sin(t_1)$, $\\sin(t_2)$, ..., $\\sin(t_n)$"
   ]
  },
  {
   "cell_type": "markdown",
   "metadata": {},
   "source": [
    "### 1. 畫出$\\sin(x)$和$\\cos(x)$"
   ]
  },
  {
   "cell_type": "code",
   "execution_count": null,
   "metadata": {},
   "outputs": [],
   "source": [
    "line=np.linspace(0, 2.*np.pi, 500)\n",
    "in_x=np.cos(2.*np.pi*line)\n",
    "in_y=np.sin(2.*np.pi*line)\n",
    "\n",
    "plt.scatter(line,in_x)\n",
    "plt.scatter(line,in_y)"
   ]
  },
  {
   "cell_type": "markdown",
   "metadata": {},
   "source": [
    "### 2. 產生用於訓練和測試的資料。"
   ]
  },
  {
   "cell_type": "code",
   "execution_count": null,
   "metadata": {},
   "outputs": [],
   "source": [
    "line = np.linspace(0, 2.*np.pi, 500)\n",
    "in_x = np.cos(2.*np.pi*line)\n",
    "in_y = np.sin(2.*np.pi*line)\n",
    "\n",
    "n = 20 # 每個樣本有20個用於訓練的x\n",
    "m = n  # 每個樣本有20個用於訓練的y\n",
    "num_samples = 200 # 200個樣本\n",
    "\n",
    "# 建立訓練用樣本 train_x, train_y\n",
    "train_x = np.zeros((num_samples,n),\n",
    "                   dtype=np.float32 )\n",
    "train_y = np.zeros((num_samples,m),\n",
    "                   dtype=np.float32 )\n",
    "rand_nums = np.zeros(num_samples,\n",
    "                     dtype=np.int32)\n",
    "\n",
    "for j in range(num_samples):\n",
    "    rand_nums[j] = np.random.choice(500-n)\n",
    "    train_x[j,:] = in_x[rand_nums[j]:rand_nums[j]+n]\n",
    "    train_y[j,:] = in_y[rand_nums[j]:rand_nums[j]+m]\n",
    "\n",
    "# 繪製其中一個樣本的x和y\n",
    "rand_choice = 10\n",
    "plt.plot(line[rand_nums[rand_choice]:rand_nums[rand_choice]+n],\n",
    "         train_x[rand_choice,:], ms=7, marker='o', label=\"train_x\")\n",
    "plt.plot(line[rand_nums[rand_choice]:rand_nums[rand_choice]+n],\n",
    "         train_y[rand_choice,:], ms=7, marker='o', label=\"train_y\")\n",
    "plt.legend()\n",
    "plt.show()\n",
    "\n",
    "train_x = train_x.reshape(*train_x.shape, 1)\n",
    "train_y = train_y.reshape(*train_y.shape, 1)"
   ]
  },
  {
   "cell_type": "markdown",
   "metadata": {},
   "source": [
    "### 3. 建立並訓練模型，將模型的訓練情形畫出。"
   ]
  },
  {
   "cell_type": "code",
   "execution_count": null,
   "metadata": {},
   "outputs": [],
   "source": [
    "from tensorflow.keras.layers import TimeDistributed"
   ]
  },
  {
   "cell_type": "code",
   "execution_count": null,
   "metadata": {
    "scrolled": true
   },
   "outputs": [],
   "source": [
    "hidden_neurons = 30\n",
    "\n",
    "time_dim = 20\n",
    "seq_dim = 1\n",
    "\n",
    "model = Sequential()\n",
    "model.add(SimpleRNN(input_shape=(time_dim,seq_dim),\n",
    "                    units=hidden_neurons,\n",
    "                    return_sequences=True))\n",
    "model.add(TimeDistributed(Dense(1, activation='relu')))\n",
    "model.compile(loss='mean_squared_error', optimizer='Adam', metrics=['mse'])\n",
    "model.summary()\n",
    "\n",
    "history = model.fit(train_x,train_y,\n",
    "                    epochs=100, batch_size=32, validation_split=0.2)\n",
    "\n",
    "plt.yscale('log')\n",
    "plt.plot(history.history['mean_squared_error'], ms=5, marker='o', label='mse')\n",
    "plt.plot(history.history['val_mean_squared_error'], ms=5, marker='o', label='val mse')\n",
    "plt.legend()\n",
    "plt.show()"
   ]
  },
  {
   "cell_type": "code",
   "execution_count": null,
   "metadata": {},
   "outputs": [],
   "source": []
  },
  {
   "cell_type": "markdown",
   "metadata": {},
   "source": [
    "### 4. 建立新模型：將一個SimpleRNN層改成兩個，訓練並畫出訓練結果。"
   ]
  },
  {
   "cell_type": "code",
   "execution_count": null,
   "metadata": {
    "scrolled": true
   },
   "outputs": [],
   "source": [
    "hidden_neurons = 100\n",
    "\n",
    "time_dim = 20\n",
    "seq_dim = 1\n",
    "\n",
    "model = Sequential()\n",
    "model.add(SimpleRNN(input_shape=(time_dim,seq_dim),\n",
    "                    units=hidden_neurons,\n",
    "                    return_sequences=True))\n",
    "model.add(SimpleRNN(units=hidden_neurons,\n",
    "                    return_sequences=True))\n",
    "model.add(TimeDistributed(Dense(1,activation='tanh')))\n",
    "model.compile(loss='mean_squared_error',\n",
    "              optimizer='adam',\n",
    "              metrics=['mse'])\n",
    "model.summary()\n",
    "\n",
    "history=model.fit(train_x,train_y,\n",
    "                  epochs=100, batch_size=20, validation_split=0.2)\n",
    "\n",
    "plt.yscale('log')\n",
    "plt.plot(history.history['mean_squared_error'], ms=5, marker='o', label='mse')\n",
    "plt.plot(history.history['val_mean_squared_error'], ms=5, marker='o', label='val mse')\n",
    "plt.legend()\n",
    "plt.show()"
   ]
  },
  {
   "cell_type": "markdown",
   "metadata": {},
   "source": [
    "兩層RNN可得到更佳模型。"
   ]
  },
  {
   "cell_type": "markdown",
   "metadata": {},
   "source": [
    "### 5. 隨機丟一個樣本進去做預測。"
   ]
  },
  {
   "cell_type": "code",
   "execution_count": null,
   "metadata": {},
   "outputs": [],
   "source": [
    "phi = np.pi/3.\n",
    "line = np.linspace(0,2.*np.pi,500)\n",
    "in_x = np.cos(2.*np.pi*line+phi)\n",
    "in_y = np.sin(2.*np.pi*line+phi)\n",
    "\n",
    "n = 20\n",
    "m = n\n",
    "\n",
    "test_x = np.zeros(n, dtype=np.float32)\n",
    "test_y = np.zeros(m, dtype=np.float32)\n",
    "rand_num = np.random.choice(500-n)\n",
    "\n",
    "test_x = in_x[rand_num:rand_num+n]\n",
    "test_y = in_y[rand_num:rand_num+m]\n",
    "\n",
    "test_x = test_x.reshape(1,test_x.shape[0],1)\n",
    "\n",
    "y_pred = model.predict( test_x )\n",
    "y_pred = y_pred.reshape(-1)\n",
    "\n",
    "plt.scatter(x=line[rand_num:rand_num+n],\n",
    "            y=in_x[rand_num:rand_num+n], label=\"x_in\")\n",
    "plt.scatter(x=line[rand_num:rand_num+n],\n",
    "            y=in_y[rand_num:rand_num+n], label=\"y\")\n",
    "plt.scatter(x=line[rand_num:rand_num+m],\n",
    "            y=y_pred, label=\"y_pred\")\n",
    "plt.legend()\n",
    "plt.show()"
   ]
  },
  {
   "cell_type": "markdown",
   "metadata": {},
   "source": [
    "只有一個點的時候，不太可能做出好的預測。但有兩三個點的時候，機器慢慢就知道這是什麼樣趨勢的曲線，然後須預測出什麼樣的曲線。"
   ]
  },
  {
   "cell_type": "code",
   "execution_count": null,
   "metadata": {},
   "outputs": [],
   "source": []
  }
 ],
 "metadata": {
  "kernelspec": {
   "display_name": "Python 3",
   "language": "python",
   "name": "python3"
  },
  "language_info": {
   "codemirror_mode": {
    "name": "ipython",
    "version": 3
   },
   "file_extension": ".py",
   "mimetype": "text/x-python",
   "name": "python",
   "nbconvert_exporter": "python",
   "pygments_lexer": "ipython3",
   "version": "3.7.5"
  }
 },
 "nbformat": 4,
 "nbformat_minor": 4
}
