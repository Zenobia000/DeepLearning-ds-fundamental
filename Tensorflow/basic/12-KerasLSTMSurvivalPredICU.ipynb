{
 "cells": [
  {
   "cell_type": "markdown",
   "metadata": {},
   "source": [
    "# 本筆記的目的：預測重症病患未來的生還率。"
   ]
  },
  {
   "cell_type": "markdown",
   "metadata": {},
   "source": [
    "[PhysioNet 2012](https://physionet.org/challenge/2012/) 資料集紀錄了各個病患，於離開加護病房後是否有生還。\n",
    "\n",
    "並且，這些病人，從進入加護病房，至離開，會有各式各樣的生理資訊，於各個時間點被記錄下來。\n",
    "\n",
    "我們的目的是以這個資料集來建立模型，去讓機器預測一個重症病患進入加護病房後，未來可能會有多少的生還率。"
   ]
  },
  {
   "cell_type": "markdown",
   "metadata": {},
   "source": [
    "---"
   ]
  },
  {
   "cell_type": "markdown",
   "metadata": {},
   "source": [
    "# 索引\n",
    "* [1. 載入 & 整理資料](#01)\n",
    "    * [整理出存放特徵欄位的Tensor，分別為train_x, val_x和test_x。](#011)\n",
    "    * [整理出存放標籤(生存/死亡)的Tensor，分別為train_y, val_y和test_y。](#012)\n",
    "    * [儲存待訓練資料至hdf5資料庫](#013)\n",
    "    * [由hdf5資料庫載入待訓練資料](#014)\n",
    "    * [檢查資料是否有空值](#015)\n",
    "    * [資料標準化](#016)\n",
    "    * [將空值做填補](#017)\n",
    "    * [將所有病人的時序資料截斷或補零至相同長度](#018)\n",
    "* [2. 建立模型](#02)\n",
    "* [3. 訓練模型](#03)"
   ]
  },
  {
   "cell_type": "markdown",
   "metadata": {},
   "source": [
    "---"
   ]
  },
  {
   "cell_type": "code",
   "execution_count": null,
   "metadata": {},
   "outputs": [],
   "source": [
    "import os\n",
    "os.environ[\"CUDA_VISIBLE_DEVICES\"] = \"0\"\n",
    "\n",
    "import tensorflow as tf"
   ]
  },
  {
   "cell_type": "code",
   "execution_count": null,
   "metadata": {},
   "outputs": [],
   "source": [
    "import pandas as pd\n",
    "import numpy as np\n",
    "import matplotlib.pyplot as plt\n",
    "%matplotlib inline\n",
    "\n",
    "import os\n",
    "from IPython.display import display\n",
    "import re\n",
    "\n",
    "import seaborn as sns\n",
    "sns.set()"
   ]
  },
  {
   "cell_type": "markdown",
   "metadata": {},
   "source": [
    "## <a id=01>1. 載入 & 整理資料</a>\n",
    "\n",
    "看某個病人的數據"
   ]
  },
  {
   "cell_type": "code",
   "execution_count": null,
   "metadata": {
    "scrolled": true
   },
   "outputs": [],
   "source": [
    "# !cat ../datasets/physioNet-set-a/134976.txt"
   ]
  },
  {
   "cell_type": "markdown",
   "metadata": {},
   "source": [
    "看有幾個病人"
   ]
  },
  {
   "cell_type": "code",
   "execution_count": null,
   "metadata": {},
   "outputs": [],
   "source": [
    "!ls -hl ../datasets/physioNet-set-a | wc -l"
   ]
  },
  {
   "cell_type": "code",
   "execution_count": null,
   "metadata": {},
   "outputs": [],
   "source": [
    "def icu_df_creator(path,verbose=True):\n",
    "    '''由txt檔載入病人資訊，存成資料表。'''\n",
    "    df=pd.read_csv(path)\n",
    "    if verbose:\n",
    "        print(\"Before pivot transform:\")\n",
    "        display( df.head(5) )\n",
    "        print(df.shape)\n",
    "\n",
    "    encounter_id=re.findall(\".*/(.*).txt\",path)[0]\n",
    "\n",
    "    df[\"encounter_ID\"]=int(encounter_id)\n",
    "    df=df.pivot_table(index=[\"encounter_ID\",\"Time\"],\n",
    "                      columns=\"Parameter\",\n",
    "                      values=\"Value\")\n",
    "    df.columns.name=\"\"\n",
    "    df = df.astype(np.float32)\n",
    "    df.drop(columns=\"RecordID\",inplace=True)\n",
    "    if verbose:\n",
    "        print(\"\\nAfter pivot transform:\")\n",
    "        display( df.head(5) )\n",
    "        print(df.shape)\n",
    "    return df"
   ]
  },
  {
   "cell_type": "markdown",
   "metadata": {},
   "source": [
    "---"
   ]
  },
  {
   "cell_type": "code",
   "execution_count": null,
   "metadata": {},
   "outputs": [],
   "source": [
    "def filePathsGen(rootPath):\n",
    "    '''此函數將rootPath資料夾目錄中的所有檔案路徑資訊儲存至一個清單內。'''\n",
    "    paths=[]\n",
    "    dirs=[]\n",
    "    for dirPath,dirNames,fileNames in os.walk(rootPath):\n",
    "        for fileName in fileNames:\n",
    "            fullPath=os.path.join(dirPath,fileName)\n",
    "            paths.append( fullPath) \n",
    "        dirs.append(dirNames)\n",
    "    return dirs,paths"
   ]
  },
  {
   "cell_type": "code",
   "execution_count": null,
   "metadata": {},
   "outputs": [],
   "source": [
    "root_folder=\"../datasets/physioNet-set-a\"\n",
    "_,paths = filePathsGen(root_folder)\n",
    "\n",
    "dfs=[]\n",
    "for idx,path in enumerate(paths):\n",
    "    if idx%200==0:\n",
    "        print(idx,path)\n",
    "    if \"Outcomes-a\" in path:\n",
    "        continue\n",
    "    dfs.append( icu_df_creator(path,verbose=False) \n",
    "              )"
   ]
  },
  {
   "cell_type": "markdown",
   "metadata": {},
   "source": [
    "將病人資訊資料表整理出來:"
   ]
  },
  {
   "cell_type": "code",
   "execution_count": null,
   "metadata": {},
   "outputs": [],
   "source": [
    "df = pd.concat(dfs, sort=False)"
   ]
  },
  {
   "cell_type": "markdown",
   "metadata": {},
   "source": [
    "檢視病人資訊資料表有哪些欄位:"
   ]
  },
  {
   "cell_type": "code",
   "execution_count": null,
   "metadata": {},
   "outputs": [],
   "source": [
    "df.info()"
   ]
  },
  {
   "cell_type": "code",
   "execution_count": null,
   "metadata": {},
   "outputs": [],
   "source": [
    "df.head(5) #取該資料表的前五筆出來檢視"
   ]
  },
  {
   "cell_type": "markdown",
   "metadata": {},
   "source": [
    "#### 練習: 選出某個病患的呼吸率(RespRate)時序，並將其繪製出來。"
   ]
  },
  {
   "cell_type": "code",
   "execution_count": null,
   "metadata": {},
   "outputs": [],
   "source": [
    "df.loc[138633][\"RespRate\"].plot(marker=\"o\",lw=1)"
   ]
  },
  {
   "cell_type": "markdown",
   "metadata": {},
   "source": [
    "[[Back to Top]](#索引)"
   ]
  },
  {
   "cell_type": "markdown",
   "metadata": {},
   "source": [
    "### <a id=011>整理出存放特徵欄位的Tensor，分別為train_x, val_x和test_x。</a>"
   ]
  },
  {
   "cell_type": "code",
   "execution_count": null,
   "metadata": {},
   "outputs": [],
   "source": [
    "# 資料切成 70% train, 15% validation, 15% test\n",
    "\n",
    "pids = pd.Series( df.index.levels[0] )\n",
    "pids_train_x = pids.sample(frac=0.7)\n",
    "pids_test_x = pids.drop(index=pids_train_x.index)\n",
    "pids_val_x = pids_test_x.sample(frac=0.5)\n",
    "pids_test_x = pids_test_x.drop(index=pids_val_x.index)\n",
    "\n",
    "print(pids_train_x.shape)\n",
    "print(pids_val_x.shape)\n",
    "print(pids_test_x.shape)"
   ]
  },
  {
   "cell_type": "code",
   "execution_count": null,
   "metadata": {},
   "outputs": [],
   "source": [
    "train_x = df.loc[pids_train_x.values]\n",
    "val_x = df.loc[pids_val_x.values]\n",
    "test_x = df.loc[pids_test_x.values]"
   ]
  },
  {
   "cell_type": "markdown",
   "metadata": {},
   "source": [
    "---"
   ]
  },
  {
   "cell_type": "markdown",
   "metadata": {},
   "source": [
    "[[Back to Top]](#索引)"
   ]
  },
  {
   "cell_type": "markdown",
   "metadata": {},
   "source": [
    "### <a id=012>整理出存放標籤(生存/死亡)的Tensor，分別為train_y, val_y和test_y。</a>"
   ]
  },
  {
   "cell_type": "code",
   "execution_count": null,
   "metadata": {},
   "outputs": [],
   "source": [
    "# !cat ../datasets/physioNet-set-a/Outcomes-a.txt # 欄位：In-hospital_death表示\n",
    "                                                  # 該病患是否最終有生還。我們要以\n",
    "                                                  # 該欄位作為我們的預測標的。"
   ]
  },
  {
   "cell_type": "code",
   "execution_count": null,
   "metadata": {},
   "outputs": [],
   "source": [
    "icu_data_y = pd.read_csv(\"../datasets/physioNet-set-a/Outcomes-a.txt\", index_col=\"RecordID\")\n",
    "icu_data_y = icu_data_y[\"In-hospital_death\"]"
   ]
  },
  {
   "cell_type": "code",
   "execution_count": null,
   "metadata": {},
   "outputs": [],
   "source": [
    "# 整理出train_y, val_y和test_y\n",
    "\n",
    "pids_train = train_x.reset_index()[\"encounter_ID\"].unique()\n",
    "pids_val = pd.Series(val_x.reset_index()[\"encounter_ID\"].unique())\n",
    "pids_test = pd.Series(test_x.reset_index()[\"encounter_ID\"].unique())\n",
    "\n",
    "train_y = icu_data_y.loc[pids_train]\n",
    "val_y = icu_data_y.loc[pids_val]\n",
    "test_y = icu_data_y.loc[pids_test]"
   ]
  },
  {
   "cell_type": "markdown",
   "metadata": {},
   "source": [
    "---"
   ]
  },
  {
   "cell_type": "markdown",
   "metadata": {},
   "source": [
    "[[Back to Top]](#索引)"
   ]
  },
  {
   "cell_type": "markdown",
   "metadata": {},
   "source": [
    "### <a id=013>儲存待訓練資料至hdf5資料庫</a>"
   ]
  },
  {
   "cell_type": "code",
   "execution_count": null,
   "metadata": {},
   "outputs": [],
   "source": [
    "train_x.to_hdf('ICU_PhysioNet2012.h5', key='train_x', mode='w')\n",
    "train_y.to_hdf('ICU_PhysioNet2012.h5', key='train_y', mode='a')\n",
    "\n",
    "val_x.to_hdf('ICU_PhysioNet2012.h5', key='val_x', mode='a')\n",
    "val_y.to_hdf('ICU_PhysioNet2012.h5', key='val_y', mode='a')\n",
    "\n",
    "test_x.to_hdf('ICU_PhysioNet2012.h5', key='test_x', mode='a')\n",
    "test_y.to_hdf('ICU_PhysioNet2012.h5', key='test_y', mode='a')"
   ]
  },
  {
   "cell_type": "code",
   "execution_count": null,
   "metadata": {},
   "outputs": [],
   "source": [
    "!ls -hl ICU_PhysioNet2012.h5"
   ]
  },
  {
   "cell_type": "markdown",
   "metadata": {},
   "source": [
    "---"
   ]
  },
  {
   "cell_type": "markdown",
   "metadata": {},
   "source": [
    "[[Back to Top]](#索引)"
   ]
  },
  {
   "cell_type": "markdown",
   "metadata": {},
   "source": [
    "### <a id=014>由hdf5資料庫載入待訓練資料</a>"
   ]
  },
  {
   "cell_type": "code",
   "execution_count": null,
   "metadata": {},
   "outputs": [],
   "source": [
    "train_x = pd.read_hdf('ICU_PhysioNet2012.h5', key='train_x')\n",
    "train_y = pd.read_hdf('ICU_PhysioNet2012.h5', key='train_y')\n",
    "\n",
    "val_x = pd.read_hdf('ICU_PhysioNet2012.h5', key='val_x')\n",
    "val_y = pd.read_hdf('ICU_PhysioNet2012.h5', key='val_y')\n",
    "\n",
    "test_x = pd.read_hdf('ICU_PhysioNet2012.h5', key='test_x')\n",
    "test_y = pd.read_hdf('ICU_PhysioNet2012.h5', key='test_y')"
   ]
  },
  {
   "cell_type": "markdown",
   "metadata": {},
   "source": [
    "[[Back to Top]](#索引)"
   ]
  },
  {
   "cell_type": "markdown",
   "metadata": {},
   "source": [
    "### <a id=015>檢查資料是否有空值</a>"
   ]
  },
  {
   "cell_type": "code",
   "execution_count": null,
   "metadata": {},
   "outputs": [],
   "source": [
    "# 畫出數個病人的資料空值熱圖\n",
    "# 淺色代表該處為空值，深色代表該處有資料\n",
    "for idx in pids_train[:3]:\n",
    "    fig,ax=plt.subplots(figsize=(10,5))\n",
    "    ax.set_title(\"Record ID= \"+str(idx))\n",
    "    cmap=sns.light_palette(\"navy\", reverse=False)\n",
    "    sns.heatmap(train_x.loc[idx].notnull(),yticklabels=False,cmap=cmap,ax=ax)\n",
    "    plt.show()"
   ]
  },
  {
   "cell_type": "code",
   "execution_count": null,
   "metadata": {},
   "outputs": [],
   "source": [
    "# 檢查張量形狀是否符合預期\n",
    "assert (train_x.columns == test_x.columns).sum() == train_x.shape[1]\n",
    "assert (val_x.columns == test_x.columns).sum() == val_x.shape[1]"
   ]
  },
  {
   "cell_type": "markdown",
   "metadata": {},
   "source": [
    "[[Back to Top]](#索引)"
   ]
  },
  {
   "cell_type": "markdown",
   "metadata": {},
   "source": [
    "### <a id=016>資料標準化</a>"
   ]
  },
  {
   "cell_type": "code",
   "execution_count": null,
   "metadata": {},
   "outputs": [],
   "source": [
    "cols_to_norm = train_x.columns\n",
    "\n",
    "for col in cols_to_norm:\n",
    "    mean = train_x[col].mean()\n",
    "    std = train_x[col].std()\n",
    "    train_x[col] = (train_x[col] - mean) / std\n",
    "    val_x[col] = (val_x[col] - mean) / std\n",
    "    test_x[col] = (test_x[col] - mean) / std"
   ]
  },
  {
   "cell_type": "markdown",
   "metadata": {},
   "source": [
    "[[Back to Top]](#索引)"
   ]
  },
  {
   "cell_type": "markdown",
   "metadata": {},
   "source": [
    "### <a id=017>將空值做填補</a>"
   ]
  },
  {
   "cell_type": "code",
   "execution_count": null,
   "metadata": {},
   "outputs": [],
   "source": [
    "# 看某病患的呼吸率資訊(空值填補前)\n",
    "pid=val_x.iloc[0].name[0]          #train data內第一個病患的ID\n",
    "print(\"patient ID=\",pid)\n",
    "val_x.loc[pid,\"RespRate\"].plot()\n",
    "plt.title(\"Normalized\")\n",
    "plt.ylabel(\"RespRate\")\n",
    "plt.xlabel(\"Time\")\n",
    "plt.show()"
   ]
  },
  {
   "cell_type": "code",
   "execution_count": null,
   "metadata": {},
   "outputs": [],
   "source": [
    "# 以forward fill方式填補空值\n",
    "train_x = train_x.ffill()\n",
    "test_x = test_x.ffill()\n",
    "val_x = val_x.ffill()\n",
    "\n",
    "# 以fillna方式填補剩餘空值\n",
    "train_x.fillna(value=0, inplace=True)\n",
    "test_x.fillna(value=0, inplace=True)\n",
    "val_x.fillna(value=0, inplace=True)"
   ]
  },
  {
   "cell_type": "code",
   "execution_count": null,
   "metadata": {},
   "outputs": [],
   "source": [
    "# 看某病患的呼吸率資訊(空值填補後)\n",
    "pid=val_x.iloc[0].name[0]          #train data內第一個病患的ID\n",
    "print(\"patient ID=\",pid)\n",
    "val_x.loc[pid,\"RespRate\"].plot()\n",
    "plt.title(\"Normalized\")\n",
    "plt.ylabel(\"RespRate\")\n",
    "plt.xlabel(\"Time\")\n",
    "plt.show()"
   ]
  },
  {
   "cell_type": "markdown",
   "metadata": {},
   "source": [
    "[[Back to Top]](#索引)"
   ]
  },
  {
   "cell_type": "markdown",
   "metadata": {},
   "source": [
    "### <a id=018>將所有病人的時序資料截斷或補零至相同長度</a>"
   ]
  },
  {
   "cell_type": "markdown",
   "metadata": {},
   "source": [
    "(#samples, #time points, vector length)"
   ]
  },
  {
   "cell_type": "code",
   "execution_count": null,
   "metadata": {},
   "outputs": [],
   "source": [
    "# 略為了解一下，前一萬個病人，他們的時序列長度為何 (x軸為病人ID, y軸為時間點)\n",
    "train_x.head(10000).groupby(level=0) \\\n",
    "                   .size() \\\n",
    "                   .plot(kind=\"bar\")"
   ]
  },
  {
   "cell_type": "markdown",
   "metadata": {},
   "source": [
    "以上可見，大多病人生理特徵時序，長度皆位於150以內。"
   ]
  },
  {
   "cell_type": "code",
   "execution_count": null,
   "metadata": {},
   "outputs": [],
   "source": [
    "def data_list_creator(df,pids):\n",
    "    \"\"\"於補零或截斷前，須將各病人的時序資料提取出來，放置於清單內。\"\"\"\n",
    "    data_lst=[]\n",
    "    groups=df.groupby(level=0)\n",
    "    for pid in pids:\n",
    "        data_lst.append( groups.get_group(pid).values )\n",
    "    return data_lst\n",
    "\n",
    "train_x_list = data_list_creator( train_x, pids_train)\n",
    "train_y_list = data_list_creator( train_y, pids_train )\n",
    "\n",
    "test_x_list = data_list_creator( test_x, pids_test )\n",
    "test_y_list = data_list_creator( test_y, pids_test )\n",
    "\n",
    "val_x_list = data_list_creator( val_x, pids_val )\n",
    "val_y_list = data_list_creator( val_y, pids_val )\n",
    "\n",
    "# 由於Tensor需要固定大小，我們將固定時間序列長度=150 (也就是說，若時序長度未滿150, 則補零，超過，則截斷)\n",
    "from tensorflow.keras.preprocessing import sequence\n",
    "\n",
    "train_x_new = sequence.pad_sequences(train_x_list, dtype='float32',\n",
    "                                     maxlen=150, padding='post',\n",
    "                                     truncating='post')\n",
    "test_x_new = sequence.pad_sequences(test_x_list, dtype='float32',\n",
    "                                    maxlen=150, padding='post', \n",
    "                                    truncating='post')\n",
    "val_x_new = sequence.pad_sequences(val_x_list, dtype='float32',\n",
    "                                   maxlen=150, padding='post',\n",
    "                                   truncating='post')"
   ]
  },
  {
   "cell_type": "markdown",
   "metadata": {},
   "source": [
    "[[Back to Top]](#索引)"
   ]
  },
  {
   "cell_type": "markdown",
   "metadata": {},
   "source": [
    "## <a id=02>2. 建立模型</a>"
   ]
  },
  {
   "cell_type": "code",
   "execution_count": null,
   "metadata": {},
   "outputs": [],
   "source": [
    "train_x.shape[-1]"
   ]
  },
  {
   "cell_type": "code",
   "execution_count": null,
   "metadata": {},
   "outputs": [],
   "source": [
    "from tensorflow.keras.layers import LSTM, Dense, Input, TimeDistributed, Masking\n",
    "from tensorflow.keras.models import Model,Sequential\n",
    "from tensorflow.keras.optimizers import Adam\n",
    "\n",
    "timesteps=150\n",
    "data_dim=train_x.shape[-1]\n",
    "\n",
    "# 建立模型\n",
    "model=Sequential()\n",
    "# 加入Masking。Masking的用意是：若某時刻資料皆為0,則機器不應去學習該時刻的資料。\n",
    "# 該時刻的資料應以Masking(遮罩)來處理，使得該時刻的資料不會被納入訓練。\n",
    "model.add( Masking(mask_value=0., input_shape=(timesteps, data_dim)))\n",
    "# # 加第一層LSTM\n",
    "lstm_kwargs = {'dropout': 0.2, 'recurrent_dropout': 0.2, 'return_sequences': True}\n",
    "model.add( LSTM(256, **lstm_kwargs)\n",
    "         )\n",
    "# 加第二層LSTM\n",
    "lstm_kwargs = {'dropout': 0.2, 'recurrent_dropout': 0.2, 'return_sequences': False}\n",
    "model.add( LSTM(256, **lstm_kwargs)\n",
    "         )\n",
    "# 加入Dense，用以輸出生還機率\n",
    "model.add( Dense(1, activation='sigmoid')\n",
    "         )\n",
    "# 編譯模型\n",
    "optimizer = Adam()\n",
    "model.compile(optimizer=optimizer,\n",
    "              loss='binary_crossentropy',\n",
    "              metrics=[\"accuracy\"])\n",
    "\n",
    "# 印出模型摘要\n",
    "model.summary()"
   ]
  },
  {
   "cell_type": "markdown",
   "metadata": {},
   "source": [
    "[[Back to Top]](#索引)"
   ]
  },
  {
   "cell_type": "markdown",
   "metadata": {},
   "source": [
    "## <a id=03>3. 訓練模型</a>"
   ]
  },
  {
   "cell_type": "code",
   "execution_count": null,
   "metadata": {},
   "outputs": [],
   "source": [
    "history = model.fit(train_x_new, train_y.values, batch_size=192, epochs=6,\n",
    "                    verbose=1,validation_data=[val_x_new, val_y])\n",
    "\n",
    "# 畫出模型訓練情形。\n",
    "plt.plot(history.history['acc'],ms=5,marker='o',label='accuracy')\n",
    "plt.plot(history.history['val_acc'],ms=5,marker='o',label='val accuracy')\n",
    "plt.legend()\n",
    "plt.show()"
   ]
  },
  {
   "cell_type": "code",
   "execution_count": null,
   "metadata": {},
   "outputs": [],
   "source": [
    "# 拿建好的模型於test data做出預測\n",
    "preds = model.predict(test_x_new)"
   ]
  },
  {
   "cell_type": "markdown",
   "metadata": {},
   "source": [
    "[[Back to Top]](#索引)"
   ]
  },
  {
   "cell_type": "markdown",
   "metadata": {},
   "source": [
    "## 4. 畫出ROC指標, 驗證模型好壞"
   ]
  },
  {
   "cell_type": "markdown",
   "metadata": {},
   "source": [
    "https://en.wikipedia.org/wiki/Receiver_operating_characteristic"
   ]
  },
  {
   "cell_type": "code",
   "execution_count": null,
   "metadata": {},
   "outputs": [],
   "source": [
    "from sklearn.metrics import roc_curve, auc\n",
    "\n",
    "# get 0/1 binary lable for each patient encounter\n",
    "label = test_y\n",
    "\n",
    "# get the last prediction in [0,1] for the patient\n",
    "prediction = preds\n",
    "\n",
    "# compute ROC curve for predictions\n",
    "rnn_roc = roc_curve(label,prediction)\n",
    "\n",
    "# compute the area under the curve of prediction ROC\n",
    "rnn_auc = auc(rnn_roc[0], rnn_roc[1])\n",
    "\n",
    "# plot rocs & display AUCs\n",
    "plt.figure(figsize=(7, 5))\n",
    "line_kwargs = {'linewidth': 4, 'alpha': 0.8}\n",
    "plt.plot(rnn_roc[0], rnn_roc[1], label=\"ROC= %0.3f\" % rnn_auc, color='#6AA84F', **line_kwargs)\n",
    "plt.legend(loc='lower right', fontsize=20)\n",
    "plt.xlim((-0.05, 1.05))\n",
    "plt.ylim((-0.05, 1.05))\n",
    "plt.xticks([0, 0.25, 0.5, 0.75, 1.0], fontsize=14)\n",
    "plt.yticks([0, 0.25, 0.5, 0.75, 1.0], fontsize=14)\n",
    "plt.xlabel(\"False Positive Rate\", fontsize=18)\n",
    "plt.ylabel(\"True Positive Rate\", fontsize=18)\n",
    "plt.title(\"Severity of Illness ROC Curves\", fontsize=24)\n",
    "plt.grid(alpha=0.25)\n",
    "plt.tight_layout()"
   ]
  },
  {
   "cell_type": "markdown",
   "metadata": {},
   "source": [
    "[[Back to Top]](#索引)"
   ]
  },
  {
   "cell_type": "markdown",
   "metadata": {},
   "source": [
    "ROC大於0.75, 可見此模型有效。"
   ]
  },
  {
   "cell_type": "code",
   "execution_count": null,
   "metadata": {},
   "outputs": [],
   "source": []
  }
 ],
 "metadata": {
  "kernelspec": {
   "display_name": "Python 3",
   "language": "python",
   "name": "python3"
  },
  "language_info": {
   "codemirror_mode": {
    "name": "ipython",
    "version": 3
   },
   "file_extension": ".py",
   "mimetype": "text/x-python",
   "name": "python",
   "nbconvert_exporter": "python",
   "pygments_lexer": "ipython3",
   "version": "3.7.5"
  }
 },
 "nbformat": 4,
 "nbformat_minor": 4
}
