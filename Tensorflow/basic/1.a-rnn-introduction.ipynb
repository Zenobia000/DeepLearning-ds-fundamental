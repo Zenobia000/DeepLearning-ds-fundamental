{
 "cells": [
  {
   "cell_type": "markdown",
   "metadata": {},
   "source": [
    "## RNN (Recurrent Neural Networks) 是什麼?\n",
    "\n",
    "循環神經網絡（RNN）是非常流行的模型，在NLP的很多任務中已經展示出了很大的威力。\n",
    "\n",
    "RNN背後的思想是利用信息序列間彼此的相關性。在傳統的神經網絡中，我們假設所有的輸入（包括輸出）之間是相互獨立的。對於很多任務來說，這樣的假設並不適當。 \n",
    "\n",
    "如果我們想預測一個序列中的下一個詞，我們最好能知道哪些詞在它前面。RNN之所以是循環的，是因為它針對序列中的每一個元素都執行相同的操作，每一個操作都依賴於之前的計算結果(state)，換一種方式思考，可以認為RNN記憶了到當前為止已經計算過的信息。\n",
    "\n",
    "下面是RNN的一個典型結構圖：\n",
    "\n",
    "\n",
    "![](https://4.bp.blogspot.com/-U-b50pPNd_s/WQ8C-5g0siI/AAAAAAAAI8c/VCpWPA-z3Y8iTvLIhX6hlO83BqogFMu5ACLcB/s640/RNN2.png)"
   ]
  },
  {
   "cell_type": "markdown",
   "metadata": {},
   "source": [
    "為了使這些循環和狀態的概念更清楚，我們用Numpy來實現一個簡單的RNN。假設我們的RNN需要接受一個\"向量的序列(sequence of vectors)\"作為輸人(input), 這個\"向量的序列\"用一個2維的張量(timesteps, input_features)來表示。\n",
    "\n",
    "我們的RNN要迭代每一個\"時間步(timestep)\", 之後我們用\"t\"來表示\"時間步(timestep)\"。那某特定\"時間步(t)\"的輸入為\"X\"(input_feature"
   ]
  },
  {
   "cell_type": "markdown",
   "metadata": {},
   "source": [
    "## 一個簡單RNN的pseudo-code:\n",
    "\n",
    "```\n",
    "state_t = 0 # 這是某一個\"時間步(timestep)\"的內部狀態(state)\n",
    "for input_t in input_sequence:\n",
    "    output_t = f(input_t, state_t)\n",
    "    state_t = output_t # 前一個處理過的輸出(output)變成新的狀態(state)\n",
    "```"
   ]
  },
  {
   "cell_type": "markdown",
   "metadata": {},
   "source": [
    "我們可以進一步的細分其中的 \" f \" 這個函數的內容:\n",
    "> \" f \" 函數: 用來轉換輸入(input)與狀態(state)成為輸出(output),這個函數通過兩個矩陣W和U和一個偏向量(bias)進行參數化。"
   ]
  },
  {
   "cell_type": "markdown",
   "metadata": {},
   "source": [
    "## 一個簡單RNN更詳細的pseudo-code:\n",
    "\n",
    "```\n",
    "state_t = 0 # 這是某一個\"時間步(timestep)\"的內部狀態(state)\n",
    "for input_t in input_sequence:\n",
    "    output_t = activation(dot(W, input_t) + dot(U, state_t) + b)\n",
    "    state_t = output_t # 前一個處理過的輸出(output)變成新的狀態(state)\n",
    "```"
   ]
  },
  {
   "cell_type": "markdown",
   "metadata": {},
   "source": [
    "## 用Numpy實現的一個簡單RNN\n",
    "```\n",
    "timesteps = 100 # 輸入序列中的時間步數\n",
    "inputs_features = 32 # 輸入特徵空間的維度\n",
    "output_features = 64 # 輸出特徵空間的維度\n",
    "\n",
    "# 這是我們的輸入數據\n",
    "inputs = np.random.random((timesteps, features))\n",
    "\n",
    "# 這是我們的“初始狀態”：一個全零向量\n",
    "state_t = np.zeros((output_features,))\n",
    "\n",
    "# 創建隨機權重矩陣\n",
    "W = np.random.random((input_features, output_features)\n",
    "U = np.random.random((output_features, output_features)\n",
    "b = np.random.random((output_features,))\n",
    "\n",
    "successive_outputs = []\n",
    "for input_t in inputs: \n",
    "    # 我們將輸入與當前狀態（即前一個輸出）組合以獲得當前輸出。\n",
    "    output_t = np.tanh(np.dot(W, input_t) + np.dot(U, state_t) + b)\n",
    "    \n",
    "    # 我們將此輸出存儲在一個列表中。\n",
    "    successive_outputs.append(output_t)\n",
    "    \n",
    "    # 我們更新下一個時間步的網絡“狀態”\n",
    "    state_t = output_t\n",
    "    \n",
    "# 最終輸出是2D張量(timesteps, output_features)\n",
    "final_output_sequence = np.concatenate(successive_outputs, axis=0)\n",
    "```\n",
    "\n",
    "![](https://3.bp.blogspot.com/-9cz6YIf-3Wk/WQ8C-7QNnOI/AAAAAAAAI8g/iFhXR9t3ii0UE9ZRXs425wR_HYJk9i7WgCLcB/s640/RNN1.png)"
   ]
  },
  {
   "cell_type": "markdown",
   "metadata": {},
   "source": [
    "## Keras中的第一個循環神經層\n",
    "\n",
    "在Keras中的`SimpleRNN`神經層可視為上述Numpy簡單循環神經函式的實現。"
   ]
  },
  {
   "cell_type": "code",
   "execution_count": 1,
   "metadata": {},
   "outputs": [
    {
     "name": "stderr",
     "output_type": "stream",
     "text": [
      "Using TensorFlow backend.\n"
     ]
    },
    {
     "data": {
      "text/plain": [
       "'2.1.1'"
      ]
     },
     "execution_count": 1,
     "metadata": {},
     "output_type": "execute_result"
    }
   ],
   "source": [
    "import keras\n",
    "keras.__version__"
   ]
  },
  {
   "cell_type": "code",
   "execution_count": 2,
   "metadata": {
    "collapsed": true
   },
   "outputs": [],
   "source": [
    "from keras.layers import SimpleRNN"
   ]
  },
  {
   "cell_type": "markdown",
   "metadata": {},
   "source": [
    "跟上述Numpy的RNN函式有一些些的不同： `SimpleRNN`像所有其他Keras神經層一樣，它會批次地處理序列(batches of sequences)資料，而不是像我們的Numpy示例中的單個序列。 這意味著它需要的張量結構形狀`(batch_size，timesteps，input_features)`的輸入，而不是`(timesteps, input_features)`。\n",
    "\n",
    "像Keras中的所有其它的循環神經層(recurrent layers)一樣，`SimpleRNN`可以用兩種不同的模式來運行：\n",
    "1. 它可以返回每個時間步的連續輸出的全部序列（一個形狀為`(batch_size，timesteps，output_features)`的3D張量）\n",
    "2. 或者它 可以僅返回每個輸入序列的最後一個輸出（一個形狀為`(batch_size，output_features)`的2D張量）。 \n",
    "\n",
    "這兩種模式由`return_sequences`構造函數參數控制。 我們來看一個例子:"
   ]
  },
  {
   "cell_type": "markdown",
   "metadata": {},
   "source": [
    "## 使用SimpleRNN並返回最後一個狀態\n",
    "\n",
    "`return_sequences`預設為`False`\n",
    "\n",
    "![many-to-one](https://i.stack.imgur.com/QCnpU.jpg)"
   ]
  },
  {
   "cell_type": "code",
   "execution_count": 3,
   "metadata": {},
   "outputs": [
    {
     "name": "stdout",
     "output_type": "stream",
     "text": [
      "_________________________________________________________________\n",
      "Layer (type)                 Output Shape              Param #   \n",
      "=================================================================\n",
      "embedding_1 (Embedding)      (None, None, 32)          320000    \n",
      "_________________________________________________________________\n",
      "simple_rnn_1 (SimpleRNN)     (None, 32)                2080      \n",
      "=================================================================\n",
      "Total params: 322,080\n",
      "Trainable params: 322,080\n",
      "Non-trainable params: 0\n",
      "_________________________________________________________________\n"
     ]
    }
   ],
   "source": [
    "from keras.models import Sequential\n",
    "from keras.layers import Embedding, SimpleRNN\n",
    "\n",
    "model = Sequential()\n",
    "model.add(Embedding(10000, 32))\n",
    "model.add(SimpleRNN(32)) # return_sequences預設為False\n",
    "model.summary()"
   ]
  },
  {
   "cell_type": "markdown",
   "metadata": {},
   "source": [
    "## 使用SimpleRNN並返回完整的狀態序列\n",
    "\n",
    "把`return_sequences`設為`True`\n",
    "\n",
    "![many-to-many](https://i.stack.imgur.com/DiPyQ.jpg)"
   ]
  },
  {
   "cell_type": "code",
   "execution_count": 4,
   "metadata": {},
   "outputs": [
    {
     "name": "stdout",
     "output_type": "stream",
     "text": [
      "_________________________________________________________________\n",
      "Layer (type)                 Output Shape              Param #   \n",
      "=================================================================\n",
      "embedding_2 (Embedding)      (None, None, 32)          320000    \n",
      "_________________________________________________________________\n",
      "simple_rnn_2 (SimpleRNN)     (None, None, 32)          2080      \n",
      "=================================================================\n",
      "Total params: 322,080\n",
      "Trainable params: 322,080\n",
      "Non-trainable params: 0\n",
      "_________________________________________________________________\n"
     ]
    }
   ],
   "source": [
    "model = Sequential()\n",
    "model.add(Embedding(10000, 32))\n",
    "model.add(SimpleRNN(32, return_sequences=True)) # 把return_sequences設為True\n",
    "model.summary()"
   ]
  },
  {
   "cell_type": "markdown",
   "metadata": {},
   "source": [
    "## 將多個RNN圖層堆疊在一起\n",
    "\n",
    "為了增加神經網絡的表示能力，有時把多個RNN一個接一個地堆疊起來很有用。在這樣的設置中，我們必須讓所有的RNN中間層返回完整的序列：\n",
    "\n",
    "![rnn-stacking](https://leonardoaraujosantos.gitbooks.io/artificial-inteligence/content/image_folder_6/RNN_Stacking.png)"
   ]
  },
  {
   "cell_type": "code",
   "execution_count": 5,
   "metadata": {},
   "outputs": [
    {
     "name": "stdout",
     "output_type": "stream",
     "text": [
      "_________________________________________________________________\n",
      "Layer (type)                 Output Shape              Param #   \n",
      "=================================================================\n",
      "embedding_3 (Embedding)      (None, None, 32)          320000    \n",
      "_________________________________________________________________\n",
      "simple_rnn_3 (SimpleRNN)     (None, None, 32)          2080      \n",
      "_________________________________________________________________\n",
      "simple_rnn_4 (SimpleRNN)     (None, None, 32)          2080      \n",
      "_________________________________________________________________\n",
      "simple_rnn_5 (SimpleRNN)     (None, None, 32)          2080      \n",
      "_________________________________________________________________\n",
      "simple_rnn_6 (SimpleRNN)     (None, 32)                2080      \n",
      "=================================================================\n",
      "Total params: 328,320\n",
      "Trainable params: 328,320\n",
      "Non-trainable params: 0\n",
      "_________________________________________________________________\n"
     ]
    }
   ],
   "source": [
    "model = Sequential()\n",
    "model.add(Embedding(10000, 32))\n",
    "model.add(SimpleRNN(32, return_sequences=True)) # 把return_sequences設為True\n",
    "model.add(SimpleRNN(32, return_sequences=True)) # 把return_sequences設為True\n",
    "model.add(SimpleRNN(32, return_sequences=True)) # 把return_sequences設為True\n",
    "model.add(SimpleRNN(32))  # 只有最後的RNN層只需要最後的output, 因此不必特別去設置\"return_sequences\"\n",
    "model.summary()"
   ]
  },
  {
   "cell_type": "markdown",
   "metadata": {},
   "source": [
    "現在讓我們嘗試在IMDB電影評論分類問題上使用這種模型。 首先，我們預處理數據："
   ]
  },
  {
   "cell_type": "code",
   "execution_count": 6,
   "metadata": {},
   "outputs": [
    {
     "name": "stdout",
     "output_type": "stream",
     "text": [
      "Loading data...\n",
      "25000 train sequences\n",
      "25000 test sequences\n",
      "Pad sequences (samples x time)\n",
      "input_train shape: (25000, 500)\n",
      "input_test shape: (25000, 500)\n"
     ]
    }
   ],
   "source": [
    "from keras.datasets import imdb\n",
    "from keras.preprocessing import sequence\n",
    "\n",
    "max_features = 10000  # 要考慮作為特徵的語詞數量\n",
    "maxlen = 500  # 當句子的長度超過500個語詞的部份,就把它刪除掉\n",
    "batch_size = 32\n",
    "\n",
    "# 載入IMDB的資料\n",
    "print('Loading data...')\n",
    "(input_train, y_train), (input_test, y_test) = imdb.load_data(num_words=max_features)\n",
    "print(len(input_train), 'train sequences')\n",
    "print(len(input_test), 'test sequences')\n",
    "\n",
    "# 如果長度不夠的話就補空的\n",
    "print('Pad sequences (samples x time)')\n",
    "input_train = sequence.pad_sequences(input_train, maxlen=maxlen)\n",
    "input_test = sequence.pad_sequences(input_test, maxlen=maxlen)\n",
    "print('input_train shape:', input_train.shape)\n",
    "print('input_test shape:', input_test.shape)"
   ]
  },
  {
   "cell_type": "markdown",
   "metadata": {},
   "source": [
    "我們使用一個`Embedding`層和一個`SimpleRNN`層來訓練一個簡單的循環網絡(`RNN`)："
   ]
  },
  {
   "cell_type": "code",
   "execution_count": 7,
   "metadata": {},
   "outputs": [
    {
     "name": "stdout",
     "output_type": "stream",
     "text": [
      "_________________________________________________________________\n",
      "Layer (type)                 Output Shape              Param #   \n",
      "=================================================================\n",
      "embedding_4 (Embedding)      (None, None, 32)          320000    \n",
      "_________________________________________________________________\n",
      "simple_rnn_7 (SimpleRNN)     (None, 32)                2080      \n",
      "_________________________________________________________________\n",
      "dense_1 (Dense)              (None, 1)                 33        \n",
      "=================================================================\n",
      "Total params: 322,113\n",
      "Trainable params: 322,113\n",
      "Non-trainable params: 0\n",
      "_________________________________________________________________\n",
      "Train on 20000 samples, validate on 5000 samples\n",
      "Epoch 1/10\n",
      "20000/20000 [==============================] - 37s 2ms/step - loss: 0.6397 - acc: 0.6175 - val_loss: 0.4824 - val_acc: 0.7774\n",
      "Epoch 2/10\n",
      "20000/20000 [==============================] - 36s 2ms/step - loss: 0.4124 - acc: 0.8239 - val_loss: 0.4232 - val_acc: 0.8078\n",
      "Epoch 3/10\n",
      "20000/20000 [==============================] - 35s 2ms/step - loss: 0.3003 - acc: 0.8791 - val_loss: 0.3664 - val_acc: 0.8384\n",
      "Epoch 4/10\n",
      "20000/20000 [==============================] - 36s 2ms/step - loss: 0.2471 - acc: 0.9030 - val_loss: 0.4129 - val_acc: 0.8166\n",
      "Epoch 5/10\n",
      "20000/20000 [==============================] - 35s 2ms/step - loss: 0.1776 - acc: 0.9362 - val_loss: 0.3848 - val_acc: 0.8702\n",
      "Epoch 6/10\n",
      "20000/20000 [==============================] - 35s 2ms/step - loss: 0.1285 - acc: 0.9546 - val_loss: 0.3807 - val_acc: 0.8682\n",
      "Epoch 7/10\n",
      "20000/20000 [==============================] - 38s 2ms/step - loss: 0.0847 - acc: 0.9715 - val_loss: 0.4244 - val_acc: 0.8522\n",
      "Epoch 8/10\n",
      "20000/20000 [==============================] - 35s 2ms/step - loss: 0.0498 - acc: 0.9843 - val_loss: 0.6897 - val_acc: 0.7588\n",
      "Epoch 9/10\n",
      "20000/20000 [==============================] - 35s 2ms/step - loss: 0.0357 - acc: 0.9881 - val_loss: 0.6835 - val_acc: 0.7824\n",
      "Epoch 10/10\n",
      "20000/20000 [==============================] - 35s 2ms/step - loss: 0.0275 - acc: 0.9915 - val_loss: 0.8700 - val_acc: 0.8058\n"
     ]
    }
   ],
   "source": [
    "from keras.layers import Dense\n",
    "\n",
    "model = Sequential()\n",
    "model.add(Embedding(max_features, 32))\n",
    "model.add(SimpleRNN(32))\n",
    "model.add(Dense(1, activation='sigmoid'))\n",
    "\n",
    "model.summary()\n",
    "\n",
    "model.compile(optimizer='rmsprop', loss='binary_crossentropy', metrics=['acc'])\n",
    "history = model.fit(input_train, y_train,\n",
    "                    epochs=10,\n",
    "                    batch_size=128,\n",
    "                    validation_split=0.2)"
   ]
  },
  {
   "cell_type": "markdown",
   "metadata": {},
   "source": [
    "我們用圖表來看一下模型在訓練(training)和驗證(validation)的損失(loss)和準確性(accuracy)："
   ]
  },
  {
   "cell_type": "code",
   "execution_count": 8,
   "metadata": {},
   "outputs": [
    {
     "data": {
      "image/png": "[encoded data removed]",
      "text/plain": [
       "<matplotlib.figure.Figure at 0x1dc8fd30>"
      ]
     },
     "metadata": {},
     "output_type": "display_data"
    },
    {
     "data": {
      "image/png": "[encoded data removed]",
      "text/plain": [
       "<matplotlib.figure.Figure at 0x23533908>"
      ]
     },
     "metadata": {},
     "output_type": "display_data"
    }
   ],
   "source": [
    "import matplotlib.pyplot as plt\n",
    "\n",
    "acc = history.history['acc']\n",
    "val_acc = history.history['val_acc']\n",
    "loss = history.history['loss']\n",
    "val_loss = history.history['val_loss']\n",
    "\n",
    "epochs = range(len(acc))\n",
    "\n",
    "plt.plot(epochs, acc, label='Training acc')\n",
    "plt.plot(epochs, val_acc, label='Validation acc')\n",
    "plt.title('Training and validation accuracy')\n",
    "plt.legend()\n",
    "\n",
    "plt.figure()\n",
    "\n",
    "plt.plot(epochs, loss, label='Training loss')\n",
    "plt.plot(epochs, val_loss, label='Validation loss')\n",
    "plt.title('Training and validation loss')\n",
    "plt.legend()\n",
    "\n",
    "plt.show()"
   ]
  },
  {
   "cell_type": "markdown",
   "metadata": {},
   "source": [
    "使用`SimpleRNN`我們對這個數據集獲得了81％的測試精度。 這個網絡模型表現不算太好,部分問題是我們的輸入只考慮了前500個語詞而不是考慮所有序列語詞。 別外的一個問題是`SimpleRNN`在處理長序列（如文本）方面表現不太好(有梯度消失或梯度爆炸的現象)。我們來看看其它更高級的神經圖層。"
   ]
  },
  {
   "cell_type": "markdown",
   "metadata": {},
   "source": [
    "## 了解長短期記憶模型（long short-term memory，LSTM）與 GRU\n",
    "\n",
    "`SimpleRNN`不是Keras唯一可用的RNN層：在Keras中還有`LSTM`和`GRU`。 在實務中，你將永遠使用其中的一個，`SimpleRNN`一般來說太簡單了，以至於沒有任何實際用途。\n",
    "\n",
    "LSTM（long short-term memory單元(cell)使用了輸入閘(input gate)，忘記閘(forget get)和輸出閘(output gate)來解決原本的RNN單元(cell)會面臨的梯度消失或梯度爆炸的現象。\n",
    "\n",
    "![lstm_vs_rnn](https://cdn-images-1.medium.com/max/1600/0*kl2Cd89GGQClOS48.)"
   ]
  },
  {
   "cell_type": "markdown",
   "metadata": {},
   "source": [
    "這些閘每個都有自己的一組權重值。 整個LSTM單元(cell)是可微分的（意思是我們計算梯度並使用它們來更新權重），所以我們可以使用反向(back-propagation)來迭代訓練它。基本上，LSTM單元為我們提供遺忘(forget)，記憶(memory)和關注(attention)的機制。 \n",
    "\n",
    "![lstm_cell](https://cdn-images-1.medium.com/max/1600/0*LyfY3Mow9eCYlj7o.)"
   ]
  },
  {
   "cell_type": "markdown",
   "metadata": {},
   "source": [
    "## 一個具體的LSTM範例\n",
    "\n",
    "現在讓我們看看LSTM如何解決實際的問題：我們將使用LSTM層建立一個模型，並在IMDB數據上進行訓練。 這個網絡設計類似於我們剛剛介紹的那個`SimpleRNN`。 我們只指定LSTM圖層的輸出維度，並將其他所有參數（有很多）留給Keras默認值。 Keras具有良好的默認設置，並且事情幾乎總是“正常工作”，而無需我們花太多時間手動調整參數。"
   ]
  },
  {
   "cell_type": "code",
   "execution_count": 9,
   "metadata": {},
   "outputs": [
    {
     "name": "stdout",
     "output_type": "stream",
     "text": [
      "_________________________________________________________________\n",
      "Layer (type)                 Output Shape              Param #   \n",
      "=================================================================\n",
      "embedding_5 (Embedding)      (None, None, 32)          320000    \n",
      "_________________________________________________________________\n",
      "lstm_1 (LSTM)                (None, 32)                8320      \n",
      "_________________________________________________________________\n",
      "dense_2 (Dense)              (None, 1)                 33        \n",
      "=================================================================\n",
      "Total params: 328,353\n",
      "Trainable params: 328,353\n",
      "Non-trainable params: 0\n",
      "_________________________________________________________________\n",
      "Train on 20000 samples, validate on 5000 samples\n",
      "Epoch 1/10\n",
      "20000/20000 [==============================] - 117s 6ms/step - loss: 0.5242 - acc: 0.7536 - val_loss: 0.3850 - val_acc: 0.8578\n",
      "Epoch 2/10\n",
      "20000/20000 [==============================] - 115s 6ms/step - loss: 0.3017 - acc: 0.8801 - val_loss: 0.3114 - val_acc: 0.8830\n",
      "Epoch 3/10\n",
      "20000/20000 [==============================] - 108s 5ms/step - loss: 0.2374 - acc: 0.9090 - val_loss: 0.2728 - val_acc: 0.8932\n",
      "Epoch 4/10\n",
      "20000/20000 [==============================] - 109s 5ms/step - loss: 0.2010 - acc: 0.9248 - val_loss: 0.4256 - val_acc: 0.8672\n",
      "Epoch 5/10\n",
      "20000/20000 [==============================] - 113s 6ms/step - loss: 0.1754 - acc: 0.9370 - val_loss: 0.3142 - val_acc: 0.8886\n",
      "Epoch 6/10\n",
      "20000/20000 [==============================] - 110s 6ms/step - loss: 0.1535 - acc: 0.9447 - val_loss: 0.4495 - val_acc: 0.8726\n",
      "Epoch 7/10\n",
      "20000/20000 [==============================] - 112s 6ms/step - loss: 0.1387 - acc: 0.9506 - val_loss: 0.4064 - val_acc: 0.8382\n",
      "Epoch 8/10\n",
      "20000/20000 [==============================] - 113s 6ms/step - loss: 0.1286 - acc: 0.9551 - val_loss: 0.3430 - val_acc: 0.8828\n",
      "Epoch 9/10\n",
      "20000/20000 [==============================] - 109s 5ms/step - loss: 0.1157 - acc: 0.9598 - val_loss: 0.4107 - val_acc: 0.8504\n",
      "Epoch 10/10\n",
      "20000/20000 [==============================] - 108s 5ms/step - loss: 0.1057 - acc: 0.9641 - val_loss: 0.3868 - val_acc: 0.8808\n"
     ]
    }
   ],
   "source": [
    "from keras.layers import LSTM\n",
    "\n",
    "model = Sequential()\n",
    "model.add(Embedding(max_features, 32))\n",
    "model.add(LSTM(32))\n",
    "model.add(Dense(1, activation='sigmoid'))\n",
    "\n",
    "model.summary()\n",
    "\n",
    "model.compile(optimizer='rmsprop',\n",
    "              loss='binary_crossentropy',\n",
    "              metrics=['acc'])\n",
    "history = model.fit(input_train, y_train,\n",
    "                    epochs=10,\n",
    "                    batch_size=128,\n",
    "                    validation_split=0.2)"
   ]
  },
  {
   "cell_type": "code",
   "execution_count": 12,
   "metadata": {},
   "outputs": [
    {
     "data": {
      "image/png": "[encoded data removed]",
      "text/plain": [
       "<matplotlib.figure.Figure at 0x257d9c18>"
      ]
     },
     "metadata": {},
     "output_type": "display_data"
    },
    {
     "data": {
      "image/png": "[encoded data removed]",
      "text/plain": [
       "<matplotlib.figure.Figure at 0x25b76278>"
      ]
     },
     "metadata": {},
     "output_type": "display_data"
    }
   ],
   "source": [
    "acc = history.history['acc']\n",
    "val_acc = history.history['val_acc']\n",
    "loss = history.history['loss']\n",
    "val_loss = history.history['val_loss']\n",
    "\n",
    "epochs = range(len(acc))\n",
    "\n",
    "plt.plot(epochs, acc, label='Training acc')\n",
    "plt.plot(epochs, val_acc, label='Validation acc')\n",
    "plt.title('Training and validation accuracy')\n",
    "plt.legend()\n",
    "\n",
    "plt.figure()\n",
    "\n",
    "plt.plot(epochs, loss, label='Training loss')\n",
    "plt.plot(epochs, val_loss, label='Validation loss')\n",
    "plt.title('Training and validation loss')\n",
    "plt.legend()\n",
    "\n",
    "plt.show()"
   ]
  },
  {
   "cell_type": "markdown",
   "metadata": {},
   "source": [
    "使用`LSTM`對這個數據集獲得了88％的測試精度, 相比`SimpleRNN`來說效果的確好多了。"
   ]
  },
  {
   "cell_type": "markdown",
   "metadata": {},
   "source": [
    "### 參考: \n",
    "* [fchollet: deep-learning-with-python-notebooks (原文)](https://github.com/fchollet/deep-learning-with-python-notebooks/blob/master/6.2-understanding-recurrent-neural-networks.ipynb)\n",
    "* [Keras官網](http://keras.io/)"
   ]
  },
  {
   "cell_type": "markdown",
   "metadata": {},
   "source": [
    "MIT License\n",
    "\n",
    "Copyright (c) 2017 François Chollet\n",
    "\n",
    "Permission is hereby granted, free of charge, to any person obtaining a copy\n",
    "of this software and associated documentation files (the \"Software\"), to deal\n",
    "in the Software without restriction, including without limitation the rights\n",
    "to use, copy, modify, merge, publish, distribute, sublicense, and/or sell\n",
    "copies of the Software, and to permit persons to whom the Software is\n",
    "furnished to do so, subject to the following conditions:\n",
    "\n",
    "The above copyright notice and this permission notice shall be included in all\n",
    "copies or substantial portions of the Software.\n",
    "\n",
    "THE SOFTWARE IS PROVIDED \"AS IS\", WITHOUT WARRANTY OF ANY KIND, EXPRESS OR\n",
    "IMPLIED, INCLUDING BUT NOT LIMITED TO THE WARRANTIES OF MERCHANTABILITY,\n",
    "FITNESS FOR A PARTICULAR PURPOSE AND NONINFRINGEMENT. IN NO EVENT SHALL THE\n",
    "AUTHORS OR COPYRIGHT HOLDERS BE LIABLE FOR ANY CLAIM, DAMAGES OR OTHER\n",
    "LIABILITY, WHETHER IN AN ACTION OF CONTRACT, TORT OR OTHERWISE, ARISING FROM,\n",
    "OUT OF OR IN CONNECTION WITH THE SOFTWARE OR THE USE OR OTHER DEALINGS IN THE\n",
    "SOFTWARE."
   ]
  },
  {
   "cell_type": "code",
   "execution_count": null,
   "metadata": {
    "collapsed": true
   },
   "outputs": [],
   "source": []
  }
 ],
 "metadata": {
  "kernelspec": {
   "display_name": "Python 3",
   "language": "python",
   "name": "python3"
  },
  "language_info": {
   "codemirror_mode": {
    "name": "ipython",
    "version": 3
   },
   "file_extension": ".py",
   "mimetype": "text/x-python",
   "name": "python",
   "nbconvert_exporter": "python",
   "pygments_lexer": "ipython3",
   "version": "3.5.3"
  }
 },
 "nbformat": 4,
 "nbformat_minor": 2
}
