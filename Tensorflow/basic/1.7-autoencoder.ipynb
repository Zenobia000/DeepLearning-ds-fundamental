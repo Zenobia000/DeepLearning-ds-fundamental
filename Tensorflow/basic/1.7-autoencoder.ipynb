{
 "cells": [
  {
   "cell_type": "markdown",
   "metadata": {},
   "source": [
    "# 構建自動編碼器(Autoencoder)"
   ]
  },
  {
   "cell_type": "markdown",
   "metadata": {},
   "source": [
    "注意: 這篇文章的內容需要一些對Keras的理解, 這先確認你/妳己先閱讀並練習過以下的連結內容:\n",
    "\n",
    "* [1.1-keras-functional-api](https://github.com/erhwenkuo/deep-learning-with-keras-notebooks/blob/master/1.1-keras-functional-api.ipynb)\n",
    "\n",
    "為了獲得最好的學習效果與理解, 強烈建議先行聆聽以下的線上課程:\n",
    "* [台大李宏毅 - (ML Lecture 16: Unsupervised Learning - Auto-encoder)](https://www.youtube.com/watch?v=Tk5B4seA-AU&lc=z13atbuzfxjtzx1nf23iw5thtrrdxjnga04)"
   ]
  },
  {
   "cell_type": "markdown",
   "metadata": {},
   "source": [
    "在本教程中，我們將回答關於autoencoders的一些常見問題，我們將介紹以下模型的代碼示例：\n",
    "* 一個基於完全連接層(fully-connected layer)的簡單的自動編碼器\n",
    "* 一個深度完全連接(deep fully-connected)的自動編碼器\n",
    "* 一個深度卷積(deep convolutional)自動編碼器\n",
    "* 圖像去噪(denoising)模型"
   ]
  },
  {
   "cell_type": "markdown",
   "metadata": {},
   "source": [
    "## 什麼是自動編碼器？"
   ]
  },
  {
   "cell_type": "markdown",
   "metadata": {},
   "source": [
    "![auto-encoder](https://blog.keras.io/img/ae/autoencoder_schema.jpg)"
   ]
  },
  {
   "cell_type": "markdown",
   "metadata": {},
   "source": [
    "“自動編碼(Autoencoding)”是一種數據壓縮算法，其中壓縮和解壓縮功能是:\n",
    "1. 針對特定的數據\n",
    "2. 有損的\n",
    "3. 自動從數據中學習而不是由人工設計\n",
    "\n",
    "另外，在幾乎所有使用術語“自動編碼器”的情況下，壓縮和解壓縮功能都是用神經網絡來實現的。"
   ]
  },
  {
   "cell_type": "markdown",
   "metadata": {},
   "source": [
    "### 1. 針對特定的數據\n",
    "\n",
    "自動編碼器是針對特定的數據，這意味著它們只能壓縮類似於他們所訓練的數據。這與例如MPEG-2音頻層壓縮算法不同，後者通常只保留關於“聲音”的假設，而不涉及特定類型的聲音。在\"臉部\"圖片上訓練的自動編碼器在壓縮\"樹\"的圖片方面做得相當差，因為它將學習的特徵是\"臉部\"特定的。"
   ]
  },
  {
   "cell_type": "markdown",
   "metadata": {},
   "source": [
    "### 2. 有損的\n",
    "\n",
    "自動編碼器是有損失的壓縮，這意味著與原始輸入相比，解壓縮的輸出會降低（類似於MP3或JPEG壓縮）。這與無損壓縮算法不同。"
   ]
  },
  {
   "cell_type": "markdown",
   "metadata": {},
   "source": [
    "### 3. 自動從數據中學習而不是由人工設計\n",
    "\n",
    "自動編碼器是從數據中自動學習的，這是一很有用的特性：這意味著很容易訓練出特定的算法實例，在特定類型的輸入上運行良好。它不需要任何新的工程，只需要適當的訓練數據。"
   ]
  },
  {
   "cell_type": "markdown",
   "metadata": {},
   "source": [
    "要構建一個自動編碼器，需要三件事：編碼函數，解碼函數和數據壓縮表示與解壓縮表示（即“丟失”函數）之間的信息損失量之間的距離函數。\n",
    "\n",
    "編碼器和解碼器將被選擇為參數函數（通常為神經網絡），並且相對於距離函數是可微分的，因此可以優化編碼/解碼函數的參數以最小化重構損失，使用隨機梯度下降。這很簡單！而且你甚至不需要理解這些詞語就可以在實踐中開始使用自動編碼器。"
   ]
  },
  {
   "cell_type": "markdown",
   "metadata": {},
   "source": [
    "## 他們擅長數據壓縮嗎？"
   ]
  },
  {
   "cell_type": "markdown",
   "metadata": {},
   "source": [
    "一般來說並不擅長。例如在圖片壓縮中，訓練一個比JPEG這樣的基本算法效果更好的自動編碼器是相當困難的，而且通常可以實現的唯一方法是將自己限制在一個非常特定類型的圖片上（例如用於哪個JPEG做不好）。自動編碼器是用特定的 數據所訓練出來的事實使得它們對於不能有效的解決現實世界中的數據壓縮問題：您只能將它們用於與其所訓練的數據類似的數據，並使其更加通用，因此需要大量的訓練數據。但是誰知道，未來的進展可能會改變這一點。"
   ]
  },
  {
   "cell_type": "markdown",
   "metadata": {},
   "source": [
    "## 那麼自動編碼器擅長？\n",
    "\n",
    "自動編碼器在實際應用中很少被使用。在2012年，它們被發現可以應用於一種用於深層卷積神經網絡的貪心分層預訓練上[1]，但是隨著我們開始意識到更好的隨機加權初始化方案足以從頭開始訓練深度網絡，它很快就又被拋棄了。在2014年，批量標準化(batch normalization)[2]開始允許更深層次的網絡，從2015年下半年起，我們可以使用殘差學習(residual learning)從頭開始任意深度訓練網絡[3]。"
   ]
  },
  {
   "cell_type": "markdown",
   "metadata": {},
   "source": [
    "今天自動編碼器的兩個有趣的實際應用是數據去噪（我們在後面將會介紹）和數據可視化的降維。通過適當的維度和稀疏性約束，自動編碼器可以學習比PCA或其他基本技術更有趣的數據投影。"
   ]
  },
  {
   "cell_type": "markdown",
   "metadata": {},
   "source": [
    "對於2D可視化而言，t-SNE（發音為“tee-snee”）可能是最好的算法，但它通常需要相對較低維的數據。因此，在高維數據中可視化相似關係的一個好方法是先使用自動編碼器將數據壓縮到低維空間（例如32維），然後使用t-SNE將壓縮數據映射到2D平面。請注意，Keras中的一個很好的參數實現t-SNE是由Kyle McDonald開發的，可在Github上找到。否則scikit-learn也有一個簡單實用的實現。"
   ]
  },
  {
   "cell_type": "markdown",
   "metadata": {},
   "source": [
    "## 那麼autoencoders有什麼大不了的？\n",
    "\n",
    "他們的主要聲譽來自於在線提供的許多入門機器學習課程中的特色。因此，這個領域的很多新手絕對喜歡自動編碼器，但卻苦於不知該如何入門。這就是本教程存在的原因！\n",
    "\n",
    "另外吸引如此多研究和關注的一個原因是因為它們一直被認為是解決無監督學習問題的潛在途徑，即無需標籤就可以學習有用的表示(representation)。但是，自動編碼器不是一個真正的無監督學習技術（這將意味著完全不同的學習過程），它們是一個自我監督的技術，一個監督學習的特定實例，其中目標是從輸入數據生成的。為了獲得自我監督的模型來學習有趣的特徵，你必須提出一個有趣的合成目標和損失函數，這就是問題出現的地方：僅僅學習重新構造你的輸入可能不是一個正確的選擇。在這一點上，有重要的證據表明，例如，重點放在像素級的圖像重建不能有效地學習標籤監督學習所引起的有趣的抽象特徵（其中目標是相當抽象的概念） “由諸如”狗“，”汽車“等人類）。實際上，有人可能會爭辯說，在這方面，autoencoder最好的特點是在那些你所感興趣的主要任務（分類，定位等等）上使用不怎麼樣的特徵輸入然而獲得高性能的精確重建。"
   ]
  },
  {
   "cell_type": "markdown",
   "metadata": {},
   "source": [
    "在應用於計算機視覺的自我監督學習中，自動編碼器式輸入重建的一個潛在的而且富有成效的替代方法是使用玩具任務，例如拼圖遊戲求解或細節上下文匹配（能夠將高分辨率但小塊的圖片與他們從中提取的圖片的低分辨率版本）。下面的文章研究了拼圖遊戲的解決方法，並做了一個非常有趣的閱讀：Noroozi和Favaro（2016）通過解決拼圖遊戲的視覺表示的無監督學習。這些任務為模型提供了關於傳統自動編碼器中缺少的輸入數據的內置假設，例如“視覺宏觀結構比像素級細節更重要”。\n",
    "\n",
    "![jigsaw](https://blog.keras.io/img/ae/jigsaw-puzzle.png)"
   ]
  },
  {
   "cell_type": "markdown",
   "metadata": {},
   "source": [
    "## 我們來構建最簡單的自動編碼器\n",
    "\n",
    "我們將從簡單的開始，將一個完全連接(fully-connected)的神經層作為編碼器和解碼器："
   ]
  },
  {
   "cell_type": "code",
   "execution_count": 1,
   "metadata": {},
   "outputs": [
    {
     "name": "stderr",
     "output_type": "stream",
     "text": [
      "Using TensorFlow backend.\n"
     ]
    }
   ],
   "source": [
    "from keras.layers import Input, Dense\n",
    "from keras.models import Model\n",
    "\n",
    "# 這是我們要進行編碼表示(representation)的大小\n",
    "encoding_dim = 32 # 32 浮點數 -> 假如我們的輸入是784個浮點數, 那麼壓縮係數為: 784/32 = 24.5\n",
    "\n",
    "# 這是我們的輸入的佔位符(place holder)\n",
    "input_img_fc = Input(shape=(784,))\n",
    "\n",
    "# \"encoded\"是輸入編碼過後的表示(representation)\n",
    "encoded_fc = Dense(encoding_dim, activation='relu')(input_img_fc)\n",
    "\n",
    "# \"decoded\"是有損失的解碼結果\n",
    "decoded_fc = Dense(784, activation='sigmoid')(encoded_fc)\n",
    "\n",
    "# 串接編碼(encoded)與解碼(decoded)的模型\n",
    "autoencoder_fc = Model(input_img_fc, decoded_fc)"
   ]
  },
  {
   "cell_type": "markdown",
   "metadata": {},
   "source": [
    "我們還要創建一個單獨的編碼器模型："
   ]
  },
  {
   "cell_type": "code",
   "execution_count": 2,
   "metadata": {
    "collapsed": true
   },
   "outputs": [],
   "source": [
    "# 這個模型串接輸入到編碼表示(representation)\n",
    "encoder_fc = Model(input_img_fc, encoded_fc)"
   ]
  },
  {
   "cell_type": "markdown",
   "metadata": {},
   "source": [
    "以及解碼器模型："
   ]
  },
  {
   "cell_type": "code",
   "execution_count": 3,
   "metadata": {
    "collapsed": true
   },
   "outputs": [],
   "source": [
    "# 產生一個佔位符來做為\"編碼表示(32-dimensional)\"的輸入\n",
    "encoded_input_fc = Input(shape=(encoding_dim,))\n",
    "\n",
    "# 取得autoencoder模型最後一層的神經層\n",
    "decoder_layer_fc = autoencoder_fc.layers[-1]\n",
    "\n",
    "# 產生解碼模型\n",
    "decoder_fc = Model(encoded_input_fc, decoder_layer_fc(encoded_input_fc))"
   ]
  },
  {
   "cell_type": "markdown",
   "metadata": {},
   "source": [
    "現在讓我們訓練我們的自動編碼器來重建MNIST數字。\n",
    "\n",
    "首先，我們將我們的模型配置為使用每像素二進制信號(binary crossentropy)損失函數，以及Adadelta優化器："
   ]
  },
  {
   "cell_type": "code",
   "execution_count": 4,
   "metadata": {},
   "outputs": [
    {
     "name": "stdout",
     "output_type": "stream",
     "text": [
      "_________________________________________________________________\n",
      "Layer (type)                 Output Shape              Param #   \n",
      "=================================================================\n",
      "input_1 (InputLayer)         (None, 784)               0         \n",
      "_________________________________________________________________\n",
      "dense_1 (Dense)              (None, 32)                25120     \n",
      "_________________________________________________________________\n",
      "dense_2 (Dense)              (None, 784)               25872     \n",
      "=================================================================\n",
      "Total params: 50,992\n",
      "Trainable params: 50,992\n",
      "Non-trainable params: 0\n",
      "_________________________________________________________________\n"
     ]
    }
   ],
   "source": [
    "# 模型參數設定\n",
    "autoencoder_fc.compile(optimizer='adadelta', loss='binary_crossentropy')\n",
    "\n",
    "# 秀出模型結構\n",
    "autoencoder_fc.summary()"
   ]
  },
  {
   "cell_type": "markdown",
   "metadata": {},
   "source": [
    "讓我們準備我們的輸入數據。我們使用的是MNIST數字，我們放棄了標籤（因為我們只對編碼/解碼輸入圖像感興趣）。"
   ]
  },
  {
   "cell_type": "code",
   "execution_count": 5,
   "metadata": {
    "collapsed": true
   },
   "outputs": [],
   "source": [
    "from keras.datasets import mnist\n",
    "import numpy as np\n",
    "\n",
    "(x_train, _), (x_test, _) = mnist.load_data()"
   ]
  },
  {
   "cell_type": "markdown",
   "metadata": {},
   "source": [
    "我們將歸一化(normalize)所有像素值落於0和1之間，我們將把28x28的圖像打平變成784的向量。"
   ]
  },
  {
   "cell_type": "code",
   "execution_count": 6,
   "metadata": {},
   "outputs": [
    {
     "name": "stdout",
     "output_type": "stream",
     "text": [
      "(60000, 784)\n",
      "(10000, 784)\n"
     ]
    }
   ],
   "source": [
    "x_train = x_train.astype('float32') / 255.\n",
    "x_test = x_test.astype('float32') / 255.\n",
    "\n",
    "x_train = x_train.reshape((len(x_train), np.prod(x_train.shape[1:])))\n",
    "x_test = x_test.reshape((len(x_test), np.prod(x_test.shape[1:])))\n",
    "\n",
    "print(x_train.shape)\n",
    "print(x_test.shape)"
   ]
  },
  {
   "cell_type": "markdown",
   "metadata": {},
   "source": [
    "現在讓我們訓練我們的自動編碼器50個循環(epochs)："
   ]
  },
  {
   "cell_type": "code",
   "execution_count": 7,
   "metadata": {},
   "outputs": [
    {
     "name": "stdout",
     "output_type": "stream",
     "text": [
      "Train on 60000 samples, validate on 10000 samples\n",
      "Epoch 1/50\n",
      "60000/60000 [==============================] - 3s 45us/step - loss: 0.3856 - val_loss: 0.2742\n",
      "Epoch 2/50\n",
      "60000/60000 [==============================] - 1s 24us/step - loss: 0.2681 - val_loss: 0.2593\n",
      "Epoch 3/50\n",
      "60000/60000 [==============================] - 1s 23us/step - loss: 0.2497 - val_loss: 0.2373\n",
      "Epoch 4/50\n",
      "60000/60000 [==============================] - 1s 20us/step - loss: 0.2290 - val_loss: 0.2184\n",
      "Epoch 5/50\n",
      "60000/60000 [==============================] - 1s 25us/step - loss: 0.2129 - val_loss: 0.2048\n",
      "Epoch 6/50\n",
      "60000/60000 [==============================] - 1s 24us/step - loss: 0.2009 - val_loss: 0.1943\n",
      "Epoch 7/50\n",
      "60000/60000 [==============================] - 1s 24us/step - loss: 0.1915 - val_loss: 0.1862\n",
      "Epoch 8/50\n",
      "60000/60000 [==============================] - 1s 24us/step - loss: 0.1841 - val_loss: 0.1795\n",
      "Epoch 9/50\n",
      "60000/60000 [==============================] - 1s 23us/step - loss: 0.1780 - val_loss: 0.1738\n",
      "Epoch 10/50\n",
      "60000/60000 [==============================] - 1s 23us/step - loss: 0.1727 - val_loss: 0.1689\n",
      "Epoch 11/50\n",
      "60000/60000 [==============================] - 1s 24us/step - loss: 0.1682 - val_loss: 0.1649\n",
      "Epoch 12/50\n",
      "60000/60000 [==============================] - 1s 23us/step - loss: 0.1641 - val_loss: 0.1608\n",
      "Epoch 13/50\n",
      "60000/60000 [==============================] - 2s 27us/step - loss: 0.1604 - val_loss: 0.1573\n",
      "Epoch 14/50\n",
      "60000/60000 [==============================] - 2s 28us/step - loss: 0.1570 - val_loss: 0.1540\n",
      "Epoch 15/50\n",
      "60000/60000 [==============================] - 2s 27us/step - loss: 0.1539 - val_loss: 0.1510\n",
      "Epoch 16/50\n",
      "60000/60000 [==============================] - 1s 21us/step - loss: 0.1510 - val_loss: 0.1482\n",
      "Epoch 17/50\n",
      "60000/60000 [==============================] - 2s 29us/step - loss: 0.1482 - val_loss: 0.1457\n",
      "Epoch 18/50\n",
      "60000/60000 [==============================] - 1s 22us/step - loss: 0.1457 - val_loss: 0.1431\n",
      "Epoch 19/50\n",
      "60000/60000 [==============================] - 1s 21us/step - loss: 0.1434 - val_loss: 0.1408\n",
      "Epoch 20/50\n",
      "60000/60000 [==============================] - 1s 22us/step - loss: 0.1411 - val_loss: 0.1387\n",
      "Epoch 21/50\n",
      "60000/60000 [==============================] - 2s 26us/step - loss: 0.1390 - val_loss: 0.1366\n",
      "Epoch 22/50\n",
      "60000/60000 [==============================] - 2s 29us/step - loss: 0.1370 - val_loss: 0.1345\n",
      "Epoch 23/50\n",
      "60000/60000 [==============================] - 1s 22us/step - loss: 0.1350 - val_loss: 0.1326\n",
      "Epoch 24/50\n",
      "60000/60000 [==============================] - 1s 22us/step - loss: 0.1331 - val_loss: 0.1307\n",
      "Epoch 25/50\n",
      "60000/60000 [==============================] - 2s 30us/step - loss: 0.1313 - val_loss: 0.1290\n",
      "Epoch 26/50\n",
      "60000/60000 [==============================] - 1s 24us/step - loss: 0.1296 - val_loss: 0.1273\n",
      "Epoch 27/50\n",
      "60000/60000 [==============================] - 1s 21us/step - loss: 0.1280 - val_loss: 0.1257\n",
      "Epoch 28/50\n",
      "60000/60000 [==============================] - 1s 22us/step - loss: 0.1264 - val_loss: 0.1242\n",
      "Epoch 29/50\n",
      "60000/60000 [==============================] - 1s 22us/step - loss: 0.1250 - val_loss: 0.1227\n",
      "Epoch 30/50\n",
      "60000/60000 [==============================] - 1s 23us/step - loss: 0.1236 - val_loss: 0.1214\n",
      "Epoch 31/50\n",
      "60000/60000 [==============================] - 2s 26us/step - loss: 0.1223 - val_loss: 0.1201\n",
      "Epoch 32/50\n",
      "60000/60000 [==============================] - 1s 21us/step - loss: 0.1210 - val_loss: 0.1189\n",
      "Epoch 33/50\n",
      "60000/60000 [==============================] - 1s 24us/step - loss: 0.1199 - val_loss: 0.1178\n",
      "Epoch 34/50\n",
      "60000/60000 [==============================] - 1s 24us/step - loss: 0.1188 - val_loss: 0.1167\n",
      "Epoch 35/50\n",
      "60000/60000 [==============================] - 1s 22us/step - loss: 0.1178 - val_loss: 0.1158\n",
      "Epoch 36/50\n",
      "60000/60000 [==============================] - 1s 22us/step - loss: 0.1169 - val_loss: 0.1148\n",
      "Epoch 37/50\n",
      "60000/60000 [==============================] - 1s 23us/step - loss: 0.1160 - val_loss: 0.1140\n",
      "Epoch 38/50\n",
      "60000/60000 [==============================] - 1s 21us/step - loss: 0.1152 - val_loss: 0.1132\n",
      "Epoch 39/50\n",
      "60000/60000 [==============================] - 1s 24us/step - loss: 0.1144 - val_loss: 0.1125\n",
      "Epoch 40/50\n",
      "60000/60000 [==============================] - 2s 28us/step - loss: 0.1137 - val_loss: 0.1118\n",
      "Epoch 41/50\n",
      "60000/60000 [==============================] - 2s 26us/step - loss: 0.1131 - val_loss: 0.1112\n",
      "Epoch 42/50\n",
      "60000/60000 [==============================] - 1s 20us/step - loss: 0.1125 - val_loss: 0.1106\n",
      "Epoch 43/50\n",
      "60000/60000 [==============================] - 1s 23us/step - loss: 0.1119 - val_loss: 0.1100\n",
      "Epoch 44/50\n",
      "60000/60000 [==============================] - 1s 24us/step - loss: 0.1114 - val_loss: 0.1095\n",
      "Epoch 45/50\n",
      "60000/60000 [==============================] - 2s 25us/step - loss: 0.1109 - val_loss: 0.1090\n",
      "Epoch 46/50\n",
      "60000/60000 [==============================] - 2s 27us/step - loss: 0.1104 - val_loss: 0.1086\n",
      "Epoch 47/50\n",
      "60000/60000 [==============================] - 2s 26us/step - loss: 0.1100 - val_loss: 0.1081\n",
      "Epoch 48/50\n",
      "60000/60000 [==============================] - 2s 26us/step - loss: 0.1096 - val_loss: 0.1077\n",
      "Epoch 49/50\n",
      "60000/60000 [==============================] - 2s 28us/step - loss: 0.1092 - val_loss: 0.1073\n",
      "Epoch 50/50\n",
      "60000/60000 [==============================] - 1s 24us/step - loss: 0.1088 - val_loss: 0.1070\n"
     ]
    },
    {
     "data": {
      "text/plain": [
       "<keras.callbacks.History at 0x204acd59f28>"
      ]
     },
     "execution_count": 7,
     "metadata": {},
     "output_type": "execute_result"
    }
   ],
   "source": [
    "autoencoder_fc.fit(x_train, x_train,\n",
    "               epochs=50,\n",
    "               batch_size=256,\n",
    "               shuffle=True,\n",
    "               validation_data=(x_test, x_test))"
   ]
  },
  {
   "cell_type": "markdown",
   "metadata": {},
   "source": [
    "在50個訓練循環之後，自動編碼器似乎達到穩定的訓練/測試損失值約0.11。我們可以視覺化輸入的重建和編碼表示。我們將使用Matplotlib。"
   ]
  },
  {
   "cell_type": "code",
   "execution_count": 8,
   "metadata": {
    "collapsed": true
   },
   "outputs": [],
   "source": [
    "# 編碼與解碼一些手寫數字圖像\n",
    "encoded_imgs_fc = encoder_fc.predict(x_test)\n",
    "decoded_imgs_fc = decoder_fc.predict(encoded_imgs_fc)"
   ]
  },
  {
   "cell_type": "code",
   "execution_count": 9,
   "metadata": {},
   "outputs": [
    {
     "data": {
      "image/png": "[encoded data removed]",
      "text/plain": [
       "<matplotlib.figure.Figure at 0x204b9d248d0>"
      ]
     },
     "metadata": {},
     "output_type": "display_data"
    }
   ],
   "source": [
    "import matplotlib.pyplot as plt\n",
    "\n",
    "n = 10 # 我們想展示圖像的數量\n",
    "plt.figure(figsize=(20, 4))\n",
    "\n",
    "for i in range(n):\n",
    "    # 秀出原圖像\n",
    "    ax = plt.subplot(2, n, i+1)\n",
    "    plt.imshow(x_test[i].reshape(28, 28))\n",
    "    plt.gray()\n",
    "    ax.get_xaxis().set_visible(False)\n",
    "    ax.get_yaxis().set_visible(False)\n",
    "    \n",
    "    # 秀出重建圖像\n",
    "    ax = plt.subplot(2, n, i+1+n)\n",
    "    plt.imshow(decoded_imgs_fc[i].reshape(28, 28))\n",
    "    plt.gray()\n",
    "    ax.get_xaxis().set_visible(False)\n",
    "    ax.get_yaxis().set_visible(False)\n",
    "    \n",
    "plt.show()"
   ]
  },
  {
   "cell_type": "markdown",
   "metadata": {},
   "source": [
    "以上是我們得到的結果。上面的一行是原始數字圖像，下面一行是重建的數字圖像。如果我們所說的這個autoencoder會失去很多細節(有損的壓縮)。"
   ]
  },
  {
   "cell_type": "markdown",
   "metadata": {},
   "source": [
    "## 深度自動編碼器 (Deep autoencoder)"
   ]
  },
  {
   "cell_type": "markdown",
   "metadata": {},
   "source": [
    "我們不必將自己限制在一個單獨的神經層上作為編碼器或解碼器，而是可以使用一堆神經層，例如："
   ]
  },
  {
   "cell_type": "code",
   "execution_count": 10,
   "metadata": {},
   "outputs": [
    {
     "name": "stdout",
     "output_type": "stream",
     "text": [
      "Train on 60000 samples, validate on 10000 samples\n",
      "Epoch 1/100\n",
      "60000/60000 [==============================] - 2s 41us/step - loss: 0.3414 - val_loss: 0.2625\n",
      "Epoch 2/100\n",
      "60000/60000 [==============================] - 2s 30us/step - loss: 0.2551 - val_loss: 0.2453\n",
      "Epoch 3/100\n",
      "60000/60000 [==============================] - 2s 27us/step - loss: 0.2355 - val_loss: 0.2263\n",
      "Epoch 4/100\n",
      "60000/60000 [==============================] - 2s 28us/step - loss: 0.2193 - val_loss: 0.2111\n",
      "Epoch 5/100\n",
      "60000/60000 [==============================] - 2s 32us/step - loss: 0.2081 - val_loss: 0.2035\n",
      "Epoch 6/100\n",
      "60000/60000 [==============================] - 2s 26us/step - loss: 0.1992 - val_loss: 0.1917\n",
      "Epoch 7/100\n",
      "60000/60000 [==============================] - 2s 37us/step - loss: 0.1875 - val_loss: 0.1815\n",
      "Epoch 8/100\n",
      "60000/60000 [==============================] - 2s 32us/step - loss: 0.1797 - val_loss: 0.1763\n",
      "Epoch 9/100\n",
      "60000/60000 [==============================] - 2s 29us/step - loss: 0.1742 - val_loss: 0.1701\n",
      "Epoch 10/100\n",
      "60000/60000 [==============================] - 2s 29us/step - loss: 0.1692 - val_loss: 0.1653\n",
      "Epoch 11/100\n",
      "60000/60000 [==============================] - 2s 29us/step - loss: 0.1651 - val_loss: 0.1619\n",
      "Epoch 12/100\n",
      "60000/60000 [==============================] - 2s 29us/step - loss: 0.1611 - val_loss: 0.1577\n",
      "Epoch 13/100\n",
      "60000/60000 [==============================] - 2s 28us/step - loss: 0.1573 - val_loss: 0.1534\n",
      "Epoch 14/100\n",
      "60000/60000 [==============================] - 2s 28us/step - loss: 0.1535 - val_loss: 0.1506\n",
      "Epoch 15/100\n",
      "60000/60000 [==============================] - 2s 27us/step - loss: 0.1504 - val_loss: 0.1471\n",
      "Epoch 16/100\n",
      "60000/60000 [==============================] - 2s 28us/step - loss: 0.1477 - val_loss: 0.1452\n",
      "Epoch 17/100\n",
      "60000/60000 [==============================] - 2s 27us/step - loss: 0.1454 - val_loss: 0.1415\n",
      "Epoch 18/100\n",
      "60000/60000 [==============================] - 2s 27us/step - loss: 0.1432 - val_loss: 0.1399\n",
      "Epoch 19/100\n",
      "60000/60000 [==============================] - 2s 29us/step - loss: 0.1414 - val_loss: 0.1406\n",
      "Epoch 20/100\n",
      "60000/60000 [==============================] - 2s 29us/step - loss: 0.1396 - val_loss: 0.1391\n",
      "Epoch 21/100\n",
      "60000/60000 [==============================] - 2s 25us/step - loss: 0.1381 - val_loss: 0.1350\n",
      "Epoch 22/100\n",
      "60000/60000 [==============================] - 2s 32us/step - loss: 0.1365 - val_loss: 0.1344\n",
      "Epoch 23/100\n",
      "60000/60000 [==============================] - 2s 31us/step - loss: 0.1351 - val_loss: 0.1342\n",
      "Epoch 24/100\n",
      "60000/60000 [==============================] - 2s 32us/step - loss: 0.1338 - val_loss: 0.1311\n",
      "Epoch 25/100\n",
      "60000/60000 [==============================] - 2s 33us/step - loss: 0.1326 - val_loss: 0.1303\n",
      "Epoch 26/100\n",
      "60000/60000 [==============================] - 2s 31us/step - loss: 0.1314 - val_loss: 0.1300\n",
      "Epoch 27/100\n",
      "60000/60000 [==============================] - 2s 26us/step - loss: 0.1302 - val_loss: 0.1290\n",
      "Epoch 28/100\n",
      "60000/60000 [==============================] - 2s 34us/step - loss: 0.1289 - val_loss: 0.1265\n",
      "Epoch 29/100\n",
      "60000/60000 [==============================] - 2s 27us/step - loss: 0.1278 - val_loss: 0.1265\n",
      "Epoch 30/100\n",
      "60000/60000 [==============================] - 2s 28us/step - loss: 0.1267 - val_loss: 0.1252\n",
      "Epoch 31/100\n",
      "60000/60000 [==============================] - 2s 28us/step - loss: 0.1259 - val_loss: 0.1237\n",
      "Epoch 32/100\n",
      "60000/60000 [==============================] - 1s 24us/step - loss: 0.1248 - val_loss: 0.1231\n",
      "Epoch 33/100\n",
      "60000/60000 [==============================] - 2s 35us/step - loss: 0.1239 - val_loss: 0.1213\n",
      "Epoch 34/100\n",
      "60000/60000 [==============================] - 2s 32us/step - loss: 0.1231 - val_loss: 0.1219\n",
      "Epoch 35/100\n",
      "60000/60000 [==============================] - 2s 30us/step - loss: 0.1223 - val_loss: 0.1213\n",
      "Epoch 36/100\n",
      "60000/60000 [==============================] - 1s 24us/step - loss: 0.1216 - val_loss: 0.1198\n",
      "Epoch 37/100\n",
      "60000/60000 [==============================] - 2s 26us/step - loss: 0.1208 - val_loss: 0.1191\n",
      "Epoch 38/100\n",
      "60000/60000 [==============================] - 2s 26us/step - loss: 0.1202 - val_loss: 0.1173\n",
      "Epoch 39/100\n",
      "60000/60000 [==============================] - 2s 30us/step - loss: 0.1194 - val_loss: 0.1175\n",
      "Epoch 40/100\n",
      "60000/60000 [==============================] - 2s 28us/step - loss: 0.1188 - val_loss: 0.1173\n",
      "Epoch 41/100\n",
      "60000/60000 [==============================] - 2s 33us/step - loss: 0.1182 - val_loss: 0.1168\n",
      "Epoch 42/100\n",
      "60000/60000 [==============================] - 2s 34us/step - loss: 0.1175 - val_loss: 0.1159\n",
      "Epoch 43/100\n",
      "60000/60000 [==============================] - 2s 30us/step - loss: 0.1170 - val_loss: 0.1143\n",
      "Epoch 44/100\n",
      "60000/60000 [==============================] - 2s 28us/step - loss: 0.1165 - val_loss: 0.1146\n",
      "Epoch 45/100\n",
      "60000/60000 [==============================] - 2s 31us/step - loss: 0.1158 - val_loss: 0.1141\n",
      "Epoch 46/100\n",
      "60000/60000 [==============================] - 2s 34us/step - loss: 0.1153 - val_loss: 0.1154\n",
      "Epoch 47/100\n",
      "60000/60000 [==============================] - 2s 28us/step - loss: 0.1149 - val_loss: 0.1128\n",
      "Epoch 48/100\n",
      "60000/60000 [==============================] - 2s 37us/step - loss: 0.1144 - val_loss: 0.1122\n",
      "Epoch 49/100\n",
      "60000/60000 [==============================] - 2s 26us/step - loss: 0.1139 - val_loss: 0.1117\n",
      "Epoch 50/100\n",
      "60000/60000 [==============================] - 2s 32us/step - loss: 0.1135 - val_loss: 0.1119\n",
      "Epoch 51/100\n",
      "60000/60000 [==============================] - 2s 33us/step - loss: 0.1130 - val_loss: 0.1111\n",
      "Epoch 52/100\n",
      "60000/60000 [==============================] - 2s 26us/step - loss: 0.1126 - val_loss: 0.1112\n",
      "Epoch 53/100\n",
      "60000/60000 [==============================] - 2s 30us/step - loss: 0.1122 - val_loss: 0.1113\n",
      "Epoch 54/100\n",
      "60000/60000 [==============================] - 2s 33us/step - loss: 0.1118 - val_loss: 0.1103\n",
      "Epoch 55/100\n",
      "60000/60000 [==============================] - 2s 30us/step - loss: 0.1113 - val_loss: 0.1111\n",
      "Epoch 56/100\n",
      "60000/60000 [==============================] - 2s 29us/step - loss: 0.1111 - val_loss: 0.1100\n",
      "Epoch 57/100\n",
      "60000/60000 [==============================] - 2s 26us/step - loss: 0.1105 - val_loss: 0.1095\n",
      "Epoch 58/100\n",
      "60000/60000 [==============================] - 2s 26us/step - loss: 0.1102 - val_loss: 0.1081\n",
      "Epoch 59/100\n",
      "60000/60000 [==============================] - 2s 27us/step - loss: 0.1099 - val_loss: 0.1089\n",
      "Epoch 60/100\n",
      "60000/60000 [==============================] - 2s 30us/step - loss: 0.1095 - val_loss: 0.1087\n",
      "Epoch 61/100\n",
      "60000/60000 [==============================] - 2s 27us/step - loss: 0.1091 - val_loss: 0.1079\n",
      "Epoch 62/100\n",
      "60000/60000 [==============================] - 2s 26us/step - loss: 0.1090 - val_loss: 0.1070\n",
      "Epoch 63/100\n",
      "60000/60000 [==============================] - 2s 29us/step - loss: 0.1086 - val_loss: 0.1075\n",
      "Epoch 64/100\n",
      "60000/60000 [==============================] - 2s 27us/step - loss: 0.1084 - val_loss: 0.1064\n",
      "Epoch 65/100\n",
      "60000/60000 [==============================] - 2s 31us/step - loss: 0.1081 - val_loss: 0.1072\n",
      "Epoch 66/100\n",
      "60000/60000 [==============================] - 2s 25us/step - loss: 0.1078 - val_loss: 0.1063\n",
      "Epoch 67/100\n",
      "60000/60000 [==============================] - 2s 35us/step - loss: 0.1074 - val_loss: 0.1054\n",
      "Epoch 68/100\n",
      "60000/60000 [==============================] - 2s 31us/step - loss: 0.1072 - val_loss: 0.1053\n",
      "Epoch 69/100\n",
      "60000/60000 [==============================] - 2s 31us/step - loss: 0.1068 - val_loss: 0.1066\n",
      "Epoch 70/100\n",
      "60000/60000 [==============================] - 2s 27us/step - loss: 0.1066 - val_loss: 0.1045\n",
      "Epoch 71/100\n",
      "60000/60000 [==============================] - 2s 28us/step - loss: 0.1064 - val_loss: 0.1059\n",
      "Epoch 72/100\n",
      "60000/60000 [==============================] - 2s 35us/step - loss: 0.1061 - val_loss: 0.1057\n",
      "Epoch 73/100\n",
      "60000/60000 [==============================] - 2s 33us/step - loss: 0.1058 - val_loss: 0.1044\n",
      "Epoch 74/100\n",
      "60000/60000 [==============================] - 2s 33us/step - loss: 0.1056 - val_loss: 0.1034\n",
      "Epoch 75/100\n",
      "60000/60000 [==============================] - 2s 30us/step - loss: 0.1052 - val_loss: 0.1046\n",
      "Epoch 76/100\n",
      "60000/60000 [==============================] - 2s 28us/step - loss: 0.1050 - val_loss: 0.1035\n",
      "Epoch 77/100\n",
      "60000/60000 [==============================] - 2s 32us/step - loss: 0.1048 - val_loss: 0.1040\n",
      "Epoch 78/100\n",
      "60000/60000 [==============================] - 2s 32us/step - loss: 0.1045 - val_loss: 0.1027\n",
      "Epoch 79/100\n",
      "60000/60000 [==============================] - 2s 38us/step - loss: 0.1042 - val_loss: 0.1035\n",
      "Epoch 80/100\n",
      "60000/60000 [==============================] - 1s 25us/step - loss: 0.1040 - val_loss: 0.1040\n",
      "Epoch 81/100\n",
      "60000/60000 [==============================] - 2s 31us/step - loss: 0.1037 - val_loss: 0.1023\n",
      "Epoch 82/100\n",
      "60000/60000 [==============================] - 2s 32us/step - loss: 0.1035 - val_loss: 0.1015\n",
      "Epoch 83/100\n",
      "60000/60000 [==============================] - 2s 27us/step - loss: 0.1031 - val_loss: 0.1007\n",
      "Epoch 84/100\n",
      "60000/60000 [==============================] - 2s 33us/step - loss: 0.1030 - val_loss: 0.1010\n",
      "Epoch 85/100\n",
      "60000/60000 [==============================] - 2s 31us/step - loss: 0.1027 - val_loss: 0.1015\n",
      "Epoch 86/100\n",
      "60000/60000 [==============================] - 2s 29us/step - loss: 0.1025 - val_loss: 0.1024\n",
      "Epoch 87/100\n",
      "60000/60000 [==============================] - 2s 29us/step - loss: 0.1023 - val_loss: 0.1011\n",
      "Epoch 88/100\n",
      "60000/60000 [==============================] - 2s 27us/step - loss: 0.1020 - val_loss: 0.1013\n",
      "Epoch 89/100\n",
      "60000/60000 [==============================] - 2s 29us/step - loss: 0.1018 - val_loss: 0.1006\n",
      "Epoch 90/100\n",
      "60000/60000 [==============================] - 1s 24us/step - loss: 0.1017 - val_loss: 0.0998\n",
      "Epoch 91/100\n",
      "60000/60000 [==============================] - 2s 27us/step - loss: 0.1014 - val_loss: 0.0997\n",
      "Epoch 92/100\n",
      "60000/60000 [==============================] - 2s 29us/step - loss: 0.1012 - val_loss: 0.1002\n",
      "Epoch 93/100\n",
      "60000/60000 [==============================] - 2s 30us/step - loss: 0.1010 - val_loss: 0.1001\n",
      "Epoch 94/100\n",
      "60000/60000 [==============================] - 2s 28us/step - loss: 0.1007 - val_loss: 0.1016\n",
      "Epoch 95/100\n",
      "60000/60000 [==============================] - 2s 27us/step - loss: 0.1007 - val_loss: 0.0999\n",
      "Epoch 96/100\n",
      "60000/60000 [==============================] - 2s 26us/step - loss: 0.1004 - val_loss: 0.1015\n",
      "Epoch 97/100\n",
      "60000/60000 [==============================] - 2s 26us/step - loss: 0.1003 - val_loss: 0.0994\n",
      "Epoch 98/100\n",
      "60000/60000 [==============================] - 2s 28us/step - loss: 0.1001 - val_loss: 0.1004\n",
      "Epoch 99/100\n",
      "60000/60000 [==============================] - 2s 28us/step - loss: 0.1000 - val_loss: 0.0986\n",
      "Epoch 100/100\n",
      "60000/60000 [==============================] - 2s 28us/step - loss: 0.0999 - val_loss: 0.0995\n"
     ]
    },
    {
     "data": {
      "text/plain": [
       "<keras.callbacks.History at 0x2071a5f78d0>"
      ]
     },
     "execution_count": 10,
     "metadata": {},
     "output_type": "execute_result"
    }
   ],
   "source": [
    "input_img_deep = Input(shape=(784,))\n",
    "\n",
    "encoded_deep = Dense(128, activation='relu')(input_img_deep)\n",
    "encoded_deep = Dense(64, activation='relu')(encoded_deep)\n",
    "encoded_deep = Dense(32, activation='relu')(encoded_deep)\n",
    "\n",
    "decoded_deep = Dense(64, activation='relu')(encoded_deep)\n",
    "decoded_deep = Dense(128, activation='relu')(decoded_deep)\n",
    "decoded_deep = Dense(784, activation='sigmoid')(decoded_deep)\n",
    "\n",
    "# 串接編碼(encoded)與解碼(decoded)的模型\n",
    "autoencoder_deep = Model(input_img_deep, decoded_deep)\n",
    "\n",
    "# 模型參數設定\n",
    "autoencoder_deep.compile(optimizer='adadelta', loss='binary_crossentropy')\n",
    "\n",
    "# 開始訓練模型\n",
    "autoencoder_deep.fit(x_train, x_train,\n",
    "               epochs=100,\n",
    "               batch_size=256,\n",
    "               shuffle=True,\n",
    "               validation_data=(x_test, x_test))"
   ]
  },
  {
   "cell_type": "code",
   "execution_count": 11,
   "metadata": {},
   "outputs": [
    {
     "data": {
      "image/png": "[encoded data removed]",
      "text/plain": [
       "<matplotlib.figure.Figure at 0x2072798ef98>"
      ]
     },
     "metadata": {},
     "output_type": "display_data"
    }
   ],
   "source": [
    "# 編碼與解碼一些手寫數字圖像\n",
    "decoded_imgs_deep = autoencoder_deep.predict(x_test)\n",
    "\n",
    "n = 10 # 我們想展示圖像的數量\n",
    "plt.figure(figsize=(20, 4))\n",
    "\n",
    "for i in range(n):\n",
    "    # 秀出原圖像\n",
    "    ax = plt.subplot(2, n, i+1)\n",
    "    plt.imshow(x_test[i].reshape(28, 28))\n",
    "    plt.gray()\n",
    "    ax.get_xaxis().set_visible(False)\n",
    "    ax.get_yaxis().set_visible(False)\n",
    "    \n",
    "    # 秀出重建圖像\n",
    "    ax = plt.subplot(2, n, i+1+n)\n",
    "    plt.imshow(decoded_imgs_deep[i].reshape(28, 28))\n",
    "    plt.gray()\n",
    "    ax.get_xaxis().set_visible(False)\n",
    "    ax.get_yaxis().set_visible(False)\n",
    "    \n",
    "plt.show()"
   ]
  },
  {
   "cell_type": "markdown",
   "metadata": {},
   "source": [
    "## 卷積自動編碼器 (Convolutional autoencoder)\n",
    "\n",
    "由於我們的輸入是圖像，所以使用卷積神經網絡（convnets）作為編碼器和解碼器是有意義的。在實際設置中，應用於圖像的自動編碼器始終是卷積自動編碼器 - 它們只是表現得更好。\n",
    "\n",
    "我們來實現一個。編碼器將包含一堆Conv2D和MaxPooling2D層（最大池用於空間向下採樣down-sampling），而解碼器將包含一堆Conv2D和UpSampling2D層。"
   ]
  },
  {
   "cell_type": "code",
   "execution_count": 12,
   "metadata": {},
   "outputs": [
    {
     "name": "stdout",
     "output_type": "stream",
     "text": [
      "_________________________________________________________________\n",
      "Layer (type)                 Output Shape              Param #   \n",
      "=================================================================\n",
      "input_4 (InputLayer)         (None, 28, 28, 1)         0         \n",
      "_________________________________________________________________\n",
      "conv2d_1 (Conv2D)            (None, 28, 28, 16)        160       \n",
      "_________________________________________________________________\n",
      "max_pooling2d_1 (MaxPooling2 (None, 14, 14, 16)        0         \n",
      "_________________________________________________________________\n",
      "conv2d_2 (Conv2D)            (None, 14, 14, 8)         1160      \n",
      "_________________________________________________________________\n",
      "max_pooling2d_2 (MaxPooling2 (None, 7, 7, 8)           0         \n",
      "_________________________________________________________________\n",
      "conv2d_3 (Conv2D)            (None, 7, 7, 8)           584       \n",
      "_________________________________________________________________\n",
      "max_pooling2d_3 (MaxPooling2 (None, 4, 4, 8)           0         \n",
      "_________________________________________________________________\n",
      "conv2d_4 (Conv2D)            (None, 4, 4, 8)           584       \n",
      "_________________________________________________________________\n",
      "up_sampling2d_1 (UpSampling2 (None, 8, 8, 8)           0         \n",
      "_________________________________________________________________\n",
      "conv2d_5 (Conv2D)            (None, 8, 8, 8)           584       \n",
      "_________________________________________________________________\n",
      "up_sampling2d_2 (UpSampling2 (None, 16, 16, 8)         0         \n",
      "_________________________________________________________________\n",
      "conv2d_6 (Conv2D)            (None, 14, 14, 16)        1168      \n",
      "_________________________________________________________________\n",
      "up_sampling2d_3 (UpSampling2 (None, 28, 28, 16)        0         \n",
      "_________________________________________________________________\n",
      "conv2d_7 (Conv2D)            (None, 28, 28, 1)         145       \n",
      "=================================================================\n",
      "Total params: 4,385\n",
      "Trainable params: 4,385\n",
      "Non-trainable params: 0\n",
      "_________________________________________________________________\n"
     ]
    }
   ],
   "source": [
    "from keras.layers import Input, Dense, Conv2D, MaxPool2D, UpSampling2D\n",
    "from keras.models import Model\n",
    "\n",
    "input_img_cov = Input(shape=(28, 28, 1)) # 使用`channels_first`圖像數據格式\n",
    "\n",
    "x = Conv2D(16, (3, 3), activation='relu', padding='same')(input_img_cov)\n",
    "x = MaxPool2D((2, 2), padding='same')(x)\n",
    "x = Conv2D(8, (3, 3), activation='relu', padding='same')(x)\n",
    "x = MaxPool2D((2, 2), padding='same')(x)\n",
    "x = Conv2D(8, (3, 3), activation='relu', padding='same')(x)\n",
    "encoded_cov = MaxPool2D((2, 2), padding='same')(x)\n",
    "\n",
    "# 到這個節點的編碼表示的結構是 (4, 4, 8), 也可以想成是 128-dimensional\n",
    "\n",
    "x = Conv2D(8, (3, 3), activation='relu', padding='same')(encoded_cov)\n",
    "x = UpSampling2D((2, 2))(x)\n",
    "x = Conv2D(8, (3, 3), activation='relu', padding='same')(x)\n",
    "x = UpSampling2D((2, 2))(x)\n",
    "x = Conv2D(16, (3, 3), activation='relu')(x)\n",
    "x = UpSampling2D((2, 2))(x)\n",
    "decoded_cov = Conv2D(1, (3, 3), activation='sigmoid', padding='same')(x)\n",
    "\n",
    "# 串接編碼(encoded)與解碼(decoded)的模型\n",
    "autoencoder_cov = Model(input_img_cov, decoded_cov)\n",
    "\n",
    "# 模型參數設定\n",
    "autoencoder_cov.compile(optimizer='adadelta', loss='binary_crossentropy')\n",
    "\n",
    "# 秀出模型結構\n",
    "autoencoder_cov.summary()"
   ]
  },
  {
   "cell_type": "markdown",
   "metadata": {},
   "source": [
    "為了訓練它，我們將使用原始MNIST數字（樣本,28,28），並且我們僅對像素值進行歸一化讓數值落在0和1之間。"
   ]
  },
  {
   "cell_type": "code",
   "execution_count": 13,
   "metadata": {},
   "outputs": [
    {
     "name": "stdout",
     "output_type": "stream",
     "text": [
      "(60000, 28, 28, 1)\n",
      "(10000, 28, 28, 1)\n"
     ]
    }
   ],
   "source": [
    "from keras.datasets import mnist\n",
    "import numpy as np\n",
    "\n",
    "(x_train, _), (x_test, _) = mnist.load_data()\n",
    "\n",
    "x_train = x_train.astype('float32') / 255.\n",
    "x_test = x_test.astype('float32') / 255.\n",
    "\n",
    "x_train = np.reshape(x_train, (len(x_train), 28, 28, 1))  # 使用`channels_first`圖像數據格式\n",
    "x_test = np.reshape(x_test, (len(x_test), 28, 28, 1))  # 使用`channels_first`圖像數據格式\n",
    "\n",
    "print(x_train.shape)\n",
    "print(x_test.shape)"
   ]
  },
  {
   "cell_type": "markdown",
   "metadata": {},
   "source": [
    "讓我們訓練這個模型50個循環。為了演示如何在訓練過程中顯示模型的結果，我們將使用TensorFlow後端和TensorBoard回調。\n",
    "\n",
    "首先，打開一個終端並啟動一個TensorBoard服務器，該服務器將讀取存儲在/tmp/autoencoder中的日誌。"
   ]
  },
  {
   "cell_type": "code",
   "execution_count": 14,
   "metadata": {},
   "outputs": [
    {
     "name": "stdout",
     "output_type": "stream",
     "text": [
      "Train on 60000 samples, validate on 10000 samples\n",
      "Epoch 1/50\n",
      "60000/60000 [==============================] - 6s 97us/step - loss: 0.2409 - val_loss: 0.1732\n",
      "Epoch 2/50\n",
      "60000/60000 [==============================] - 5s 75us/step - loss: 0.1648 - val_loss: 0.1551\n",
      "Epoch 3/50\n",
      "60000/60000 [==============================] - 4s 71us/step - loss: 0.1477 - val_loss: 0.1390\n",
      "Epoch 4/50\n",
      "60000/60000 [==============================] - 4s 74us/step - loss: 0.1376 - val_loss: 0.1317\n",
      "Epoch 5/50\n",
      "60000/60000 [==============================] - 4s 74us/step - loss: 0.1313 - val_loss: 0.1305\n",
      "Epoch 6/50\n",
      "60000/60000 [==============================] - 5s 80us/step - loss: 0.1264 - val_loss: 0.1224\n",
      "Epoch 7/50\n",
      "60000/60000 [==============================] - 4s 67us/step - loss: 0.1235 - val_loss: 0.1205\n",
      "Epoch 8/50\n",
      "60000/60000 [==============================] - 4s 70us/step - loss: 0.1209 - val_loss: 0.1187\n",
      "Epoch 9/50\n",
      "60000/60000 [==============================] - 5s 76us/step - loss: 0.1192 - val_loss: 0.1189\n",
      "Epoch 10/50\n",
      "60000/60000 [==============================] - 5s 75us/step - loss: 0.1177 - val_loss: 0.1178\n",
      "Epoch 11/50\n",
      "60000/60000 [==============================] - 4s 72us/step - loss: 0.1160 - val_loss: 0.1152\n",
      "Epoch 12/50\n",
      "60000/60000 [==============================] - 4s 72us/step - loss: 0.1140 - val_loss: 0.1147\n",
      "Epoch 13/50\n",
      "60000/60000 [==============================] - 5s 84us/step - loss: 0.1131 - val_loss: 0.1106\n",
      "Epoch 14/50\n",
      "60000/60000 [==============================] - 4s 70us/step - loss: 0.1124 - val_loss: 0.1100\n",
      "Epoch 15/50\n",
      "60000/60000 [==============================] - 5s 77us/step - loss: 0.1118 - val_loss: 0.1094\n",
      "Epoch 16/50\n",
      "60000/60000 [==============================] - 4s 68us/step - loss: 0.1105 - val_loss: 0.1111\n",
      "Epoch 17/50\n",
      "60000/60000 [==============================] - 4s 68us/step - loss: 0.1099 - val_loss: 0.1073\n",
      "Epoch 18/50\n",
      "60000/60000 [==============================] - 4s 75us/step - loss: 0.1094 - val_loss: 0.1105\n",
      "Epoch 19/50\n",
      "60000/60000 [==============================] - 4s 70us/step - loss: 0.1089 - val_loss: 0.1089\n",
      "Epoch 20/50\n",
      "60000/60000 [==============================] - 5s 81us/step - loss: 0.1077 - val_loss: 0.1065\n",
      "Epoch 21/50\n",
      "60000/60000 [==============================] - 5s 82us/step - loss: 0.1075 - val_loss: 0.1052\n",
      "Epoch 22/50\n",
      "60000/60000 [==============================] - 5s 79us/step - loss: 0.1071 - val_loss: 0.1041\n",
      "Epoch 23/50\n",
      "60000/60000 [==============================] - 5s 75us/step - loss: 0.1065 - val_loss: 0.1049\n",
      "Epoch 24/50\n",
      "60000/60000 [==============================] - 5s 79us/step - loss: 0.1062 - val_loss: 0.1070\n",
      "Epoch 25/50\n",
      "60000/60000 [==============================] - 4s 73us/step - loss: 0.1056 - val_loss: 0.1042\n",
      "Epoch 26/50\n",
      "60000/60000 [==============================] - 5s 78us/step - loss: 0.1053 - val_loss: 0.1040\n",
      "Epoch 27/50\n",
      "60000/60000 [==============================] - 5s 76us/step - loss: 0.1048 - val_loss: 0.1038\n",
      "Epoch 28/50\n",
      "60000/60000 [==============================] - 5s 77us/step - loss: 0.1044 - val_loss: 0.1026\n",
      "Epoch 29/50\n",
      "60000/60000 [==============================] - 5s 79us/step - loss: 0.1045 - val_loss: 0.1020\n",
      "Epoch 30/50\n",
      "60000/60000 [==============================] - 5s 75us/step - loss: 0.1041 - val_loss: 0.1018\n",
      "Epoch 31/50\n",
      "60000/60000 [==============================] - 4s 74us/step - loss: 0.1036 - val_loss: 0.1029\n",
      "Epoch 32/50\n",
      "60000/60000 [==============================] - 5s 78us/step - loss: 0.1033 - val_loss: 0.1020\n",
      "Epoch 33/50\n",
      "60000/60000 [==============================] - 4s 72us/step - loss: 0.1031 - val_loss: 0.1009\n",
      "Epoch 34/50\n",
      "60000/60000 [==============================] - 4s 73us/step - loss: 0.1031 - val_loss: 0.1009\n",
      "Epoch 35/50\n",
      "60000/60000 [==============================] - 4s 74us/step - loss: 0.1027 - val_loss: 0.1018\n",
      "Epoch 36/50\n",
      "60000/60000 [==============================] - 5s 77us/step - loss: 0.1025 - val_loss: 0.1026\n",
      "Epoch 37/50\n",
      "60000/60000 [==============================] - 5s 77us/step - loss: 0.1023 - val_loss: 0.1011\n",
      "Epoch 38/50\n",
      "60000/60000 [==============================] - 4s 72us/step - loss: 0.1018 - val_loss: 0.1005\n",
      "Epoch 39/50\n",
      "60000/60000 [==============================] - 5s 79us/step - loss: 0.1016 - val_loss: 0.1009\n",
      "Epoch 40/50\n",
      "60000/60000 [==============================] - 4s 74us/step - loss: 0.1014 - val_loss: 0.0997\n",
      "Epoch 41/50\n",
      "60000/60000 [==============================] - 5s 78us/step - loss: 0.1011 - val_loss: 0.0993\n",
      "Epoch 42/50\n",
      "60000/60000 [==============================] - 5s 78us/step - loss: 0.1010 - val_loss: 0.1005\n",
      "Epoch 43/50\n",
      "60000/60000 [==============================] - 5s 76us/step - loss: 0.1009 - val_loss: 0.0998\n",
      "Epoch 44/50\n",
      "60000/60000 [==============================] - 4s 70us/step - loss: 0.1005 - val_loss: 0.0983\n",
      "Epoch 45/50\n",
      "60000/60000 [==============================] - 4s 74us/step - loss: 0.1002 - val_loss: 0.0988\n",
      "Epoch 46/50\n",
      "60000/60000 [==============================] - 5s 78us/step - loss: 0.1004 - val_loss: 0.0998\n",
      "Epoch 47/50\n",
      "60000/60000 [==============================] - 5s 86us/step - loss: 0.1003 - val_loss: 0.0986\n",
      "Epoch 48/50\n",
      "60000/60000 [==============================] - 4s 70us/step - loss: 0.1002 - val_loss: 0.0980\n",
      "Epoch 49/50\n",
      "60000/60000 [==============================] - 5s 80us/step - loss: 0.0998 - val_loss: 0.0975\n",
      "Epoch 50/50\n",
      "60000/60000 [==============================] - 5s 77us/step - loss: 0.0997 - val_loss: 0.0982\n"
     ]
    },
    {
     "data": {
      "text/plain": [
       "<keras.callbacks.History at 0x2072ac72cc0>"
      ]
     },
     "execution_count": 14,
     "metadata": {},
     "output_type": "execute_result"
    }
   ],
   "source": [
    "# 開始訓練模型\n",
    "autoencoder_cov.fit(x_train, x_train,\n",
    "                epochs=50,\n",
    "                batch_size=128,\n",
    "                shuffle=True,\n",
    "                validation_data=(x_test, x_test))"
   ]
  },
  {
   "cell_type": "markdown",
   "metadata": {},
   "source": [
    "該模型收斂到0.094的損失，明顯好於我們之前的模型（這在很大程度上是由於編碼表示的更高的熵容量，128維度與之前的32維度）。我們來看看重建的數字圖像："
   ]
  },
  {
   "cell_type": "code",
   "execution_count": 15,
   "metadata": {},
   "outputs": [
    {
     "data": {
      "image/png": "[encoded data removed]",
      "text/plain": [
       "<matplotlib.figure.Figure at 0x2072ac0b198>"
      ]
     },
     "metadata": {},
     "output_type": "display_data"
    }
   ],
   "source": [
    "decoded_imgs_conv = autoencoder_cov.predict(x_test)\n",
    "\n",
    "n = 10 # 我們想展示圖像的數量\n",
    "plt.figure(figsize=(20, 4))\n",
    "\n",
    "for i in range(n):\n",
    "    # 秀出原圖像\n",
    "    ax = plt.subplot(2, n, i+1)\n",
    "    plt.imshow(x_test[i].reshape(28, 28))\n",
    "    plt.gray()\n",
    "    ax.get_xaxis().set_visible(False)\n",
    "    ax.get_yaxis().set_visible(False)\n",
    "    \n",
    "    # 秀出重建圖像\n",
    "    ax = plt.subplot(2, n, i+1+n)\n",
    "    plt.imshow(decoded_imgs_conv[i].reshape(28, 28))\n",
    "    plt.gray()\n",
    "    ax.get_xaxis().set_visible(False)\n",
    "    ax.get_yaxis().set_visible(False)\n",
    "    \n",
    "plt.show()"
   ]
  },
  {
   "cell_type": "markdown",
   "metadata": {},
   "source": [
    "## 應用於圖像去噪 (image denoising)\n",
    "\n",
    "讓我們把我們的卷積自動編碼器工作在一個圖像去噪問題。這很簡單：我們將訓練自動編碼器將噪聲數字圖像處理成清晰的數字圖像。\n",
    "\n",
    "以下是我們如何生成合成噪聲數字圖像：我們只是應用高斯噪聲矩陣，並在0和1之間剪切圖像。"
   ]
  },
  {
   "cell_type": "code",
   "execution_count": 16,
   "metadata": {
    "collapsed": true
   },
   "outputs": [],
   "source": [
    "from keras.datasets import mnist\n",
    "import numpy as np\n",
    "\n",
    "(x_train, _), (x_test, _) = mnist.load_data()\n",
    "\n",
    "x_train = x_train.astype('float32') / 255.\n",
    "x_test = x_test.astype('float32') / 255.\n",
    "\n",
    "x_train = np.reshape(x_train, (len(x_train), 28, 28, 1))  # 使用`channels_first`圖像數據格式\n",
    "x_test = np.reshape(x_test, (len(x_test), 28, 28, 1))  # 使用`channels_first`圖像數據格式\n",
    "\n",
    "noise_factor = 0.5 # 噪點因子\n",
    "x_train_noisy = x_train + noise_factor * np.random.normal(loc=0.0, scale=1.0, size=x_train.shape) \n",
    "x_test_noisy = x_test + noise_factor * np.random.normal(loc=0.0, scale=1.0, size=x_test.shape) \n",
    "\n",
    "x_train_noisy = np.clip(x_train_noisy, 0., 1.)\n",
    "x_test_noisy = np.clip(x_test_noisy, 0., 1.)"
   ]
  },
  {
   "cell_type": "markdown",
   "metadata": {},
   "source": [
    "以下是有噪點的數字圖像："
   ]
  },
  {
   "cell_type": "code",
   "execution_count": 17,
   "metadata": {},
   "outputs": [
    {
     "data": {
      "image/png": "[encoded data removed]",
      "text/plain": [
       "<matplotlib.figure.Figure at 0x204bb83d710>"
      ]
     },
     "metadata": {},
     "output_type": "display_data"
    }
   ],
   "source": [
    "n = 10\n",
    "plt.figure(figsize=(20, 2))\n",
    "\n",
    "for i in range(n):\n",
    "    ax = plt.subplot(1, n, i+1)\n",
    "    plt.imshow(x_test_noisy[i].reshape(28, 28))\n",
    "    plt.gray()\n",
    "    ax.get_xaxis().set_visible(False)\n",
    "    ax.get_yaxis().set_visible(False)\n",
    "plt.show()"
   ]
  },
  {
   "cell_type": "markdown",
   "metadata": {},
   "source": [
    "如果你瞇起眼睛，你仍然勉強可以認出他們。我們的自動編碼器能學會如何恢復原始數字圖像嗎？讓我們試試看。\n",
    "\n",
    "與上一個的捲積自動編碼器相比，為了提高重建質量，我們將使用稍微不同的模型，每層有更多的濾波器："
   ]
  },
  {
   "cell_type": "code",
   "execution_count": 18,
   "metadata": {},
   "outputs": [
    {
     "name": "stdout",
     "output_type": "stream",
     "text": [
      "_________________________________________________________________\n",
      "Layer (type)                 Output Shape              Param #   \n",
      "=================================================================\n",
      "input_5 (InputLayer)         (None, 28, 28, 1)         0         \n",
      "_________________________________________________________________\n",
      "conv2d_8 (Conv2D)            (None, 28, 28, 32)        320       \n",
      "_________________________________________________________________\n",
      "max_pooling2d_4 (MaxPooling2 (None, 14, 14, 32)        0         \n",
      "_________________________________________________________________\n",
      "conv2d_9 (Conv2D)            (None, 14, 14, 32)        9248      \n",
      "_________________________________________________________________\n",
      "max_pooling2d_5 (MaxPooling2 (None, 7, 7, 32)          0         \n",
      "_________________________________________________________________\n",
      "conv2d_10 (Conv2D)           (None, 7, 7, 32)          9248      \n",
      "_________________________________________________________________\n",
      "up_sampling2d_4 (UpSampling2 (None, 14, 14, 32)        0         \n",
      "_________________________________________________________________\n",
      "conv2d_11 (Conv2D)           (None, 14, 14, 32)        9248      \n",
      "_________________________________________________________________\n",
      "up_sampling2d_5 (UpSampling2 (None, 28, 28, 32)        0         \n",
      "_________________________________________________________________\n",
      "conv2d_12 (Conv2D)           (None, 28, 28, 1)         289       \n",
      "=================================================================\n",
      "Total params: 28,353\n",
      "Trainable params: 28,353\n",
      "Non-trainable params: 0\n",
      "_________________________________________________________________\n"
     ]
    }
   ],
   "source": [
    "input_img_conv2 = Input(shape=(28, 28, 1))\n",
    "\n",
    "x = Conv2D(32, (3, 3), activation='relu', padding='same')(input_img_conv2)\n",
    "x = MaxPool2D((2, 2), padding='same')(x)\n",
    "x = Conv2D(32, (3, 3), activation='relu', padding='same')(x)\n",
    "encoded_conv2 = MaxPool2D((2, 2), padding='same')(x)\n",
    "\n",
    "# 到這個節點的編碼表示的結構是 (7, 7, 32)\n",
    "\n",
    "x = Conv2D(32, (3, 3), activation='relu', padding='same')(encoded_conv2)\n",
    "x = UpSampling2D((2, 2))(x)\n",
    "x = Conv2D(32, (3, 3), activation='relu', padding='same')(x)\n",
    "x = UpSampling2D((2, 2))(x)\n",
    "decoded_conv2= Conv2D(1, (3, 3), activation='sigmoid', padding='same')(x)\n",
    "\n",
    "# 串接編碼(encoded)與解碼(decoded)的模型\n",
    "autoencoder_conv2 = Model(input_img_conv2, decoded_conv2)\n",
    "\n",
    "# 模型參數設定\n",
    "autoencoder_conv2.compile(optimizer='adadelta', loss='binary_crossentropy')\n",
    "\n",
    "# 模型參數設定\n",
    "autoencoder_conv2.summary()\n"
   ]
  },
  {
   "cell_type": "markdown",
   "metadata": {},
   "source": [
    "讓我們訓練它100個循環："
   ]
  },
  {
   "cell_type": "code",
   "execution_count": 19,
   "metadata": {},
   "outputs": [
    {
     "name": "stdout",
     "output_type": "stream",
     "text": [
      "Train on 60000 samples, validate on 10000 samples\n",
      "Epoch 1/100\n",
      "60000/60000 [==============================] - 6s 97us/step - loss: 0.2192 - val_loss: 0.1322\n",
      "Epoch 2/100\n",
      "60000/60000 [==============================] - 5s 85us/step - loss: 0.1264 - val_loss: 0.1170\n",
      "Epoch 3/100\n",
      "60000/60000 [==============================] - 5s 88us/step - loss: 0.1162 - val_loss: 0.1110\n",
      "Epoch 4/100\n",
      "60000/60000 [==============================] - 6s 95us/step - loss: 0.1113 - val_loss: 0.1074\n",
      "Epoch 5/100\n",
      "60000/60000 [==============================] - 6s 98us/step - loss: 0.1085 - val_loss: 0.1062\n",
      "Epoch 6/100\n",
      "60000/60000 [==============================] - 5s 91us/step - loss: 0.1065 - val_loss: 0.1035\n",
      "Epoch 7/100\n",
      "60000/60000 [==============================] - 6s 95us/step - loss: 0.1049 - val_loss: 0.1023\n",
      "Epoch 8/100\n",
      "60000/60000 [==============================] - 6s 93us/step - loss: 0.1039 - val_loss: 0.1021\n",
      "Epoch 9/100\n",
      "60000/60000 [==============================] - 6s 97us/step - loss: 0.1029 - val_loss: 0.1033\n",
      "Epoch 10/100\n",
      "60000/60000 [==============================] - 6s 98us/step - loss: 0.1022 - val_loss: 0.1016\n",
      "Epoch 11/100\n",
      "60000/60000 [==============================] - 6s 96us/step - loss: 0.1016 - val_loss: 0.1008\n",
      "Epoch 12/100\n",
      "60000/60000 [==============================] - 5s 89us/step - loss: 0.1012 - val_loss: 0.0993\n",
      "Epoch 13/100\n",
      "60000/60000 [==============================] - 6s 96us/step - loss: 0.1007 - val_loss: 0.0990\n",
      "Epoch 14/100\n",
      "60000/60000 [==============================] - 6s 93us/step - loss: 0.1002 - val_loss: 0.0998\n",
      "Epoch 15/100\n",
      "60000/60000 [==============================] - 6s 92us/step - loss: 0.1000 - val_loss: 0.0983\n",
      "Epoch 16/100\n",
      "60000/60000 [==============================] - 6s 97us/step - loss: 0.0997 - val_loss: 0.0985\n",
      "Epoch 17/100\n",
      "60000/60000 [==============================] - 6s 96us/step - loss: 0.0994 - val_loss: 0.0982\n",
      "Epoch 18/100\n",
      "60000/60000 [==============================] - 5s 91us/step - loss: 0.0991 - val_loss: 0.0976\n",
      "Epoch 19/100\n",
      "60000/60000 [==============================] - 6s 92us/step - loss: 0.0988 - val_loss: 0.0984\n",
      "Epoch 20/100\n",
      "60000/60000 [==============================] - 6s 93us/step - loss: 0.0988 - val_loss: 0.0976\n",
      "Epoch 21/100\n",
      "60000/60000 [==============================] - 6s 95us/step - loss: 0.0985 - val_loss: 0.0981\n",
      "Epoch 22/100\n",
      "60000/60000 [==============================] - 5s 89us/step - loss: 0.0984 - val_loss: 0.0984\n",
      "Epoch 23/100\n",
      "60000/60000 [==============================] - 6s 95us/step - loss: 0.0982 - val_loss: 0.0969\n",
      "Epoch 24/100\n",
      "60000/60000 [==============================] - 5s 88us/step - loss: 0.0980 - val_loss: 0.0977\n",
      "Epoch 25/100\n",
      "60000/60000 [==============================] - 6s 92us/step - loss: 0.0979 - val_loss: 0.0969\n",
      "Epoch 26/100\n",
      "60000/60000 [==============================] - 5s 91us/step - loss: 0.0978 - val_loss: 0.0967\n",
      "Epoch 27/100\n",
      "60000/60000 [==============================] - 6s 92us/step - loss: 0.0975 - val_loss: 0.0973\n",
      "Epoch 28/100\n",
      "60000/60000 [==============================] - 6s 95us/step - loss: 0.0974 - val_loss: 0.0967\n",
      "Epoch 29/100\n",
      "60000/60000 [==============================] - 6s 94us/step - loss: 0.0973 - val_loss: 0.0970\n",
      "Epoch 30/100\n",
      "60000/60000 [==============================] - 5s 88us/step - loss: 0.0972 - val_loss: 0.0961\n",
      "Epoch 31/100\n",
      "60000/60000 [==============================] - 5s 91us/step - loss: 0.0971 - val_loss: 0.0965\n",
      "Epoch 32/100\n",
      "60000/60000 [==============================] - 6s 92us/step - loss: 0.0970 - val_loss: 0.0960\n",
      "Epoch 33/100\n",
      "60000/60000 [==============================] - 6s 96us/step - loss: 0.0969 - val_loss: 0.0959\n",
      "Epoch 34/100\n",
      "60000/60000 [==============================] - 6s 96us/step - loss: 0.0969 - val_loss: 0.0960\n",
      "Epoch 35/100\n",
      "60000/60000 [==============================] - 6s 102us/step - loss: 0.0968 - val_loss: 0.0960\n",
      "Epoch 36/100\n",
      "60000/60000 [==============================] - 6s 96us/step - loss: 0.0966 - val_loss: 0.0955\n",
      "Epoch 37/100\n",
      "60000/60000 [==============================] - 6s 95us/step - loss: 0.0965 - val_loss: 0.0956\n",
      "Epoch 38/100\n",
      "60000/60000 [==============================] - 6s 97us/step - loss: 0.0965 - val_loss: 0.0965\n",
      "Epoch 39/100\n",
      "60000/60000 [==============================] - 6s 98us/step - loss: 0.0964 - val_loss: 0.0959\n",
      "Epoch 40/100\n",
      "60000/60000 [==============================] - 6s 96us/step - loss: 0.0963 - val_loss: 0.0952\n",
      "Epoch 41/100\n",
      "60000/60000 [==============================] - 5s 89us/step - loss: 0.0963 - val_loss: 0.0954\n",
      "Epoch 42/100\n",
      "60000/60000 [==============================] - 6s 93us/step - loss: 0.0961 - val_loss: 0.0951\n",
      "Epoch 43/100\n",
      "60000/60000 [==============================] - 5s 90us/step - loss: 0.0961 - val_loss: 0.0951\n",
      "Epoch 44/100\n",
      "60000/60000 [==============================] - 5s 88us/step - loss: 0.0960 - val_loss: 0.0950\n",
      "Epoch 45/100\n",
      "60000/60000 [==============================] - 5s 91us/step - loss: 0.0960 - val_loss: 0.0951\n",
      "Epoch 46/100\n",
      "60000/60000 [==============================] - 6s 102us/step - loss: 0.0959 - val_loss: 0.0963\n",
      "Epoch 47/100\n",
      "60000/60000 [==============================] - 6s 96us/step - loss: 0.0958 - val_loss: 0.0956\n",
      "Epoch 48/100\n",
      "60000/60000 [==============================] - 5s 91us/step - loss: 0.0958 - val_loss: 0.0949\n",
      "Epoch 49/100\n",
      "60000/60000 [==============================] - 5s 91us/step - loss: 0.0958 - val_loss: 0.0950\n",
      "Epoch 50/100\n",
      "60000/60000 [==============================] - 6s 94us/step - loss: 0.0957 - val_loss: 0.0948\n",
      "Epoch 51/100\n",
      "60000/60000 [==============================] - 6s 96us/step - loss: 0.0956 - val_loss: 0.0967\n",
      "Epoch 52/100\n",
      "60000/60000 [==============================] - 6s 92us/step - loss: 0.0956 - val_loss: 0.0950\n",
      "Epoch 53/100\n",
      "60000/60000 [==============================] - 6s 93us/step - loss: 0.0955 - val_loss: 0.0956\n",
      "Epoch 54/100\n",
      "60000/60000 [==============================] - 6s 96us/step - loss: 0.0955 - val_loss: 0.0948\n",
      "Epoch 55/100\n",
      "60000/60000 [==============================] - 5s 90us/step - loss: 0.0955 - val_loss: 0.0946\n",
      "Epoch 56/100\n",
      "60000/60000 [==============================] - 6s 94us/step - loss: 0.0954 - val_loss: 0.0950\n",
      "Epoch 57/100\n",
      "60000/60000 [==============================] - 6s 94us/step - loss: 0.0953 - val_loss: 0.0950\n",
      "Epoch 58/100\n",
      "60000/60000 [==============================] - 5s 91us/step - loss: 0.0953 - val_loss: 0.0947\n",
      "Epoch 59/100\n",
      "60000/60000 [==============================] - 6s 92us/step - loss: 0.0953 - val_loss: 0.0947\n",
      "Epoch 60/100\n",
      "60000/60000 [==============================] - 6s 97us/step - loss: 0.0952 - val_loss: 0.0952\n",
      "Epoch 61/100\n",
      "60000/60000 [==============================] - 6s 93us/step - loss: 0.0952 - val_loss: 0.0945\n",
      "Epoch 62/100\n",
      "60000/60000 [==============================] - 6s 92us/step - loss: 0.0952 - val_loss: 0.0944\n",
      "Epoch 63/100\n",
      "60000/60000 [==============================] - 6s 93us/step - loss: 0.0951 - val_loss: 0.0944\n",
      "Epoch 64/100\n",
      "60000/60000 [==============================] - 5s 87us/step - loss: 0.0950 - val_loss: 0.0945\n",
      "Epoch 65/100\n",
      "60000/60000 [==============================] - 5s 90us/step - loss: 0.0950 - val_loss: 0.0948\n",
      "Epoch 66/100\n",
      "60000/60000 [==============================] - 5s 91us/step - loss: 0.0951 - val_loss: 0.0949\n",
      "Epoch 67/100\n",
      "60000/60000 [==============================] - 6s 99us/step - loss: 0.0949 - val_loss: 0.0950\n",
      "Epoch 68/100\n",
      "60000/60000 [==============================] - 6s 94us/step - loss: 0.0950 - val_loss: 0.0949\n",
      "Epoch 69/100\n",
      "60000/60000 [==============================] - 6s 95us/step - loss: 0.0949 - val_loss: 0.0945\n",
      "Epoch 70/100\n",
      "60000/60000 [==============================] - 5s 91us/step - loss: 0.0948 - val_loss: 0.0948\n",
      "Epoch 71/100\n",
      "60000/60000 [==============================] - 6s 94us/step - loss: 0.0949 - val_loss: 0.0947\n",
      "Epoch 72/100\n",
      "60000/60000 [==============================] - 6s 96us/step - loss: 0.0948 - val_loss: 0.0945\n",
      "Epoch 73/100\n",
      "60000/60000 [==============================] - 6s 95us/step - loss: 0.0948 - val_loss: 0.0943\n",
      "Epoch 74/100\n",
      "60000/60000 [==============================] - 6s 94us/step - loss: 0.0947 - val_loss: 0.0947\n",
      "Epoch 75/100\n",
      "60000/60000 [==============================] - 6s 98us/step - loss: 0.0948 - val_loss: 0.0942\n",
      "Epoch 76/100\n",
      "60000/60000 [==============================] - 6s 98us/step - loss: 0.0946 - val_loss: 0.0942\n",
      "Epoch 77/100\n",
      "60000/60000 [==============================] - 6s 92us/step - loss: 0.0947 - val_loss: 0.0946\n",
      "Epoch 78/100\n",
      "60000/60000 [==============================] - 5s 90us/step - loss: 0.0946 - val_loss: 0.0952\n",
      "Epoch 79/100\n",
      "60000/60000 [==============================] - 5s 92us/step - loss: 0.0946 - val_loss: 0.0948\n",
      "Epoch 80/100\n",
      "60000/60000 [==============================] - 6s 96us/step - loss: 0.0946 - val_loss: 0.0939\n",
      "Epoch 81/100\n",
      "60000/60000 [==============================] - 6s 96us/step - loss: 0.0945 - val_loss: 0.0940\n",
      "Epoch 82/100\n",
      "60000/60000 [==============================] - 6s 94us/step - loss: 0.0945 - val_loss: 0.0938\n",
      "Epoch 83/100\n",
      "60000/60000 [==============================] - 6s 94us/step - loss: 0.0946 - val_loss: 0.0939\n",
      "Epoch 84/100\n",
      "60000/60000 [==============================] - 6s 95us/step - loss: 0.0945 - val_loss: 0.0943\n",
      "Epoch 85/100\n",
      "60000/60000 [==============================] - 6s 95us/step - loss: 0.0945 - val_loss: 0.0940\n",
      "Epoch 86/100\n",
      "60000/60000 [==============================] - 5s 90us/step - loss: 0.0945 - val_loss: 0.0938\n",
      "Epoch 87/100\n",
      "60000/60000 [==============================] - 5s 90us/step - loss: 0.0944 - val_loss: 0.0943\n",
      "Epoch 88/100\n",
      "60000/60000 [==============================] - 5s 91us/step - loss: 0.0944 - val_loss: 0.0937\n",
      "Epoch 89/100\n",
      "60000/60000 [==============================] - 5s 88us/step - loss: 0.0944 - val_loss: 0.0938\n",
      "Epoch 90/100\n",
      "60000/60000 [==============================] - 6s 93us/step - loss: 0.0943 - val_loss: 0.0947\n",
      "Epoch 91/100\n",
      "60000/60000 [==============================] - 6s 94us/step - loss: 0.0943 - val_loss: 0.0944\n",
      "Epoch 92/100\n",
      "60000/60000 [==============================] - 6s 100us/step - loss: 0.0944 - val_loss: 0.0937\n",
      "Epoch 93/100\n",
      "60000/60000 [==============================] - 6s 101us/step - loss: 0.0943 - val_loss: 0.0938\n",
      "Epoch 94/100\n",
      "60000/60000 [==============================] - 6s 98us/step - loss: 0.0943 - val_loss: 0.0940\n",
      "Epoch 95/100\n",
      "60000/60000 [==============================] - 5s 91us/step - loss: 0.0943 - val_loss: 0.0940\n",
      "Epoch 96/100\n",
      "60000/60000 [==============================] - 6s 92us/step - loss: 0.0942 - val_loss: 0.0945\n",
      "Epoch 97/100\n",
      "60000/60000 [==============================] - 6s 98us/step - loss: 0.0942 - val_loss: 0.0941\n",
      "Epoch 98/100\n",
      "60000/60000 [==============================] - 6s 93us/step - loss: 0.0942 - val_loss: 0.0940\n",
      "Epoch 99/100\n",
      "60000/60000 [==============================] - 5s 91us/step - loss: 0.0943 - val_loss: 0.0936\n",
      "Epoch 100/100\n",
      "60000/60000 [==============================] - 6s 96us/step - loss: 0.0941 - val_loss: 0.0936\n"
     ]
    },
    {
     "data": {
      "text/plain": [
       "<keras.callbacks.History at 0x2072e3dba58>"
      ]
     },
     "execution_count": 19,
     "metadata": {},
     "output_type": "execute_result"
    }
   ],
   "source": [
    "autoencoder_conv2.fit(x_train_noisy, x_train,\n",
    "                     epochs=100,\n",
    "                     batch_size=128,\n",
    "                     shuffle=True,\n",
    "                     validation_data=(x_test_noisy, x_test))"
   ]
  },
  {
   "cell_type": "code",
   "execution_count": 20,
   "metadata": {},
   "outputs": [
    {
     "data": {
      "image/png": "[encoded data removed]",
      "text/plain": [
       "<matplotlib.figure.Figure at 0x204acb0fc88>"
      ]
     },
     "metadata": {},
     "output_type": "display_data"
    }
   ],
   "source": [
    "decoded_imgs_conv2 = autoencoder_conv2.predict(x_test_noisy)\n",
    "\n",
    "n = 10 # 我們想展示圖像的數量\n",
    "plt.figure(figsize=(20, 4))\n",
    "\n",
    "for i in range(n):\n",
    "    # 秀出原圖像\n",
    "    ax = plt.subplot(2, n, i+1)\n",
    "    plt.imshow(x_test_noisy[i].reshape(28, 28))\n",
    "    plt.gray()\n",
    "    ax.get_xaxis().set_visible(False)\n",
    "    ax.get_yaxis().set_visible(False)\n",
    "    \n",
    "    # 秀出重建圖像\n",
    "    ax = plt.subplot(2, n, i+1+n)\n",
    "    plt.imshow(decoded_imgs_conv2[i].reshape(28, 28))\n",
    "    plt.gray()\n",
    "    ax.get_xaxis().set_visible(False)\n",
    "    ax.get_yaxis().set_visible(False)\n",
    "    \n",
    "plt.show()"
   ]
  },
  {
   "cell_type": "markdown",
   "metadata": {},
   "source": [
    "現在我們來看看結果。第一行展現的是有噪點的數字圖像，以及第二行由網絡重建的數字圖像。\n",
    "它似乎效果很好。如果您將此過程擴展為更大的卷積網絡，那麼就可以開始構建文檔去噪或音頻去噪的模型。"
   ]
  },
  {
   "cell_type": "markdown",
   "metadata": {},
   "source": [
    "## 總結 (Conclusion)\n",
    "\n",
    "在這篇文章中有一些個人學習到的一些有趣的重點:\n",
    "* Autoencoder的概念在深度學習有很多的應用, 不管是在圖像、語音甚至自然語言的處理上\n",
    "* 了解autoencoder的構建可以做為學習構建更複雜的深度學習的網絡結構"
   ]
  },
  {
   "cell_type": "markdown",
   "metadata": {},
   "source": [
    "參考:\n",
    "* [Building Autoencoders in Keras](https://blog.keras.io/building-autoencoders-in-keras.html)"
   ]
  },
  {
   "cell_type": "markdown",
   "metadata": {},
   "source": [
    "MIT License\n",
    "\n",
    "Copyright (c) 2017 François Chollet\n",
    "\n",
    "Permission is hereby granted, free of charge, to any person obtaining a copy of this software and associated documentation files (the \"Software\"), to deal in the Software without restriction, including without limitation the rights to use, copy, modify, merge, publish, distribute, sublicense, and/or sell copies of the Software, and to permit persons to whom the Software is furnished to do so, subject to the following conditions:\n",
    "\n",
    "The above copyright notice and this permission notice shall be included in all copies or substantial portions of the Software.\n",
    "\n",
    "THE SOFTWARE IS PROVIDED \"AS IS\", WITHOUT WARRANTY OF ANY KIND, EXPRESS OR IMPLIED, INCLUDING BUT NOT LIMITED TO THE WARRANTIES OF MERCHANTABILITY, FITNESS FOR A PARTICULAR PURPOSE AND NONINFRINGEMENT. IN NO EVENT SHALL THE AUTHORS OR COPYRIGHT HOLDERS BE LIABLE FOR ANY CLAIM, DAMAGES OR OTHER LIABILITY, WHETHER IN AN ACTION OF CONTRACT, TORT OR OTHERWISE, ARISING FROM, OUT OF OR IN CONNECTION WITH THE SOFTWARE OR THE USE OR OTHER DEALINGS IN THE SOFTWARE."
   ]
  },
  {
   "cell_type": "code",
   "execution_count": null,
   "metadata": {
    "collapsed": true
   },
   "outputs": [],
   "source": []
  }
 ],
 "metadata": {
  "kernelspec": {
   "display_name": "Python 3",
   "language": "python",
   "name": "python3"
  },
  "language_info": {
   "codemirror_mode": {
    "name": "ipython",
    "version": 3
   },
   "file_extension": ".py",
   "mimetype": "text/x-python",
   "name": "python",
   "nbconvert_exporter": "python",
   "pygments_lexer": "ipython3",
   "version": "3.5.3"
  }
 },
 "nbformat": 4,
 "nbformat_minor": 2
}
