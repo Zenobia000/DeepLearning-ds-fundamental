{
 "cells": [
  {
   "cell_type": "markdown",
   "metadata": {},
   "source": [
    "## 本筆記將實作一些TensorFlow Keras API的建模方式。我們練習的資料集為CIFAR10。\n",
    "\n",
    "\n",
    "#### 核心概念: \n",
    "\n",
    "* 知道如何使用```Model``` API來建模。\n",
    "* 學習將基本網路結構模組化(例: ```conv block```, ```inception block```)，方便日後將模組拿來重新利用。\n",
    "* 了解如何實現資料增益(data augmentation)。"
   ]
  },
  {
   "cell_type": "markdown",
   "metadata": {},
   "source": [
    "---"
   ]
  },
  {
   "cell_type": "markdown",
   "metadata": {},
   "source": [
    "CIFAR10資料集：https://www.cs.toronto.edu/~kriz/cifar.html"
   ]
  },
  {
   "cell_type": "markdown",
   "metadata": {},
   "source": [
    "# 本筆記的內容如下："
   ]
  },
  {
   "cell_type": "markdown",
   "metadata": {},
   "source": [
    "* [載入圖片至電腦記憶體](#01)\n",
    "* [將圖片做resize以及normalization](#02)\n",
    "* [以```Sequential()```逐層疊加出CNN模型](#03)\n",
    "* [評估模型好壞](#031)\n",
    "* [以```Model(input,output)```建構出CNN模型](#04)\n",
    "* [將CNN模型模組化](#05)\n",
    "* [將MY_CNN網路內的conv block換成inception block](#06)\n",
    "* [以Data augmentation的方式來對抗overfitting](#07)\n",
    "* [拿Keras內建的VGG16模型架構來建立模型](#08)"
   ]
  },
  {
   "cell_type": "markdown",
   "metadata": {},
   "source": [
    "---"
   ]
  },
  {
   "cell_type": "code",
   "execution_count": 1,
   "metadata": {},
   "outputs": [],
   "source": [
    "import numpy as np\n",
    "import matplotlib.pyplot as plt\n",
    "import seaborn as sns\n",
    "\n",
    "import pandas as pd\n",
    "\n",
    "from sklearn.metrics import classification_report\n",
    "import json\n",
    "import pickle\n",
    "\n",
    "import os\n",
    "\n",
    "sns.set()\n",
    "# os.environ[\"CUDA_VISIBLE_DEVICES\"] = \"0\"\n",
    "\n",
    "import tensorflow as tf"
   ]
  },
  {
   "cell_type": "code",
   "execution_count": null,
   "metadata": {},
   "outputs": [],
   "source": []
  },
  {
   "cell_type": "markdown",
   "metadata": {},
   "source": [
    "## <a id='01'>載入圖片至電腦記憶體 </a>"
   ]
  },
  {
   "cell_type": "markdown",
   "metadata": {},
   "source": [
    "首先看一下包含資料集的資料夾有什麼內容："
   ]
  },
  {
   "cell_type": "code",
   "execution_count": 2,
   "metadata": {},
   "outputs": [
    {
     "name": "stdout",
     "output_type": "stream",
     "text": [
      " 磁碟區 C 中的磁碟沒有標籤。\n",
      " 磁碟區序號:  04C9-755E\n",
      "\n",
      " C:\\Users\\student\\Desktop\\DL\\datasets\\cifar-10-batches-py 的目錄\n",
      "\n",
      "2019/05/24  上午 09:30    <DIR>          .\n",
      "2019/05/24  上午 09:30    <DIR>          ..\n",
      "2019/05/24  上午 09:30               213 ._batches.meta\n",
      "2019/05/24  上午 09:30               213 ._data_batch_1\n",
      "2019/05/24  上午 09:30               213 ._data_batch_2\n",
      "2019/05/24  上午 09:30               213 ._data_batch_3\n",
      "2019/05/24  上午 09:30               213 ._data_batch_4\n",
      "2019/05/24  上午 09:30               213 ._data_batch_5\n",
      "2019/05/24  上午 09:30               213 ._labels.txt\n",
      "2019/05/24  上午 09:30               213 ._readme.html\n",
      "2019/05/24  上午 09:30               213 ._test_batch\n",
      "2019/05/24  上午 09:30               158 batches.meta\n",
      "2019/05/24  上午 09:30        31,035,704 data_batch_1\n",
      "2019/05/24  上午 09:30        31,035,320 data_batch_2\n",
      "2019/05/24  上午 09:30        31,035,999 data_batch_3\n",
      "2019/05/24  上午 09:30        31,035,696 data_batch_4\n",
      "2019/05/24  上午 09:30        31,035,623 data_batch_5\n",
      "2019/05/24  上午 09:30                60 labels.txt\n",
      "2019/05/24  上午 09:30                88 readme.html\n",
      "2019/05/24  上午 09:30        31,035,526 test_batch\n",
      "              18 個檔案     186,216,091 位元組\n",
      "               2 個目錄  179,574,505,472 位元組可用\n"
     ]
    }
   ],
   "source": [
    "! dir \"../datasets/cifar-10-batches-py/\""
   ]
  },
  {
   "cell_type": "markdown",
   "metadata": {},
   "source": [
    "data_batch_1, data_batch_2,..data_batch_5以及test_batch是以binary的方式儲存在硬碟裡。以下我們寫幾個函數，用以載入這些binary格式的圖檔至電腦內的記憶體中，並且將圖的以矩陣的方式儲存。這些圖矩陣的shape為(Number of figures,Width,Height,Channel)。"
   ]
  },
  {
   "cell_type": "code",
   "execution_count": 3,
   "metadata": {},
   "outputs": [],
   "source": [
    "def load_batch(fpath):\n",
    "    \"\"\"This function extract a batch of CIFAR10 data\n",
    "       from the chosen binary file.\n",
    "       This function is a simplified version of\n",
    "       https://github.com/keras-team/keras/blob/master/keras/datasets/cifar.py\n",
    "    \"\"\"\n",
    "    with open(fpath, 'rb') as f:\n",
    "        d = pickle.load(f, encoding='bytes')\n",
    "        # Keys are in the \"byte\" format. Let's decode them into utf8 strings.\n",
    "        d_decoded = {}\n",
    "        for k, v in d.items():\n",
    "            d_decoded[k.decode('utf8')] = v\n",
    "        d = d_decoded\n",
    "    data = d['data']\n",
    "    labels = d['labels']\n",
    "    data = data.reshape(data.shape[0], 3, 32, 32)\n",
    "    data = data.transpose(0,2,3,1)\n",
    "    return data, labels\n",
    "\n",
    "\n",
    "def load_data(path):\n",
    "    '''\n",
    "    載入以binary方式儲存的影像至電腦內記憶體。\n",
    "    '''\n",
    "    num_train_samples = 50000\n",
    "\n",
    "    x_train = np.zeros((num_train_samples, 32,32,3), dtype='uint8')\n",
    "    y_train = np.zeros((num_train_samples,), dtype='uint8')\n",
    "\n",
    "    for i in range(1, 6):\n",
    "        fpath = os.path.join(path, 'data_batch_') + str(i)\n",
    "        data, labels = load_batch(fpath)\n",
    "        x_train[(i - 1) * 10000:i * 10000, :, :, :] = data\n",
    "        y_train[(i - 1) * 10000:i * 10000] = labels\n",
    "\n",
    "    fpath = os.path.join(path, 'test_batch')\n",
    "    x_test, y_test = load_batch(fpath)\n",
    "\n",
    "    return (x_train, y_train), (np.array(x_test), np.array(y_test,dtype=\"uint8\"))"
   ]
  },
  {
   "cell_type": "code",
   "execution_count": 4,
   "metadata": {},
   "outputs": [],
   "source": [
    "(x_train, y_train), (x_test, y_test) = load_data('../datasets/cifar-10-batches-py')"
   ]
  },
  {
   "cell_type": "code",
   "execution_count": 5,
   "metadata": {},
   "outputs": [
    {
     "name": "stdout",
     "output_type": "stream",
     "text": [
      "(50000, 32, 32, 3) (50000,)\n",
      "(10000, 32, 32, 3) (10000,)\n"
     ]
    }
   ],
   "source": [
    "print(x_train.shape,y_train.shape)\n",
    "print(x_test.shape,y_test.shape)"
   ]
  },
  {
   "cell_type": "markdown",
   "metadata": {},
   "source": [
    "以上，我們得到了x_train, x_test, y_train,y_test四個放置圖片的矩陣，其shape均為(Number of figures,Width,Height,Channel)。"
   ]
  },
  {
   "cell_type": "markdown",
   "metadata": {},
   "source": [
    "接著，我們抽出幾張圖來看，稍微了解一下這些資料大概的樣貌："
   ]
  },
  {
   "cell_type": "code",
   "execution_count": 6,
   "metadata": {},
   "outputs": [],
   "source": [
    "with open(\"../datasets/cifar-10-batches-py/labels.txt\") as reader:\n",
    "    fig_labels = reader.read()\n",
    "fig_labels = fig_labels.split(\"\\n\")[:-1]"
   ]
  },
  {
   "cell_type": "code",
   "execution_count": 7,
   "metadata": {},
   "outputs": [],
   "source": [
    "idx_to_label={}\n",
    "for idx,fig_labels in enumerate(fig_labels):\n",
    "        idx_to_label[idx]=fig_labels"
   ]
  },
  {
   "cell_type": "code",
   "execution_count": 8,
   "metadata": {},
   "outputs": [
    {
     "data": {
      "image/png": "[encoded data removed]",
      "text/plain": [
       "<Figure size 640x480 with 12 Axes>"
      ]
     },
     "metadata": {},
     "output_type": "display_data"
    }
   ],
   "source": [
    "#隨機抽取12張圖來看一下\n",
    "num_figures_display=12\n",
    "fig_indexes=np.random.choice(x_train.shape[0],num_figures_display)\n",
    "\n",
    "fig,axes=plt.subplots(2,6)\n",
    "for fig_idx,axis in zip(fig_indexes,axes.reshape(-1) ):\n",
    "    axis.axis('off')\n",
    "    axis.imshow(x_train[fig_idx])\n",
    "    axis.set_title(idx_to_label[ y_train[fig_idx] ])"
   ]
  },
  {
   "cell_type": "markdown",
   "metadata": {},
   "source": [
    "[回索引](#%E6%9C%AC%E7%AD%86%E8%A8%98%E7%9A%84%E5%85%A7%E5%AE%B9%E5%A6%82%E4%B8%8B%EF%BC%9A)"
   ]
  },
  {
   "cell_type": "markdown",
   "metadata": {},
   "source": [
    "## <a id='02'> 將圖片做resize以及normalization </a>"
   ]
  },
  {
   "cell_type": "code",
   "execution_count": 9,
   "metadata": {},
   "outputs": [
    {
     "name": "stdout",
     "output_type": "stream",
     "text": [
      "0\n",
      "10000\n",
      "20000\n",
      "30000\n",
      "40000\n",
      "0\n",
      "1000\n",
      "2000\n",
      "3000\n",
      "4000\n",
      "5000\n",
      "6000\n",
      "7000\n",
      "8000\n",
      "9000\n"
     ]
    }
   ],
   "source": [
    "import cv2\n",
    "from tensorflow.keras.utils import to_categorical\n",
    "\n",
    "# 做normalization。\n",
    "# 一個簡單的方式，是將x直接除以255，使得x內的所有值均分佈於[0,1]之間。\n",
    "x_train = x_train / 255.\n",
    "x_test = x_test / 255.\n",
    "\n",
    "# 調整x_train每張圖的大小從(32,32)乘以三倍，變成(96,96)。\n",
    "x_train_resized = np.zeros((50000, 96, 96, 3), dtype=np.float32)\n",
    "for idx,img in enumerate(x_train):\n",
    "    if idx%10000==0:\n",
    "        print(idx)\n",
    "    x_train_resized[idx,:] = cv2.resize(img, None, fx=3, fy=3, interpolation = cv2.INTER_AREA)\n",
    "\n",
    "# 調整x_test每張圖的大小從(32,32)乘以三倍，變成(96,96)。\n",
    "x_test_resized = np.zeros((10000, 96, 96, 3),dtype=np.float32)\n",
    "for idx,img in enumerate(x_test):\n",
    "    if idx%1000==0:\n",
    "        print(idx)\n",
    "    x_test_resized[idx,:] = cv2.resize(img, None, fx=3, fy=3, interpolation = cv2.INTER_AREA)\n",
    "\n",
    "# 將y轉換成為one hot的形式\n",
    "y_train_one_hot = to_categorical(y_train, num_classes=10)\n",
    "y_test_one_hot = to_categorical(y_test, num_classes=10)"
   ]
  },
  {
   "cell_type": "markdown",
   "metadata": {},
   "source": [
    "[回索引](#%E6%9C%AC%E7%AD%86%E8%A8%98%E7%9A%84%E5%85%A7%E5%AE%B9%E5%A6%82%E4%B8%8B%EF%BC%9A)"
   ]
  },
  {
   "cell_type": "markdown",
   "metadata": {},
   "source": [
    "## <a id='03'> 以```Sequential()```逐層疊加出CNN模型 </a>"
   ]
  },
  {
   "cell_type": "code",
   "execution_count": 10,
   "metadata": {},
   "outputs": [],
   "source": [
    "from tensorflow.keras.models import Sequential\n",
    "from tensorflow.keras.layers import Dense, Conv2D, MaxPooling2D, Flatten, Dropout, Activation\n",
    "\n",
    "\n",
    "class MY_CNN:\n",
    "    '''建立一個CNN模型'''\n",
    "    def __init__(self, in_shape, out_classes, do_last_activation=True):\n",
    "        \n",
    "        self.in_shape = in_shape\n",
    "        self.out_classes = out_classes\n",
    "        self.do_last_activation = do_last_activation\n",
    "        \n",
    "    def build_model(self):\n",
    "        '''以Sequential()逐層疊加模型。'''\n",
    "        \n",
    "        model = Sequential()\n",
    "        # conv block 1\n",
    "        model.add(Conv2D(32, (3, 3), padding=\"same\", activation=\"relu\",\n",
    "                                     input_shape=self.in_shape) )\n",
    "        model.add(Conv2D(32, (3, 3), activation=\"relu\"))\n",
    "        model.add(MaxPooling2D(pool_size=(2, 2)))\n",
    "        model.add(Dropout(0.25))\n",
    "        # conv block 2\n",
    "        model.add(Conv2D(64, (3, 3), padding='same', activation=\"relu\"))\n",
    "        model.add(Conv2D(64, (3, 3), activation=\"relu\") )\n",
    "        model.add(MaxPooling2D(pool_size=(2, 2)))\n",
    "        model.add(Dropout(0.25))\n",
    "        # dense block\n",
    "        model.add(Flatten())\n",
    "        model.add(Dense(512, activation=\"relu\") )\n",
    "        model.add(Dropout(0.5))\n",
    "        model.add(Dense(self.out_classes))\n",
    "        \n",
    "        if self.do_last_activation:\n",
    "            model.add(Activation('softmax'))\n",
    "        return model"
   ]
  },
  {
   "cell_type": "code",
   "execution_count": null,
   "metadata": {},
   "outputs": [],
   "source": [
    "# 取得模型\n",
    "model=MY_CNN(in_shape=(32,32,3), out_classes=10).build_model()\n",
    "# 編譯模型：給定模型目標和訓練方式。\n",
    "model.compile(loss=\"categorical_crossentropy\", optimizer=\"Adam\", metrics=[\"accuracy\"])\n",
    "# 訓練模型\n",
    "history=model.fit(x=x_train, y=y_train_one_hot, validation_data=(x_test, y_test_one_hot),\n",
    "                  epochs=20, batch_size=128)\n",
    "#畫出訓練過程\n",
    "plt.plot(history.history['accuracy'], ms=5, marker='o', label='accuracy')\n",
    "plt.plot(history.history['val_accuracy'], ms=5, marker='o', label='val accuracy')\n",
    "plt.legend()\n",
    "plt.show()"
   ]
  },
  {
   "cell_type": "markdown",
   "metadata": {},
   "source": [
    "[回索引](#%E6%9C%AC%E7%AD%86%E8%A8%98%E7%9A%84%E5%85%A7%E5%AE%B9%E5%A6%82%E4%B8%8B%EF%BC%9A)"
   ]
  },
  {
   "cell_type": "markdown",
   "metadata": {},
   "source": [
    "# <a id='031'> 評估模型好壞 </a>"
   ]
  },
  {
   "cell_type": "markdown",
   "metadata": {},
   "source": [
    "看metrics，如f1, precision, recall的表現:"
   ]
  },
  {
   "cell_type": "code",
   "execution_count": null,
   "metadata": {},
   "outputs": [],
   "source": [
    "from sklearn.metrics import classification_report\n",
    "\n",
    "predY = model.predict(x_test).argmax(axis=1)\n",
    "print(classification_report(y_test, predY))"
   ]
  },
  {
   "cell_type": "markdown",
   "metadata": {},
   "source": [
    "看accuracy的表現:"
   ]
  },
  {
   "cell_type": "code",
   "execution_count": null,
   "metadata": {},
   "outputs": [],
   "source": [
    "idx_to_label"
   ]
  },
  {
   "cell_type": "code",
   "execution_count": null,
   "metadata": {},
   "outputs": [],
   "source": [
    "# 練習於此 \n",
    "# 提示：使用model.predict(...)或model.evaluate(...)\n",
    "#"
   ]
  },
  {
   "cell_type": "markdown",
   "metadata": {},
   "source": [
    "隨機抽取12張圖來看一下:"
   ]
  },
  {
   "cell_type": "code",
   "execution_count": null,
   "metadata": {},
   "outputs": [],
   "source": [
    "num_figures_display = 12\n",
    "fig_indexes = np.random.choice(x_test.shape[0],\n",
    "                               num_figures_display)\n",
    "\n",
    "#建立 2X6 子圖\n",
    "fig, axes = plt.subplots(2, 6, figsize=(10,5))\n",
    "for fig_idx, axis in zip(fig_indexes, axes.reshape(-1) ):\n",
    "    axis.axis('off')\n",
    "    axis.imshow(x_test[fig_idx])              # 畫圖\n",
    "    label = idx_to_label[ y_test[fig_idx] ]     # 取得真實標籤\n",
    "    pred_label = idx_to_label[ predY[fig_idx] ] # 取得預測標籤\n",
    "    \n",
    "    # 畫出真實標籤和預測標籤\n",
    "    if label != pred_label:\n",
    "        axis.text(16,-3, pred_label, fontsize='large', color='r', ha ='center')\n",
    "    else:\n",
    "        axis.text(16,-3, pred_label, fontsize='large', color='b', ha ='center')\n",
    "    axis.set_title(label+\"\\n\")"
   ]
  },
  {
   "cell_type": "markdown",
   "metadata": {},
   "source": [
    "## <a id='04'>以```Model(input,output)```建構出CNN模型 </a>"
   ]
  },
  {
   "cell_type": "markdown",
   "metadata": {},
   "source": [
    "* Path_A: `(BS, 32, 32, 3)` -> MY_CNN(last_activation=False) -> `(BS, 10)`\n",
    "\n",
    "* Path_B: `(BS, 32, 32, 3)` -> MaxPool2d -> `(BS, 16, 16, 3)` -> Flatten -> `(BS, 16*16*3)` -> Dense(10) -> `(BS, 10)`\n",
    "\n",
    "* (Path_A [concat] Path_B) -> `(BS, 20)` -> Dense(10)+softmax -> `(BS, 10)`"
   ]
  },
  {
   "cell_type": "code",
   "execution_count": null,
   "metadata": {},
   "outputs": [],
   "source": []
  },
  {
   "cell_type": "code",
   "execution_count": 11,
   "metadata": {},
   "outputs": [],
   "source": [
    "from tensorflow.keras.layers import Input\n",
    "from tensorflow.keras.models import Model, Sequential"
   ]
  },
  {
   "cell_type": "code",
   "execution_count": null,
   "metadata": {},
   "outputs": [],
   "source": []
  },
  {
   "cell_type": "code",
   "execution_count": null,
   "metadata": {},
   "outputs": [],
   "source": [
    "# images = x_test[:8, ...]\n",
    "# images.shape\n",
    "\n",
    "images = Input((32, 32, 3))\n",
    "# images.shape\n",
    "\n",
    "my_cnn_model = MY_CNN(\n",
    "    in_shape=(32,32,3),\n",
    "    out_classes=10,\n",
    "    do_last_activation=False,\n",
    ").build_model()\n",
    "\n",
    "# my_cnn_model(images).shape\n",
    "\n",
    "my_dense_model = Sequential()\n",
    "my_dense_model.add(MaxPooling2D(input_shape=(32,32,3)))\n",
    "my_dense_model.add(Flatten())\n",
    "my_dense_model.add(Dense(units=10))\n",
    "\n",
    "# my_dense_model(images).shape\n",
    "\n",
    "out1 = my_cnn_model(images)\n",
    "out2 = my_dense_model(images)\n",
    "\n",
    "out = tf.concat([out1, out2], axis=-1)\n",
    "out = Dense(units=10, activation='softmax')(out)"
   ]
  },
  {
   "cell_type": "code",
   "execution_count": null,
   "metadata": {},
   "outputs": [],
   "source": [
    "model = Model(images, out)"
   ]
  },
  {
   "cell_type": "code",
   "execution_count": null,
   "metadata": {},
   "outputs": [],
   "source": [
    "model.compile(loss=\"categorical_crossentropy\", optimizer=\"Adam\", metrics=[\"accuracy\"])\n",
    "# 訓練模型\n",
    "history=model.fit(x=x_train, y=y_train_one_hot, validation_data=(x_test, y_test_one_hot),\n",
    "                  epochs=5, batch_size=128)\n",
    "#畫出訓練過程\n",
    "plt.plot(history.history['accuracy'], ms=5, marker='o', label='accuracy')\n",
    "plt.plot(history.history['val_accuracy'], ms=5, marker='o', label='val accuracy')\n",
    "plt.legend()\n",
    "plt.show()"
   ]
  },
  {
   "cell_type": "markdown",
   "metadata": {},
   "source": [
    "---"
   ]
  },
  {
   "cell_type": "code",
   "execution_count": 12,
   "metadata": {},
   "outputs": [],
   "source": [
    "from tensorflow.keras.models import Model\n",
    "from tensorflow.keras.layers import Dense,Conv2D,MaxPooling2D,Flatten,Dropout,Activation,Input\n",
    "\n",
    "\n",
    "class MY_CNN(object):\n",
    "    \"\"\"建立一個CNN模型。\n",
    "    \"\"\"\n",
    "\n",
    "    def __init__(self,in_shape,out_classes):\n",
    "\n",
    "        self.in_shape = in_shape\n",
    "        self.out_classes = out_classes\n",
    "        \n",
    "    def build_model(self):\n",
    "        \"\"\"以Sequential()逐層疊加模型。\n",
    "        \"\"\"\n",
    "        image = Input(self.in_shape)\n",
    "        # conv block 1\n",
    "        conv1 = Conv2D(32, (3, 3), padding=\"same\",activation=\"relu\")\n",
    "        conv2 = Conv2D(32, (3, 3), activation=\"relu\")\n",
    "        pool1 = MaxPooling2D(pool_size=(2, 2))\n",
    "        dropout = Dropout(0.25)\n",
    "        \n",
    "        x = dropout(\n",
    "            pool1(\n",
    "                conv2(\n",
    "                    conv1(image))))\n",
    "        # conv block 2\n",
    "        conv1 = Conv2D(64, (3, 3), padding=\"same\", activation=\"relu\")\n",
    "        conv2 = Conv2D(64, (3, 3), activation=\"relu\")\n",
    "        pool1 = MaxPooling2D(pool_size=(2, 2))\n",
    "        dropout = Dropout(0.25)\n",
    "        x = dropout(\n",
    "            pool1(\n",
    "                conv2(\n",
    "                    conv1(x))))\n",
    "        # dense block\n",
    "        x = Dense(self.out_classes,activation=\"softmax\")(\n",
    "            Dropout(0.5)(\n",
    "                Dense(512,activation=\"relu\")(\n",
    "                    Flatten()(x))))\n",
    "        model = Model(image,x)\n",
    "        return model"
   ]
  },
  {
   "cell_type": "markdown",
   "metadata": {},
   "source": [
    "[回索引](#%E6%9C%AC%E7%AD%86%E8%A8%98%E7%9A%84%E5%85%A7%E5%AE%B9%E5%A6%82%E4%B8%8B%EF%BC%9A)"
   ]
  },
  {
   "cell_type": "markdown",
   "metadata": {},
   "source": [
    "## <a id='05'> 將CNN模型模組化</a>"
   ]
  },
  {
   "cell_type": "code",
   "execution_count": 13,
   "metadata": {},
   "outputs": [],
   "source": [
    "from tensorflow.keras.models import Model\n",
    "from tensorflow.keras.layers import Dense,Conv2D,MaxPooling2D,Flatten,Dropout,Activation,Input\n",
    "\n",
    "\n",
    "class MY_CNN(object):\n",
    "    \"\"\"建立一個CNN模型。\n",
    "    \"\"\"\n",
    "    \n",
    "    def __init__(self,in_shape,out_classes):\n",
    "        \n",
    "        self.in_shape=in_shape\n",
    "        self.out_classes=out_classes\n",
    "\n",
    "    def conv_block(self,n,x):\n",
    "        \"\"\"建構convolution block。\n",
    "        \"\"\"\n",
    "        conv1 = Conv2D(n, (3, 3), padding=\"same\",activation=\"relu\")\n",
    "        conv2 = Conv2D(n, (3, 3), activation=\"relu\")\n",
    "        pool1 = MaxPooling2D(pool_size=(2, 2))\n",
    "        dropout = Dropout(0.25)\n",
    "        x = dropout(\n",
    "            pool1(\n",
    "                conv2(\n",
    "                    conv1(x))))\n",
    "        return x\n",
    "\n",
    "    def build_model(self):\n",
    "        \"\"\"以Model(input,output)的方式建立模型。\n",
    "        \"\"\"\n",
    "        \n",
    "        image = Input(self.in_shape) # input image\n",
    "        x = self.conv_block(32,image)  # conv block 1\n",
    "        x = self.conv_block(64,x)      # conv block 2\n",
    "        \n",
    "        # dense block\n",
    "        x = Dense(self.out_classes, activation=\"softmax\")(\n",
    "            Dropout(0.5)(\n",
    "                Dense(512,activation=\"relu\")(\n",
    "                    Flatten()(x))))\n",
    "        # Build the model out of the graph, given tne input/output tensor\n",
    "        model = Model(image,x)\n",
    "        return model"
   ]
  },
  {
   "cell_type": "code",
   "execution_count": null,
   "metadata": {},
   "outputs": [],
   "source": [
    "# 取得模型\n",
    "model = MY_CNN(in_shape=(32,32,3), out_classes=10).build_model()\n",
    "# 編譯模型：給定模型目標和訓練方式。\n",
    "model.compile(loss=\"categorical_crossentropy\", optimizer=\"Adam\", metrics=[\"accuracy\"])\n",
    "# 訓練模型\n",
    "history = model.fit(x=x_train, y=y_train_one_hot, validation_data=(x_test,y_test_one_hot),\n",
    "                    epochs=20, batch_size=128)\n",
    "#畫出訓練過程\n",
    "plt.plot(history.history['acc'], ms=5, marker='o', label='accuracy')\n",
    "plt.plot(history.history['val_acc'], ms=5, marker='o', label='val accuracy')\n",
    "plt.legend()\n",
    "plt.show()"
   ]
  },
  {
   "cell_type": "markdown",
   "metadata": {},
   "source": [
    "[回索引](#%E6%9C%AC%E7%AD%86%E8%A8%98%E7%9A%84%E5%85%A7%E5%AE%B9%E5%A6%82%E4%B8%8B%EF%BC%9A)"
   ]
  },
  {
   "cell_type": "markdown",
   "metadata": {},
   "source": [
    "以下我們嘗試將一個cnn block換成inception block (GoogleNet內部的主要架構)，看訓練模型會有什麼樣的結果。"
   ]
  },
  {
   "cell_type": "markdown",
   "metadata": {},
   "source": [
    "## <a id='06'>將MY_CNN內的一個conv block換成inception block</a>"
   ]
  },
  {
   "cell_type": "code",
   "execution_count": 14,
   "metadata": {},
   "outputs": [],
   "source": [
    "from tensorflow.keras.models import Model\n",
    "from tensorflow.keras.layers import Dense, Conv2D, MaxPooling2D, Flatten, Dropout, Activation, Input, Concatenate\n",
    "\n",
    "\n",
    "class MY_CNN_INCEPT_BLOCK(object):\n",
    "    \"\"\"建立一個CNN模型\n",
    "    \"\"\"\n",
    "\n",
    "    def __init__(self,in_shape,out_classes):\n",
    "        \n",
    "        self.in_shape = in_shape\n",
    "        self.out_classes = out_classes\n",
    "\n",
    "    def conv_block(self,n,x):\n",
    "        \n",
    "        conv1 = Conv2D(n, (3, 3), padding=\"same\",activation=\"relu\")\n",
    "        conv2 = Conv2D(n, (3, 3),activation=\"relu\")\n",
    "        pool1 = MaxPooling2D(pool_size=(2, 2))\n",
    "        dropout = Dropout(0.25)\n",
    "        x = dropout(\n",
    "            pool1(\n",
    "                conv2(\n",
    "                    conv1(x))))\n",
    "        return x\n",
    "    \n",
    "    def inception_block(self, x, n1_1, n2_1, n2_3, n3_1, n3_5, n4_1):\n",
    "\n",
    "        path1_conv_1 = Conv2D(n1_1, (1,1), activation=\"relu\")\n",
    "        path2_conv_1 = Conv2D(n2_1, (1,1), activation=\"relu\")\n",
    "        path2_conv_3 = Conv2D(n2_3, (3,3), padding='same', activation=\"relu\")\n",
    "        path3_conv_1 = Conv2D(n3_1, (1,1), activation=\"relu\")\n",
    "        path3_conv_5 = Conv2D(n3_5, (5,5), padding='same', activation=\"relu\")\n",
    "        path4_pool_3 = MaxPooling2D(pool_size=(3, 3), strides=(1,1), padding='same')\n",
    "        path4_conv_1 = Conv2D(n4_1, (1,1), activation=\"relu\")\n",
    "\n",
    "        path1 = path1_conv_1(x)\n",
    "        path2 = path2_conv_3(path2_conv_1(x))\n",
    "        path3 = path3_conv_5(path3_conv_1(x))\n",
    "        path4 = path4_conv_1(path4_pool_3(x))\n",
    "        return Concatenate(axis=-1)([path1,path2,path3,path4])\n",
    "\n",
    "    def build_model(self):\n",
    "        \"\"\"以Model(input,output)的方式建立模型。\n",
    "        \"\"\"\n",
    "        \n",
    "        image = Input(self.in_shape)  # input image\n",
    "        x = self.conv_block(32, image)  # conv block\n",
    "        # x = self.conv_block(64,x)      # conv block 2\n",
    "        x = self.inception_block(x, 8, 12, 16, 2, 4, 4)  # inception block\n",
    "        # entering into the dense block\n",
    "        x = Dense(self.out_classes, activation=\"softmax\")(\n",
    "            Dropout(0.5)(\n",
    "                Dense(512, activation=\"relu\")(\n",
    "                    Flatten()(x))))\n",
    "        # Build the model out of the graph, given tne input/output tensor\n",
    "        model = Model(image, x)\n",
    "        return model"
   ]
  },
  {
   "cell_type": "code",
   "execution_count": null,
   "metadata": {},
   "outputs": [],
   "source": [
    "# 取得模型\n",
    "model = MY_CNN_INCEPT_BLOCK(in_shape=(32,32,3),out_classes=10).build_model()\n",
    "# 編譯模型：給定模型目標和訓練方式。\n",
    "model.compile(loss=\"categorical_crossentropy\", optimizer=\"Adam\", metrics=[\"accuracy\"])\n",
    "# 訓練模型\n",
    "history = model.fit(x=x_train, y=y_train_one_hot, validation_data=(x_test, y_test_one_hot),\n",
    "                  epochs=20, batch_size=128)\n",
    "#畫出訓練過程\n",
    "plt.plot(history.history['accuracy'], ms=5, marker='o', label='accuracy')\n",
    "plt.plot(history.history['val_accuracy'], ms=5, marker='o', label='val accuracy')\n",
    "plt.legend()\n",
    "plt.show()"
   ]
  },
  {
   "cell_type": "markdown",
   "metadata": {},
   "source": [
    "[回索引](#%E6%9C%AC%E7%AD%86%E8%A8%98%E7%9A%84%E5%85%A7%E5%AE%B9%E5%A6%82%E4%B8%8B%EF%BC%9A)"
   ]
  },
  {
   "cell_type": "markdown",
   "metadata": {},
   "source": [
    "可見此模型有overfitting的現象。以下我們試著以data augmentation 來對抗overfitting："
   ]
  },
  {
   "cell_type": "markdown",
   "metadata": {},
   "source": [
    "---"
   ]
  },
  {
   "cell_type": "markdown",
   "metadata": {},
   "source": [
    "## <a id='07'>以Data augmentation的方式來對抗overfitting </a>"
   ]
  },
  {
   "cell_type": "markdown",
   "metadata": {},
   "source": [
    "以下我們採用```imgaug``` 這個套件來做資料增益。\n",
    "\n",
    "https://github.com/aleju/imgaug"
   ]
  },
  {
   "cell_type": "code",
   "execution_count": null,
   "metadata": {},
   "outputs": [],
   "source": [
    "from imgaug import augmenters as iaa\n",
    "from dataloader import DataSequenceFromNumpyArray, input_fn"
   ]
  },
  {
   "cell_type": "code",
   "execution_count": null,
   "metadata": {},
   "outputs": [],
   "source": [
    "# 取得一連串的增益方法 (a sequence of augmenters)\n",
    "sometimes = lambda augmenter: iaa.Sometimes(0.7, augmenter)\n",
    "imgaug_seq = [sometimes(iaa.Affine(rotate=(-30,30), cval=0., mode=\"edge\", name=\"rotate\")),\n",
    "              iaa.Noop()]\n",
    "imgaug_seq = iaa.Sequential(imgaug_seq)\n",
    "\n",
    "# 取得批次資料產生器。並且將增益方法套用在批次資料上.\n",
    "train_gen = DataSequenceFromNumpyArray(x_train, y_train_one_hot, batch_size=128, \n",
    "                                       imgaug=True, imgaug_seq=imgaug_seq)\n",
    "val_gen = DataSequenceFromNumpyArray(x_test, y_test_one_hot, batch_size=128, \n",
    "                                     imgaug=True, imgaug_seq=imgaug_seq)\n",
    "\n",
    "# 將批次資料產生器包成 TF dataset\n",
    "img_shape = (32, 32, 3)\n",
    "label_shape = (None, 10)\n",
    "\n",
    "ds_train = input_fn(train_gen, img_shape=img_shape, label_shape=label_shape,\n",
    "                    auto_prefetching=False, img_dtype=np.float32,\n",
    "                    label_dtype=tf.int32)\n",
    "ds_val = input_fn(val_gen, img_shape=img_shape, label_shape=label_shape,\n",
    "                  auto_prefetching=False, img_dtype=np.float32,\n",
    "                  label_dtype=tf.int32)"
   ]
  },
  {
   "cell_type": "code",
   "execution_count": null,
   "metadata": {},
   "outputs": [],
   "source": [
    "# 取得模型\n",
    "model = MY_CNN_INCEPT_BLOCK(in_shape=img_shape, out_classes=10).build_model()\n",
    "# 編譯模型：給定模型目標和訓練方式。\n",
    "model.compile(loss=\"categorical_crossentropy\", optimizer=\"Adam\", metrics=[\"accuracy\"])\n",
    "\n",
    "history = model.fit(ds_train,\n",
    "                    epochs=20,\n",
    "                    validation_data=ds_val,\n",
    "                    steps_per_epoch=len(train_gen),\n",
    "                    validation_steps=len(val_gen))\n",
    "\n",
    "# 畫出訓練過程\n",
    "plt.plot(history.history['acc'], ms=5, marker='o', label='accuracy')\n",
    "plt.plot(history.history['val_acc'], ms=5, marker='o', label='val accuracy')\n",
    "plt.legend()\n",
    "plt.show()"
   ]
  },
  {
   "cell_type": "markdown",
   "metadata": {},
   "source": [
    "[回索引](#%E6%9C%AC%E7%AD%86%E8%A8%98%E7%9A%84%E5%85%A7%E5%AE%B9%E5%A6%82%E4%B8%8B%EF%BC%9A)"
   ]
  },
  {
   "cell_type": "markdown",
   "metadata": {},
   "source": [
    "## <a id='08'>拿Keras內建的VGG16模型架構來建立模型</a>"
   ]
  },
  {
   "cell_type": "markdown",
   "metadata": {},
   "source": [
    "```tensorflow.keras.applications```裡面內建了一些常見的架構，如VGG, GoogleNet, ResNet等。以下我們嘗試來使用VGG16建立模型："
   ]
  },
  {
   "cell_type": "code",
   "execution_count": 15,
   "metadata": {},
   "outputs": [],
   "source": [
    "from tensorflow.keras.applications import VGG16\n",
    "from tensorflow.keras import Model\n",
    "from tensorflow.keras.optimizers import SGD"
   ]
  },
  {
   "cell_type": "code",
   "execution_count": 16,
   "metadata": {},
   "outputs": [],
   "source": [
    "# # 取得內建的VGG模型 (去掉後層分類器的部分)\n",
    "# model=VGG16(include_top=True,\n",
    "#             input_shape=(96,96,3))"
   ]
  },
  {
   "cell_type": "code",
   "execution_count": 17,
   "metadata": {},
   "outputs": [],
   "source": [
    "# 取得內建的VGG模型 (去掉後層分類器的部分)\n",
    "model=VGG16(include_top=False,\n",
    "            input_shape=(96,96,3))"
   ]
  },
  {
   "cell_type": "code",
   "execution_count": 18,
   "metadata": {},
   "outputs": [],
   "source": [
    "\n",
    "# 添加後層分類器至內建VGG模型\n",
    "last = model.output\n",
    "x = Flatten()(last)\n",
    "x = Dense(512, activation='relu')(x)\n",
    "x = Dropout(0.5)(x)\n",
    "preds = Dense(10, activation='softmax')(x)\n",
    "# 組合模型\n",
    "model = Model(model.input, preds)\n",
    "# 編譯模型，告知模型訓練方式\n",
    "model.compile(loss=\"categorical_crossentropy\",\n",
    "              optimizer=SGD(learning_rate=1e-2, \n",
    "                            decay=1e-6,\n",
    "                            momentum=0.9,\n",
    "                            nesterov=True),\n",
    "              metrics=[\"accuracy\"])"
   ]
  },
  {
   "cell_type": "code",
   "execution_count": 26,
   "metadata": {},
   "outputs": [
    {
     "data": {
      "text/plain": [
       "(2, 96, 96, 3)"
      ]
     },
     "execution_count": 26,
     "metadata": {},
     "output_type": "execute_result"
    }
   ],
   "source": [
    "images = x_train_resized[:2, ...]\n",
    "images.shape"
   ]
  },
  {
   "cell_type": "code",
   "execution_count": 27,
   "metadata": {},
   "outputs": [
    {
     "data": {
      "text/plain": [
       "TensorShape([2, 10])"
      ]
     },
     "execution_count": 27,
     "metadata": {},
     "output_type": "execute_result"
    }
   ],
   "source": [
    "model(images).shape"
   ]
  },
  {
   "cell_type": "code",
   "execution_count": 29,
   "metadata": {},
   "outputs": [
    {
     "data": {
      "text/plain": [
       "(50000, 96, 96, 3)"
      ]
     },
     "execution_count": 29,
     "metadata": {},
     "output_type": "execute_result"
    }
   ],
   "source": [
    "x_train_resized.shape"
   ]
  },
  {
   "cell_type": "code",
   "execution_count": 33,
   "metadata": {},
   "outputs": [
    {
     "name": "stdout",
     "output_type": "stream",
     "text": [
      "Epoch 1/2\n",
      "1000/1000 [==============================] - 45s 45ms/step - loss: 2.3226 - accuracy: 0.0930\n",
      "Epoch 2/2\n",
      "1000/1000 [==============================] - 45s 45ms/step - loss: 2.3233 - accuracy: 0.1040\n"
     ]
    }
   ],
   "source": [
    "rec = model.fit(x=x_train_resized[:1000, ...],\n",
    "                y=y_train_one_hot[:1000, ...],\n",
    "                # validation_data=(x_test_resized,\n",
    "                #                  y_test_one_hot),\n",
    "                epochs=2,\n",
    "                batch_size=1)"
   ]
  },
  {
   "cell_type": "code",
   "execution_count": 34,
   "metadata": {},
   "outputs": [
    {
     "name": "stdout",
     "output_type": "stream",
     "text": [
      "Model: \"model\"\n",
      "_________________________________________________________________\n",
      " Layer (type)                Output Shape              Param #   \n",
      "=================================================================\n",
      " input_1 (InputLayer)        [(None, 96, 96, 3)]       0         \n",
      "                                                                 \n",
      " block1_conv1 (Conv2D)       (None, 96, 96, 64)        1792      \n",
      "                                                                 \n",
      " block1_conv2 (Conv2D)       (None, 96, 96, 64)        36928     \n",
      "                                                                 \n",
      " block1_pool (MaxPooling2D)  (None, 48, 48, 64)        0         \n",
      "                                                                 \n",
      " block2_conv1 (Conv2D)       (None, 48, 48, 128)       73856     \n",
      "                                                                 \n",
      " block2_conv2 (Conv2D)       (None, 48, 48, 128)       147584    \n",
      "                                                                 \n",
      " block2_pool (MaxPooling2D)  (None, 24, 24, 128)       0         \n",
      "                                                                 \n",
      " block3_conv1 (Conv2D)       (None, 24, 24, 256)       295168    \n",
      "                                                                 \n",
      " block3_conv2 (Conv2D)       (None, 24, 24, 256)       590080    \n",
      "                                                                 \n",
      " block3_conv3 (Conv2D)       (None, 24, 24, 256)       590080    \n",
      "                                                                 \n",
      " block3_pool (MaxPooling2D)  (None, 12, 12, 256)       0         \n",
      "                                                                 \n",
      " block4_conv1 (Conv2D)       (None, 12, 12, 512)       1180160   \n",
      "                                                                 \n",
      " block4_conv2 (Conv2D)       (None, 12, 12, 512)       2359808   \n",
      "                                                                 \n",
      " block4_conv3 (Conv2D)       (None, 12, 12, 512)       2359808   \n",
      "                                                                 \n",
      " block4_pool (MaxPooling2D)  (None, 6, 6, 512)         0         \n",
      "                                                                 \n",
      " block5_conv1 (Conv2D)       (None, 6, 6, 512)         2359808   \n",
      "                                                                 \n",
      " block5_conv2 (Conv2D)       (None, 6, 6, 512)         2359808   \n",
      "                                                                 \n",
      " block5_conv3 (Conv2D)       (None, 6, 6, 512)         2359808   \n",
      "                                                                 \n",
      " block5_pool (MaxPooling2D)  (None, 3, 3, 512)         0         \n",
      "                                                                 \n",
      " flatten (Flatten)           (None, 4608)              0         \n",
      "                                                                 \n",
      " dense (Dense)               (None, 512)               2359808   \n",
      "                                                                 \n",
      " dropout (Dropout)           (None, 512)               0         \n",
      "                                                                 \n",
      " dense_1 (Dense)             (None, 10)                5130      \n",
      "                                                                 \n",
      "=================================================================\n",
      "Total params: 17,079,626\n",
      "Trainable params: 17,079,626\n",
      "Non-trainable params: 0\n",
      "_________________________________________________________________\n"
     ]
    }
   ],
   "source": [
    "model.summary()"
   ]
  },
  {
   "cell_type": "code",
   "execution_count": null,
   "metadata": {},
   "outputs": [],
   "source": [
    "# # 畫出訓練過程\n",
    "# plt.plot(rec.history['acc'], ms=5, marker='o', label='accuracy')\n",
    "# plt.plot(rec.history['val_acc'], ms=5, marker='o', label='val accuracy')\n",
    "# plt.legend()\n",
    "# plt.show()"
   ]
  },
  {
   "cell_type": "markdown",
   "metadata": {},
   "source": [
    "[回索引](#%E6%9C%AC%E7%AD%86%E8%A8%98%E7%9A%84%E5%85%A7%E5%AE%B9%E5%A6%82%E4%B8%8B%EF%BC%9A)"
   ]
  },
  {
   "cell_type": "code",
   "execution_count": null,
   "metadata": {},
   "outputs": [],
   "source": []
  }
 ],
 "metadata": {
  "kernelspec": {
   "display_name": "Python 3 (ipykernel)",
   "language": "python",
   "name": "python3"
  },
  "language_info": {
   "codemirror_mode": {
    "name": "ipython",
    "version": 3
   },
   "file_extension": ".py",
   "mimetype": "text/x-python",
   "name": "python",
   "nbconvert_exporter": "python",
   "pygments_lexer": "ipython3",
   "version": "3.10.7"
  }
 },
 "nbformat": 4,
 "nbformat_minor": 4
}
