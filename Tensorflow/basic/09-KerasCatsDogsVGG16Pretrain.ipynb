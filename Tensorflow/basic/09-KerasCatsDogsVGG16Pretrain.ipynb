{
 "cells": [
  {
   "cell_type": "markdown",
   "metadata": {},
   "source": [
    "# 本筆記讓大家有概念，如何使用pretrained model來做圖像分類。\n",
    "\n",
    "以下程式碼大多參考自Keras作者François Chollet的 [**教學**](https://blog.keras.io/building-powerful-image-classification-models-using-very-little-data.html)。於新版TensorFlow Keras下，他的範例曾經無法執行，故我有稍做修正。"
   ]
  },
  {
   "cell_type": "markdown",
   "metadata": {},
   "source": [
    "# 筆記內容：\n",
    "\n",
    "* [略為了解一下資料集](#01)\n",
    "* [利用pretrained model建置模型](#02)\n",
    "* [模型微調](#03)"
   ]
  },
  {
   "cell_type": "code",
   "execution_count": null,
   "metadata": {},
   "outputs": [],
   "source": [
    "import os\n",
    "os.environ[\"CUDA_VISIBLE_DEVICES\"] = \"0\"\n",
    "\n",
    "import tensorflow as tf"
   ]
  },
  {
   "cell_type": "code",
   "execution_count": null,
   "metadata": {},
   "outputs": [],
   "source": [
    "import matplotlib.pyplot as plt\n",
    "%matplotlib inline\n",
    "import cv2\n",
    "import numpy as np"
   ]
  },
  {
   "cell_type": "code",
   "execution_count": null,
   "metadata": {},
   "outputs": [],
   "source": [
    "from tensorflow.keras import applications\n",
    "from tensorflow.keras.preprocessing.image import ImageDataGenerator\n",
    "from tensorflow.keras import optimizers\n",
    "from tensorflow.keras.models import Sequential\n",
    "from tensorflow.keras.layers import Dropout, Flatten, Dense\n",
    "from tensorflow.keras.models import load_model\n",
    "from tensorflow.keras.models import Model"
   ]
  },
  {
   "cell_type": "markdown",
   "metadata": {},
   "source": [
    "## <a id='01'>略為了解一下資料集</a>"
   ]
  },
  {
   "cell_type": "code",
   "execution_count": null,
   "metadata": {},
   "outputs": [],
   "source": [
    "num_train_dogs,=!ls ../datasets/cats_and_dogs/train/dogs | wc -l\n",
    "num_train_cats,=!ls ../datasets/cats_and_dogs/train/cats | wc -l\n",
    "num_test_dogs,=!ls ../datasets/cats_and_dogs/validation/dogs | wc -l\n",
    "num_test_cats,=!ls ../datasets/cats_and_dogs/validation/cats | wc -l\n",
    "\n",
    "print(\"狗的train/test張數=\",num_train_dogs,num_test_dogs)\n",
    "print(\"貓的train/test張數=\",num_train_cats,num_test_cats)"
   ]
  },
  {
   "cell_type": "markdown",
   "metadata": {},
   "source": [
    "看一張貓的照片:"
   ]
  },
  {
   "cell_type": "code",
   "execution_count": null,
   "metadata": {},
   "outputs": [],
   "source": [
    "# 隨機載入一張貓的圖片\n",
    "fig_idx=np.random.choice(1000)\n",
    "img=cv2.imread(\"../datasets/cats_and_dogs/train/cats/cat.%s.jpg\" %fig_idx)\n",
    "# 繪圖\n",
    "plt.imshow(img[:,:,::-1])\n",
    "plt.show()"
   ]
  },
  {
   "cell_type": "markdown",
   "metadata": {},
   "source": [
    "看一張狗的照片:"
   ]
  },
  {
   "cell_type": "code",
   "execution_count": null,
   "metadata": {},
   "outputs": [],
   "source": [
    "# 隨機載入一張狗的圖片\n",
    "fig_idx=np.random.choice(1000)\n",
    "img=cv2.imread(\"../datasets/cats_and_dogs/train/dogs/dog.%s.jpg\" %fig_idx)\n",
    "# 繪圖\n",
    "plt.imshow(img[:,:,::-1])\n",
    "plt.show()"
   ]
  },
  {
   "cell_type": "markdown",
   "metadata": {},
   "source": [
    "[回索引](#%E7%AD%86%E8%A8%98%E5%85%A7%E5%AE%B9%EF%BC%9A)"
   ]
  },
  {
   "cell_type": "markdown",
   "metadata": {},
   "source": [
    "## 訓練模型"
   ]
  },
  {
   "cell_type": "code",
   "execution_count": null,
   "metadata": {},
   "outputs": [],
   "source": [
    "!ls -hl ../pretrain_models/"
   ]
  },
  {
   "cell_type": "code",
   "execution_count": null,
   "metadata": {},
   "outputs": [],
   "source": [
    "# 紀錄兩個放置模型參數的檔案路徑\n",
    "path_with_top=\"../pretrain_models/vgg16_weights_tf_dim_ordering_tf_kernels.h5\"\n",
    "path_without_top=\"../pretrain_models/vgg16_weights_tf_dim_ordering_tf_kernels_notop.h5\""
   ]
  },
  {
   "cell_type": "code",
   "execution_count": null,
   "metadata": {},
   "outputs": [],
   "source": [
    "# #看一下模型架構(without top)\n",
    "# model = applications.VGG16(weights=path_without_top, include_top=False)\n",
    "# model.summary()"
   ]
  },
  {
   "cell_type": "code",
   "execution_count": null,
   "metadata": {},
   "outputs": [],
   "source": [
    "# #看一下模型架構(with top)\n",
    "# model = applications.VGG16(weights=path_with_top, include_top=True)\n",
    "# model.summary()"
   ]
  },
  {
   "cell_type": "markdown",
   "metadata": {},
   "source": [
    "### <a id='02'>利用pretrained model建置模型</a>\n",
    "\n",
    "我們即將建立的模型可分為兩個部分：pretrained convolutional part以及final classification part。\n",
    "\n",
    "其中，pretrained convolutional part是由已經訓練好的VGG16模型擷取而出。這個模型是由ImageNet資料集訓練而來。\n",
    "\n",
    "而final classification part並無看過任何資料集，他裡面的參數是被隨機初始化的。\n",
    "\n",
    "我們將pretrained convolutional part結合後面的final classification part之後，丟入貓狗資料集，來訓練final classification part內的參數。於訓練過程中，我們不會訓練pretrained convolutional part，因為它隱含一些能夠用來分類貓狗的\"規則\"。我們只會訓練final classification part裡面的參數。"
   ]
  },
  {
   "cell_type": "code",
   "execution_count": null,
   "metadata": {},
   "outputs": [],
   "source": [
    "train_data_dir = '../datasets/cats_and_dogs/train/'           # 訓練資料位置\n",
    "validation_data_dir = '../datasets/cats_and_dogs/validation/' # 驗證資料位置\n",
    "\n",
    "\n",
    "# 建立VGG 16網路(前面conv block的部分)\n",
    "conv_base = applications.VGG16(weights=path_without_top,\n",
    "                               include_top=False,\n",
    "                               input_shape=(150,150,3))\n",
    "conv_base.summary()"
   ]
  },
  {
   "cell_type": "code",
   "execution_count": null,
   "metadata": {},
   "outputs": [],
   "source": [
    "train_data_dir = '../datasets/cats_and_dogs/train/'           # 訓練資料位置\n",
    "validation_data_dir = '../datasets/cats_and_dogs/validation/' # 驗證資料位置\n",
    "\n",
    "# 建立VGG 16網路(前面conv block的部分)\n",
    "conv_base = applications.VGG16(weights=path_without_top,\n",
    "                               include_top=False,\n",
    "                               input_shape=(150,150,3))\n",
    "# 於conv block之後附加一個用於分類的block\n",
    "x = Flatten()(conv_base.output)\n",
    "x = Dense(256, activation='relu')(x)\n",
    "x = Dropout(0.5)(x)\n",
    "preds = Dense(1, activation='sigmoid')(x)\n",
    "# 將conv block和末端用於分類的block結合成一個模型\n",
    "model = Model(conv_base.input, preds)\n",
    "# 告知模型，不需要訓練前面的conv layers (我們只要訓練後面用於分類的block)\n",
    "conv_base.trainable = False\n",
    "# 編譯模型，告知模型訓練方式\n",
    "model.compile(loss='binary_crossentropy',\n",
    "              optimizer=optimizers.RMSprop(lr=2e-5),\n",
    "              metrics=['acc'])\n",
    "# ============================================================\n",
    "# 產生train/test generator。generator會從資料夾內撈出一個批次的圖，\n",
    "# 並將該批次的圖像做augmentation。\n",
    "train_datagen = ImageDataGenerator(\n",
    "      rescale=1./255,\n",
    "      rotation_range=40,\n",
    "      width_shift_range=0.2,\n",
    "      height_shift_range=0.2,\n",
    "      shear_range=0.2,\n",
    "      zoom_range=0.2,\n",
    "      horizontal_flip=True,\n",
    "      fill_mode='nearest')\n",
    "\n",
    "test_datagen = ImageDataGenerator(rescale=1./255) \n",
    "\n",
    "train_generator = train_datagen.flow_from_directory(train_data_dir,\n",
    "                                                    target_size=(150, 150),\n",
    "                                                    batch_size=20,\n",
    "                                                    class_mode='binary')                             \n",
    "\n",
    "validation_generator = test_datagen.flow_from_directory(validation_data_dir,\n",
    "                                                        target_size=(150, 150),\n",
    "                                                        batch_size=20,\n",
    "                                                        class_mode='binary')\n",
    "# ============================================================\n",
    "\n",
    "# 訓練模型。圖片將以generator的方式餵入模型。\n",
    "history = model.fit_generator(train_generator,\n",
    "                              steps_per_epoch=100,\n",
    "                              epochs=15,\n",
    "                              validation_data=validation_generator,\n",
    "                              validation_steps=40)\n",
    "#畫出訓練過程\n",
    "plt.plot(history.history['acc'],ms=5,marker='o',label='accuracy')\n",
    "plt.plot(history.history['val_acc'],ms=5,marker='o',label='val accuracy')\n",
    "plt.legend()\n",
    "plt.show()"
   ]
  },
  {
   "cell_type": "markdown",
   "metadata": {},
   "source": [
    "[回索引](#%E7%AD%86%E8%A8%98%E5%85%A7%E5%AE%B9%EF%BC%9A)"
   ]
  },
  {
   "cell_type": "markdown",
   "metadata": {},
   "source": [
    "練習：試著自建一個簡單的CNN模型(不超過5個Convolutional layer)，看你能達成多高的模型準確率。"
   ]
  },
  {
   "cell_type": "code",
   "execution_count": null,
   "metadata": {},
   "outputs": [],
   "source": [
    "# 練習於此\n",
    "model = models.Sequential()\n",
    "model.add(layers.Conv2D(32, (3, 3), activation='relu',\n",
    "                        input_shape=(150, 150, 3)))\n",
    "model.add(...)\n",
    "..."
   ]
  },
  {
   "cell_type": "markdown",
   "metadata": {},
   "source": [
    "[回索引](#%E7%AD%86%E8%A8%98%E5%85%A7%E5%AE%B9%EF%BC%9A)"
   ]
  },
  {
   "cell_type": "markdown",
   "metadata": {},
   "source": [
    "### <a id='03'>模型微調</a>"
   ]
  },
  {
   "cell_type": "markdown",
   "metadata": {},
   "source": [
    "先看一下模型架構："
   ]
  },
  {
   "cell_type": "code",
   "execution_count": null,
   "metadata": {},
   "outputs": [],
   "source": [
    "model.summary()"
   ]
  },
  {
   "cell_type": "markdown",
   "metadata": {},
   "source": [
    "我們這次除了訓練後面的classification part，我們還多訓練了convolutional part的最後一個block (block 5)。\n",
    "\n",
    "我們不建議將整個convolutional part去做訓練，因為該part的最前面幾個layer內含一些基本的特徵擷取器，可能相當適合拿來用於我們的貓狗圖片分類。\n",
    "\n",
    "但是，該part的最後幾個layer，可能內含較高階，較複雜的特徵擷取器，是比較適合ImageNet圖片集的，可能不是完全適合用於我們的貓狗圖片分類。故，以下，我們將那幾個layer調整成可訓練。"
   ]
  },
  {
   "cell_type": "code",
   "execution_count": null,
   "metadata": {},
   "outputs": [],
   "source": [
    "conv_base.trainable"
   ]
  },
  {
   "cell_type": "code",
   "execution_count": null,
   "metadata": {},
   "outputs": [],
   "source": [
    "# 將block5調整為可訓練\n",
    "conv_base.trainable = False\n",
    "\n",
    "for layer in conv_base.layers:\n",
    "    if \"block5\" in layer.name:\n",
    "        layer.trainable = True"
   ]
  },
  {
   "cell_type": "code",
   "execution_count": null,
   "metadata": {},
   "outputs": [],
   "source": [
    "# 看一下conv_base裡面有哪些層可訓練\n",
    "for layer in conv_base.layers:\n",
    "    print(layer.name, layer.trainable)"
   ]
  },
  {
   "cell_type": "code",
   "execution_count": null,
   "metadata": {},
   "outputs": [],
   "source": [
    "# 編譯模型，告知模型訓練方式\n",
    "model.compile(loss='binary_crossentropy',\n",
    "              optimizer=optimizers.RMSprop(lr=1e-5),\n",
    "              metrics=['acc'])\n",
    "# 訓練模型\n",
    "history = model.fit_generator(train_generator,\n",
    "                              steps_per_epoch=100,\n",
    "                              epochs=15,\n",
    "                              validation_data=validation_generator,\n",
    "                              validation_steps=40)\n",
    "# 畫出訓練過程\n",
    "plt.plot(history.history['acc'], ms=5, marker='o', label='accuracy')\n",
    "plt.plot(history.history['val_acc'], ms=5, marker='o', label='val accuracy')\n",
    "plt.legend()\n",
    "plt.show()"
   ]
  },
  {
   "cell_type": "markdown",
   "metadata": {},
   "source": [
    "[回索引](#%E7%AD%86%E8%A8%98%E5%85%A7%E5%AE%B9%EF%BC%9A)"
   ]
  },
  {
   "cell_type": "code",
   "execution_count": null,
   "metadata": {},
   "outputs": [],
   "source": []
  }
 ],
 "metadata": {
  "kernelspec": {
   "display_name": "Python 3",
   "language": "python",
   "name": "python3"
  },
  "language_info": {
   "codemirror_mode": {
    "name": "ipython",
    "version": 3
   },
   "file_extension": ".py",
   "mimetype": "text/x-python",
   "name": "python",
   "nbconvert_exporter": "python",
   "pygments_lexer": "ipython3",
   "version": "3.7.5"
  }
 },
 "nbformat": 4,
 "nbformat_minor": 4
}
