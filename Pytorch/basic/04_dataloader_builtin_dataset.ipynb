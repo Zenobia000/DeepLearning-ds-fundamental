{
 "cells": [
  {
   "cell_type": "markdown",
   "metadata": {},
   "source": [
    "# PyTorch DataLoader 使用指南\n",
    "\n",
    "深度學習-Pytorch手把手實作-資料庫: DataLoader example by pytorch  \n",
    "在PyTorch中，`DataLoader`是處理資料集的重要工具。以下是使用PyTorch的`DataLoader`來處理官方提供的資料集（如torchvision）和自有資料集的系列操作。\n",
    "\n",
    "## 目錄\n",
    "\n",
    "1. [使用torchvision提供的資料集](#torchvision-dataset)\n",
    "2. [處理私有資料庫](#private-dataset)\n",
    "3. [將資料丟到CUDA](#data-to-cuda)\n",
    "\n",
    "# torchvision 內建資料集\n",
    "\n",
    "當使用PyTorch torchvision提供的資料集時，流程相對簡單。\n",
    "\n",
    "### 步驟\n",
    "\n",
    "1. **導入資料集模組** - 例如：`from torchvision.datasets import MNIST`\n",
    "2. **設定資料集參數** - 包括下載、轉換成Tensor、標準化等。\n",
    "3. **使用DataLoader封裝資料集** - 利用`torch.utils.data.DataLoader`來進行批次處理、洗牌、多線程加載等。\n",
    "\n",
    "參考資料：[PyTorch官方文件 - torchvision datasets](https://pytorch.org/vision/stable/datasets.html)\n",
    "\n",
    "# 私有資料庫\n",
    "\n",
    "處理自有資料庫需要自定義一個Dataset類。\n",
    "\n",
    "### 步驟\n",
    "\n",
    "1. **定義Dataset類** - 繼承自`torch.utils.data.Dataset`，並實作`__len__`和`__getitem__`方法。\n",
    "2. **加載和返回資料樣本** - 在`__getitem__`方法中操作。\n",
    "3. **使用DataLoader** - 如同官方資料集，使用`DataLoader`進行封裝和進一步操作。\n",
    "\n",
    "# 將資料丟到CUDA\n",
    "使用GPU加速訓練時，需將資料和模型移至CUDA。\n",
    "\n",
    "### 步驟\n",
    "\n",
    "1. **檢查並設定CUDA設備** - 例如：`device = torch.device(\"cuda\" if torch.cuda.is_available() else \"cpu\")`。\n",
    "2. **移動資料和模型到CUDA** - 使用`.to(device)`方法。\n",
    "\n",
    "\n"
   ]
  },
  {
   "cell_type": "markdown",
   "metadata": {},
   "source": [
    "# torchvision-dataset for dataloader"
   ]
  },
  {
   "cell_type": "code",
   "execution_count": 1,
   "metadata": {},
   "outputs": [
    {
     "name": "stdout",
     "output_type": "stream",
     "text": [
      "Downloading http://yann.lecun.com/exdb/mnist/train-images-idx3-ubyte.gz\n",
      "Downloading http://yann.lecun.com/exdb/mnist/train-images-idx3-ubyte.gz to ./dataset\\MNIST\\raw\\train-images-idx3-ubyte.gz\n"
     ]
    },
    {
     "data": {
      "application/vnd.jupyter.widget-view+json": {
       "model_id": "80a152faccfb4204a8da1bcdef852591",
       "version_major": 2,
       "version_minor": 0
      },
      "text/plain": [
       "  0%|          | 0/9912422 [00:00<?, ?it/s]"
      ]
     },
     "metadata": {},
     "output_type": "display_data"
    },
    {
     "name": "stdout",
     "output_type": "stream",
     "text": [
      "Extracting ./dataset\\MNIST\\raw\\train-images-idx3-ubyte.gz to ./dataset\\MNIST\\raw\n",
      "\n",
      "Downloading http://yann.lecun.com/exdb/mnist/train-labels-idx1-ubyte.gz\n",
      "Downloading http://yann.lecun.com/exdb/mnist/train-labels-idx1-ubyte.gz to ./dataset\\MNIST\\raw\\train-labels-idx1-ubyte.gz\n"
     ]
    },
    {
     "data": {
      "application/vnd.jupyter.widget-view+json": {
       "model_id": "cd865f0a8ee8490a9a6a2ee79e31f073",
       "version_major": 2,
       "version_minor": 0
      },
      "text/plain": [
       "  0%|          | 0/28881 [00:00<?, ?it/s]"
      ]
     },
     "metadata": {},
     "output_type": "display_data"
    },
    {
     "name": "stdout",
     "output_type": "stream",
     "text": [
      "Extracting ./dataset\\MNIST\\raw\\train-labels-idx1-ubyte.gz to ./dataset\\MNIST\\raw\n",
      "\n",
      "Downloading http://yann.lecun.com/exdb/mnist/t10k-images-idx3-ubyte.gz\n",
      "Downloading http://yann.lecun.com/exdb/mnist/t10k-images-idx3-ubyte.gz to ./dataset\\MNIST\\raw\\t10k-images-idx3-ubyte.gz\n"
     ]
    },
    {
     "data": {
      "application/vnd.jupyter.widget-view+json": {
       "model_id": "3d68921d3ca84e4bb30d25c28c06ee0e",
       "version_major": 2,
       "version_minor": 0
      },
      "text/plain": [
       "  0%|          | 0/1648877 [00:00<?, ?it/s]"
      ]
     },
     "metadata": {},
     "output_type": "display_data"
    },
    {
     "name": "stdout",
     "output_type": "stream",
     "text": [
      "Extracting ./dataset\\MNIST\\raw\\t10k-images-idx3-ubyte.gz to ./dataset\\MNIST\\raw\n",
      "\n",
      "Downloading http://yann.lecun.com/exdb/mnist/t10k-labels-idx1-ubyte.gz\n",
      "Downloading http://yann.lecun.com/exdb/mnist/t10k-labels-idx1-ubyte.gz to ./dataset\\MNIST\\raw\\t10k-labels-idx1-ubyte.gz\n"
     ]
    },
    {
     "data": {
      "application/vnd.jupyter.widget-view+json": {
       "model_id": "04e05f712bed47fd996a7b3b445102aa",
       "version_major": 2,
       "version_minor": 0
      },
      "text/plain": [
       "  0%|          | 0/4542 [00:00<?, ?it/s]"
      ]
     },
     "metadata": {},
     "output_type": "display_data"
    },
    {
     "name": "stdout",
     "output_type": "stream",
     "text": [
      "Extracting ./dataset\\MNIST\\raw\\t10k-labels-idx1-ubyte.gz to ./dataset\\MNIST\\raw\n",
      "\n"
     ]
    }
   ],
   "source": [
    "import torch\n",
    "from torchvision import datasets\n",
    "dataset_MNIST = datasets.MNIST('./dataset', train=True, download=True) # torch vision output 就是 torch 的 dataset 物件\n",
    "# 利用torch內建的函數將資料庫放到pytorch的data loader內。\n",
    "mnistdata_loader = torch.utils.data.DataLoader(dataset_MNIST)"
   ]
  },
  {
   "cell_type": "code",
   "execution_count": 2,
   "metadata": {},
   "outputs": [
    {
     "data": {
      "text/plain": [
       "Dataset MNIST\n",
       "    Number of datapoints: 60000\n",
       "    Root location: ./dataset\n",
       "    Split: Train"
      ]
     },
     "execution_count": 2,
     "metadata": {},
     "output_type": "execute_result"
    }
   ],
   "source": [
    "dataset_MNIST"
   ]
  },
  {
   "cell_type": "code",
   "execution_count": 3,
   "metadata": {},
   "outputs": [
    {
     "data": {
      "text/plain": [
       "torch.Tensor"
      ]
     },
     "execution_count": 3,
     "metadata": {},
     "output_type": "execute_result"
    }
   ],
   "source": [
    "type(dataset_MNIST.data[0])"
   ]
  },
  {
   "cell_type": "markdown",
   "metadata": {},
   "source": [
    "然後我們看一下這個函數定義完後得結果。"
   ]
  },
  {
   "cell_type": "code",
   "execution_count": 5,
   "metadata": {},
   "outputs": [
    {
     "data": {
      "text/plain": [
       "torch.utils.data.dataloader.DataLoader"
      ]
     },
     "execution_count": 5,
     "metadata": {},
     "output_type": "execute_result"
    }
   ],
   "source": [
    "type(mnistdata_loader)"
   ]
  },
  {
   "cell_type": "markdown",
   "metadata": {},
   "source": [
    "### 我們要怎麼繼續使用這個torch dataloader來進行學習?\n",
    ">直接用for loop指派即可。"
   ]
  },
  {
   "cell_type": "code",
   "execution_count": 6,
   "metadata": {},
   "outputs": [
    {
     "ename": "TypeError",
     "evalue": "default_collate: batch must contain tensors, numpy arrays, numbers, dicts or lists; found <class 'PIL.Image.Image'>",
     "output_type": "error",
     "traceback": [
      "\u001b[1;31m---------------------------------------------------------------------------\u001b[0m",
      "\u001b[1;31mTypeError\u001b[0m                                 Traceback (most recent call last)",
      "Cell \u001b[1;32mIn[6], line 1\u001b[0m\n\u001b[1;32m----> 1\u001b[0m \u001b[38;5;28;01mfor\u001b[39;00m data, target \u001b[38;5;129;01min\u001b[39;00m mnistdata_loader:\n\u001b[0;32m      2\u001b[0m     \u001b[38;5;28mprint\u001b[39m(data)\n\u001b[0;32m      3\u001b[0m     \u001b[38;5;28mprint\u001b[39m(target)\n",
      "File \u001b[1;32m~\\AppData\\Roaming\\Python\\Python310\\site-packages\\torch\\utils\\data\\dataloader.py:628\u001b[0m, in \u001b[0;36m_BaseDataLoaderIter.__next__\u001b[1;34m(self)\u001b[0m\n\u001b[0;32m    625\u001b[0m \u001b[38;5;28;01mif\u001b[39;00m \u001b[38;5;28mself\u001b[39m\u001b[38;5;241m.\u001b[39m_sampler_iter \u001b[38;5;129;01mis\u001b[39;00m \u001b[38;5;28;01mNone\u001b[39;00m:\n\u001b[0;32m    626\u001b[0m     \u001b[38;5;66;03m# TODO(https://github.com/pytorch/pytorch/issues/76750)\u001b[39;00m\n\u001b[0;32m    627\u001b[0m     \u001b[38;5;28mself\u001b[39m\u001b[38;5;241m.\u001b[39m_reset()  \u001b[38;5;66;03m# type: ignore[call-arg]\u001b[39;00m\n\u001b[1;32m--> 628\u001b[0m data \u001b[38;5;241m=\u001b[39m \u001b[38;5;28;43mself\u001b[39;49m\u001b[38;5;241;43m.\u001b[39;49m\u001b[43m_next_data\u001b[49m\u001b[43m(\u001b[49m\u001b[43m)\u001b[49m\n\u001b[0;32m    629\u001b[0m \u001b[38;5;28mself\u001b[39m\u001b[38;5;241m.\u001b[39m_num_yielded \u001b[38;5;241m+\u001b[39m\u001b[38;5;241m=\u001b[39m \u001b[38;5;241m1\u001b[39m\n\u001b[0;32m    630\u001b[0m \u001b[38;5;28;01mif\u001b[39;00m \u001b[38;5;28mself\u001b[39m\u001b[38;5;241m.\u001b[39m_dataset_kind \u001b[38;5;241m==\u001b[39m _DatasetKind\u001b[38;5;241m.\u001b[39mIterable \u001b[38;5;129;01mand\u001b[39;00m \\\n\u001b[0;32m    631\u001b[0m         \u001b[38;5;28mself\u001b[39m\u001b[38;5;241m.\u001b[39m_IterableDataset_len_called \u001b[38;5;129;01mis\u001b[39;00m \u001b[38;5;129;01mnot\u001b[39;00m \u001b[38;5;28;01mNone\u001b[39;00m \u001b[38;5;129;01mand\u001b[39;00m \\\n\u001b[0;32m    632\u001b[0m         \u001b[38;5;28mself\u001b[39m\u001b[38;5;241m.\u001b[39m_num_yielded \u001b[38;5;241m>\u001b[39m \u001b[38;5;28mself\u001b[39m\u001b[38;5;241m.\u001b[39m_IterableDataset_len_called:\n",
      "File \u001b[1;32m~\\AppData\\Roaming\\Python\\Python310\\site-packages\\torch\\utils\\data\\dataloader.py:671\u001b[0m, in \u001b[0;36m_SingleProcessDataLoaderIter._next_data\u001b[1;34m(self)\u001b[0m\n\u001b[0;32m    669\u001b[0m \u001b[38;5;28;01mdef\u001b[39;00m \u001b[38;5;21m_next_data\u001b[39m(\u001b[38;5;28mself\u001b[39m):\n\u001b[0;32m    670\u001b[0m     index \u001b[38;5;241m=\u001b[39m \u001b[38;5;28mself\u001b[39m\u001b[38;5;241m.\u001b[39m_next_index()  \u001b[38;5;66;03m# may raise StopIteration\u001b[39;00m\n\u001b[1;32m--> 671\u001b[0m     data \u001b[38;5;241m=\u001b[39m \u001b[38;5;28;43mself\u001b[39;49m\u001b[38;5;241;43m.\u001b[39;49m\u001b[43m_dataset_fetcher\u001b[49m\u001b[38;5;241;43m.\u001b[39;49m\u001b[43mfetch\u001b[49m\u001b[43m(\u001b[49m\u001b[43mindex\u001b[49m\u001b[43m)\u001b[49m  \u001b[38;5;66;03m# may raise StopIteration\u001b[39;00m\n\u001b[0;32m    672\u001b[0m     \u001b[38;5;28;01mif\u001b[39;00m \u001b[38;5;28mself\u001b[39m\u001b[38;5;241m.\u001b[39m_pin_memory:\n\u001b[0;32m    673\u001b[0m         data \u001b[38;5;241m=\u001b[39m _utils\u001b[38;5;241m.\u001b[39mpin_memory\u001b[38;5;241m.\u001b[39mpin_memory(data, \u001b[38;5;28mself\u001b[39m\u001b[38;5;241m.\u001b[39m_pin_memory_device)\n",
      "File \u001b[1;32m~\\AppData\\Roaming\\Python\\Python310\\site-packages\\torch\\utils\\data\\_utils\\fetch.py:61\u001b[0m, in \u001b[0;36m_MapDatasetFetcher.fetch\u001b[1;34m(self, possibly_batched_index)\u001b[0m\n\u001b[0;32m     59\u001b[0m \u001b[38;5;28;01melse\u001b[39;00m:\n\u001b[0;32m     60\u001b[0m     data \u001b[38;5;241m=\u001b[39m \u001b[38;5;28mself\u001b[39m\u001b[38;5;241m.\u001b[39mdataset[possibly_batched_index]\n\u001b[1;32m---> 61\u001b[0m \u001b[38;5;28;01mreturn\u001b[39;00m \u001b[38;5;28;43mself\u001b[39;49m\u001b[38;5;241;43m.\u001b[39;49m\u001b[43mcollate_fn\u001b[49m\u001b[43m(\u001b[49m\u001b[43mdata\u001b[49m\u001b[43m)\u001b[49m\n",
      "File \u001b[1;32m~\\AppData\\Roaming\\Python\\Python310\\site-packages\\torch\\utils\\data\\_utils\\collate.py:265\u001b[0m, in \u001b[0;36mdefault_collate\u001b[1;34m(batch)\u001b[0m\n\u001b[0;32m    204\u001b[0m \u001b[38;5;28;01mdef\u001b[39;00m \u001b[38;5;21mdefault_collate\u001b[39m(batch):\n\u001b[0;32m    205\u001b[0m \u001b[38;5;250m    \u001b[39m\u001b[38;5;124mr\u001b[39m\u001b[38;5;124;03m\"\"\"\u001b[39;00m\n\u001b[0;32m    206\u001b[0m \u001b[38;5;124;03m        Function that takes in a batch of data and puts the elements within the batch\u001b[39;00m\n\u001b[0;32m    207\u001b[0m \u001b[38;5;124;03m        into a tensor with an additional outer dimension - batch size. The exact output type can be\u001b[39;00m\n\u001b[1;32m   (...)\u001b[0m\n\u001b[0;32m    263\u001b[0m \u001b[38;5;124;03m            >>> default_collate(batch)  # Handle `CustomType` automatically\u001b[39;00m\n\u001b[0;32m    264\u001b[0m \u001b[38;5;124;03m    \"\"\"\u001b[39;00m\n\u001b[1;32m--> 265\u001b[0m     \u001b[38;5;28;01mreturn\u001b[39;00m \u001b[43mcollate\u001b[49m\u001b[43m(\u001b[49m\u001b[43mbatch\u001b[49m\u001b[43m,\u001b[49m\u001b[43m \u001b[49m\u001b[43mcollate_fn_map\u001b[49m\u001b[38;5;241;43m=\u001b[39;49m\u001b[43mdefault_collate_fn_map\u001b[49m\u001b[43m)\u001b[49m\n",
      "File \u001b[1;32m~\\AppData\\Roaming\\Python\\Python310\\site-packages\\torch\\utils\\data\\_utils\\collate.py:143\u001b[0m, in \u001b[0;36mcollate\u001b[1;34m(batch, collate_fn_map)\u001b[0m\n\u001b[0;32m    140\u001b[0m transposed \u001b[38;5;241m=\u001b[39m \u001b[38;5;28mlist\u001b[39m(\u001b[38;5;28mzip\u001b[39m(\u001b[38;5;241m*\u001b[39mbatch))  \u001b[38;5;66;03m# It may be accessed twice, so we use a list.\u001b[39;00m\n\u001b[0;32m    142\u001b[0m \u001b[38;5;28;01mif\u001b[39;00m \u001b[38;5;28misinstance\u001b[39m(elem, \u001b[38;5;28mtuple\u001b[39m):\n\u001b[1;32m--> 143\u001b[0m     \u001b[38;5;28;01mreturn\u001b[39;00m [collate(samples, collate_fn_map\u001b[38;5;241m=\u001b[39mcollate_fn_map) \u001b[38;5;28;01mfor\u001b[39;00m samples \u001b[38;5;129;01min\u001b[39;00m transposed]  \u001b[38;5;66;03m# Backwards compatibility.\u001b[39;00m\n\u001b[0;32m    144\u001b[0m \u001b[38;5;28;01melse\u001b[39;00m:\n\u001b[0;32m    145\u001b[0m     \u001b[38;5;28;01mtry\u001b[39;00m:\n",
      "File \u001b[1;32m~\\AppData\\Roaming\\Python\\Python310\\site-packages\\torch\\utils\\data\\_utils\\collate.py:143\u001b[0m, in \u001b[0;36m<listcomp>\u001b[1;34m(.0)\u001b[0m\n\u001b[0;32m    140\u001b[0m transposed \u001b[38;5;241m=\u001b[39m \u001b[38;5;28mlist\u001b[39m(\u001b[38;5;28mzip\u001b[39m(\u001b[38;5;241m*\u001b[39mbatch))  \u001b[38;5;66;03m# It may be accessed twice, so we use a list.\u001b[39;00m\n\u001b[0;32m    142\u001b[0m \u001b[38;5;28;01mif\u001b[39;00m \u001b[38;5;28misinstance\u001b[39m(elem, \u001b[38;5;28mtuple\u001b[39m):\n\u001b[1;32m--> 143\u001b[0m     \u001b[38;5;28;01mreturn\u001b[39;00m [\u001b[43mcollate\u001b[49m\u001b[43m(\u001b[49m\u001b[43msamples\u001b[49m\u001b[43m,\u001b[49m\u001b[43m \u001b[49m\u001b[43mcollate_fn_map\u001b[49m\u001b[38;5;241;43m=\u001b[39;49m\u001b[43mcollate_fn_map\u001b[49m\u001b[43m)\u001b[49m \u001b[38;5;28;01mfor\u001b[39;00m samples \u001b[38;5;129;01min\u001b[39;00m transposed]  \u001b[38;5;66;03m# Backwards compatibility.\u001b[39;00m\n\u001b[0;32m    144\u001b[0m \u001b[38;5;28;01melse\u001b[39;00m:\n\u001b[0;32m    145\u001b[0m     \u001b[38;5;28;01mtry\u001b[39;00m:\n",
      "File \u001b[1;32m~\\AppData\\Roaming\\Python\\Python310\\site-packages\\torch\\utils\\data\\_utils\\collate.py:151\u001b[0m, in \u001b[0;36mcollate\u001b[1;34m(batch, collate_fn_map)\u001b[0m\n\u001b[0;32m    147\u001b[0m         \u001b[38;5;28;01mexcept\u001b[39;00m \u001b[38;5;167;01mTypeError\u001b[39;00m:\n\u001b[0;32m    148\u001b[0m             \u001b[38;5;66;03m# The sequence type may not support `__init__(iterable)` (e.g., `range`).\u001b[39;00m\n\u001b[0;32m    149\u001b[0m             \u001b[38;5;28;01mreturn\u001b[39;00m [collate(samples, collate_fn_map\u001b[38;5;241m=\u001b[39mcollate_fn_map) \u001b[38;5;28;01mfor\u001b[39;00m samples \u001b[38;5;129;01min\u001b[39;00m transposed]\n\u001b[1;32m--> 151\u001b[0m \u001b[38;5;28;01mraise\u001b[39;00m \u001b[38;5;167;01mTypeError\u001b[39;00m(default_collate_err_msg_format\u001b[38;5;241m.\u001b[39mformat(elem_type))\n",
      "\u001b[1;31mTypeError\u001b[0m: default_collate: batch must contain tensors, numpy arrays, numbers, dicts or lists; found <class 'PIL.Image.Image'>"
     ]
    }
   ],
   "source": [
    "for data, target in mnistdata_loader:\n",
    "    print(data)\n",
    "    print(target)\n",
    "    break"
   ]
  },
  {
   "cell_type": "markdown",
   "metadata": {},
   "source": [
    "<br>**<font color = red size=4 >咦~~~~~ 上面程式怎麼掛了</font>**<br/>  \n",
    "\n",
    "<font color = black size=3 >我們看一下錯誤訊息</font>\n",
    "\n",
    "\n",
    "<font color = red size=4 >「TypeError: default_collate: batch must contain tensors, numpy arrays, numbers, dicts or lists; found <class 'PIL.Image.Image'>」</font>\n",
    "\n",
    "看起來就是資料格式出錯了，我們輸出的資料是PIL image格式。<br>\n",
    "\n",
    "<br> **<font color = black size=4 > 要讓torch.utils.data.dataloader.DataLoader運作的方式dataset輸出的資料必須是 tensors, numpy arrays, numbers, dicts or lists</font>**<br/> \n",
    "\n",
    "所以我們check看看dataset_MNIST的輸出是什麼？"
   ]
  },
  {
   "cell_type": "code",
   "execution_count": 8,
   "metadata": {},
   "outputs": [
    {
     "data": {
      "text/plain": [
       "torch.Tensor"
      ]
     },
     "execution_count": 8,
     "metadata": {},
     "output_type": "execute_result"
    }
   ],
   "source": [
    "type(dataset_MNIST.data[0])"
   ]
  },
  {
   "cell_type": "code",
   "execution_count": 9,
   "metadata": {},
   "outputs": [
    {
     "name": "stdout",
     "output_type": "stream",
     "text": [
      "<class 'torch.Tensor'>\n"
     ]
    },
    {
     "data": {
      "text/plain": [
       "(<PIL.Image.Image image mode=L size=28x28>, 5)"
      ]
     },
     "execution_count": 9,
     "metadata": {},
     "output_type": "execute_result"
    }
   ],
   "source": [
    "print(type(dataset_MNIST.data[0,:,:]))\n",
    "dataset_MNIST.__getitem__(0)\n"
   ]
  },
  {
   "cell_type": "markdown",
   "metadata": {},
   "source": [
    "雖然 dataset_MNIST.data 可以看到所有的data，而且是torch.Tensor的格式\n",
    "\n",
    ">**實際上torch的dataloader是看dataset結構內的.__getitem__的輸出 (自定義資料庫的時候會介紹怎麼撰寫)**\n",
    "\n",
    "所以 dataset_MNIST讀取到的資料其實是**PIL.Image.Image**。\n",
    "\n",
    "\n",
    "<br> **<font color = red size=3>Question:</font>** 這時候我們要怎麼改讓資料可以順利執行?<br/>\n",
    "<br> **<font color = red size=3>ANS:</font>**  格式不對就改格式就好了<br/>\n",
    " \n",
    " trochvision內提供了function，只需要搭配torchvision.transforms的ToTensor()即可。"
   ]
  },
  {
   "cell_type": "markdown",
   "metadata": {},
   "source": [
    "## 正確寫法"
   ]
  },
  {
   "cell_type": "markdown",
   "metadata": {},
   "source": [
    "dataset download -> transform -> dataloader"
   ]
  },
  {
   "cell_type": "code",
   "execution_count": 11,
   "metadata": {},
   "outputs": [],
   "source": [
    "from torchvision import transforms\n",
    "\n",
    "transform = transforms.ToTensor()\n",
    "dataset_MNIST_tensor = datasets.MNIST('./dataset', train=True, download=False, transform=transform)\n",
    "mnistdata_loader = torch.utils.data.DataLoader(dataset_MNIST_tensor, batch_size=2)\n",
    "\n"
   ]
  },
  {
   "cell_type": "markdown",
   "metadata": {},
   "source": [
    "**所以當格式經由torch vision提供的transforms.ToTensor()，可以將資料成功轉換成 torch.tensor，這時候就可以順利跑資料的forloop了。**\n",
    ">這邊稍微注意一下，我們batch_size設定為2，所以出來的資料會有兩筆，我們在print size時候可以看到"
   ]
  },
  {
   "cell_type": "code",
   "execution_count": 13,
   "metadata": {},
   "outputs": [
    {
     "name": "stdout",
     "output_type": "stream",
     "text": [
      "[tensor([[[[0., 0., 0.,  ..., 0., 0., 0.],\n",
      "          [0., 0., 0.,  ..., 0., 0., 0.],\n",
      "          [0., 0., 0.,  ..., 0., 0., 0.],\n",
      "          ...,\n",
      "          [0., 0., 0.,  ..., 0., 0., 0.],\n",
      "          [0., 0., 0.,  ..., 0., 0., 0.],\n",
      "          [0., 0., 0.,  ..., 0., 0., 0.]]],\n",
      "\n",
      "\n",
      "        [[[0., 0., 0.,  ..., 0., 0., 0.],\n",
      "          [0., 0., 0.,  ..., 0., 0., 0.],\n",
      "          [0., 0., 0.,  ..., 0., 0., 0.],\n",
      "          ...,\n",
      "          [0., 0., 0.,  ..., 0., 0., 0.],\n",
      "          [0., 0., 0.,  ..., 0., 0., 0.],\n",
      "          [0., 0., 0.,  ..., 0., 0., 0.]]]]), tensor([5, 0])]\n"
     ]
    }
   ],
   "source": [
    "for i in mnistdata_loader:\n",
    "    print(i)\n",
    "\n",
    "    break\n",
    "\n"
   ]
  },
  {
   "cell_type": "code",
   "execution_count": 15,
   "metadata": {},
   "outputs": [
    {
     "name": "stdout",
     "output_type": "stream",
     "text": [
      "total iterations: 30000\n",
      "torch.Size([2, 1, 28, 28])\n",
      "torch.Size([2])\n",
      "tensor([[[[0., 0., 0.,  ..., 0., 0., 0.],\n",
      "          [0., 0., 0.,  ..., 0., 0., 0.],\n",
      "          [0., 0., 0.,  ..., 0., 0., 0.],\n",
      "          ...,\n",
      "          [0., 0., 0.,  ..., 0., 0., 0.],\n",
      "          [0., 0., 0.,  ..., 0., 0., 0.],\n",
      "          [0., 0., 0.,  ..., 0., 0., 0.]]],\n",
      "\n",
      "\n",
      "        [[[0., 0., 0.,  ..., 0., 0., 0.],\n",
      "          [0., 0., 0.,  ..., 0., 0., 0.],\n",
      "          [0., 0., 0.,  ..., 0., 0., 0.],\n",
      "          ...,\n",
      "          [0., 0., 0.,  ..., 0., 0., 0.],\n",
      "          [0., 0., 0.,  ..., 0., 0., 0.],\n",
      "          [0., 0., 0.,  ..., 0., 0., 0.]]]])\n",
      "tensor([6, 8])\n"
     ]
    }
   ],
   "source": [
    "count = 0\n",
    "for data, target in mnistdata_loader: \n",
    "    count+=1\n",
    "print(f\"total iterations: {count}\")\n",
    "print(data.size())  # batch * channel * h * w\n",
    "print(target.size()) # batch\n",
    "print(data)\n",
    "print(target)\n"
   ]
  },
  {
   "cell_type": "markdown",
   "metadata": {},
   "source": [
    "## Batch 設定"
   ]
  },
  {
   "cell_type": "markdown",
   "metadata": {},
   "source": [
    "**因為batch size設定是2，MNIST資料有60000筆資料，這樣一個iteration跑2張圖，所以要跑30000次才能將整個資料集都跑完(一個epoch)，因此整個for loop需要執行30000次。**<br>\n",
    "我們測試將batch size設定是200，這樣iteration次數應該是60000/200=300次。\n",
    "\n",
    "\n",
    "torch.Size([2, 1, 28, 28]) 表示 2 張圖片 灰階 大小 28 pixel * 28 pixel"
   ]
  },
  {
   "cell_type": "code",
   "execution_count": 18,
   "metadata": {},
   "outputs": [
    {
     "data": {
      "text/plain": [
       "Dataset MNIST\n",
       "    Number of datapoints: 60000\n",
       "    Root location: ./dataset\n",
       "    Split: Train\n",
       "    StandardTransform\n",
       "Transform: ToTensor()"
      ]
     },
     "execution_count": 18,
     "metadata": {},
     "output_type": "execute_result"
    }
   ],
   "source": [
    "dataset_MNIST_tensor"
   ]
  },
  {
   "cell_type": "code",
   "execution_count": 20,
   "metadata": {},
   "outputs": [
    {
     "name": "stdout",
     "output_type": "stream",
     "text": [
      "total iterations: 300\n"
     ]
    }
   ],
   "source": [
    "mnistdata_loader = torch.utils.data.DataLoader(dataset_MNIST_tensor, batch_size=200, shuffle=True)\n",
    "count = 0\n",
    "for data, target in mnistdata_loader:\n",
    "    count+=1\n",
    "print(\"total iterations: {}\".format(count))\n",
    "\n"
   ]
  },
  {
   "cell_type": "markdown",
   "metadata": {},
   "source": [
    "## Shuffle 設定\n",
    "見下面結果，可以發現兩個for loop得到的batch資料結果是 **<font color = red >一樣的</font>** 。<br> (不洗牌)\n"
   ]
  },
  {
   "cell_type": "code",
   "execution_count": 21,
   "metadata": {},
   "outputs": [
    {
     "name": "stdout",
     "output_type": "stream",
     "text": [
      "first epoch\n",
      "tensor([5, 0])\n",
      "tensor([4, 1])\n",
      "tensor([9, 2])\n",
      "tensor([1, 3])\n",
      "Second epoch\n",
      "tensor([5, 0])\n",
      "tensor([4, 1])\n",
      "tensor([9, 2])\n",
      "tensor([1, 3])\n"
     ]
    }
   ],
   "source": [
    "mnistdata_loader = torch.utils.data.DataLoader(dataset_MNIST_tensor, batch_size=2, shuffle=False)\n",
    "print(\"first epoch\")\n",
    "for i, (data, target) in enumerate(mnistdata_loader):\n",
    "    print(target)\n",
    "    if i>2:\n",
    "        break\n",
    "    \n",
    "print(\"Second epoch\")\n",
    "for i, (data, target) in enumerate(mnistdata_loader):\n",
    "    print(target)\n",
    "    if i>2:\n",
    "        break\n"
   ]
  },
  {
   "cell_type": "markdown",
   "metadata": {},
   "source": [
    "**<font color = black size=3> 當 Shuffle = True</font>**<br>\n",
    "見下面結果，可以發現兩個for loop第一次得到的資料結果是 **<font color = red >不一樣的</font>**。<br>(洗牌)"
   ]
  },
  {
   "cell_type": "code",
   "execution_count": 25,
   "metadata": {
    "scrolled": true
   },
   "outputs": [
    {
     "name": "stdout",
     "output_type": "stream",
     "text": [
      "first epoch\n",
      "tensor([3, 1])\n",
      "tensor([5, 9])\n",
      "tensor([4, 7])\n",
      "tensor([8, 9])\n",
      "Second epoch\n",
      "tensor([4, 7])\n",
      "tensor([7, 1])\n",
      "tensor([5, 0])\n",
      "tensor([4, 2])\n"
     ]
    }
   ],
   "source": [
    "mnistdata_loader = torch.utils.data.DataLoader(dataset_MNIST_tensor, batch_size=2, shuffle=True)\n",
    "print(\"first epoch\")\n",
    "for i, (data, target) in enumerate(mnistdata_loader):\n",
    "    print(target)\n",
    "    if i>2:\n",
    "        break\n",
    "    \n",
    "print(\"Second epoch\")\n",
    "for i, (data, target) in enumerate(mnistdata_loader):\n",
    "    print(target)\n",
    "    if i>2:\n",
    "        break"
   ]
  },
  {
   "cell_type": "markdown",
   "metadata": {},
   "source": [
    ">**要避免每一個epoch都學習一樣的順序和一樣的batch時候Shuffle就需要設定為True** <br>\n",
    "\n",
    "這樣資料在每一次for loop(每個epoch)的時候，每個batch的組合都會重新打亂，這樣learning model過程中可以避免每個epoch學習都是在學習固定的pattern。\n",
    "另一個優點是避免再做梯度下降時掉入 Local minimum\n",
    "\n"
   ]
  },
  {
   "attachments": {
    "image.png": {
     "image/png": "[encoded data removed]"
    }
   },
   "cell_type": "markdown",
   "metadata": {},
   "source": [
    "\n",
    "---------------------\n",
    "**<font color = green size=5> num_worker的設定</font>** <br>\n",
    "num_worker: 用來進行平行運算的CPU數量。每個數量會去處理不同的batch data。\n",
    "\n",
    "運作模式: <br>\n",
    "假設我們的資料有三個batch，batch 1, batch 2, batch 3。<br>\n",
    "當num_worker=0，CPU會batch 1處理好在繼續處理batch 2，batch 2處理好在繼續處理batch 3。 (**下圖上**)<br>\n",
    "當num_worker=3，CPU會開三條平行運算的線，第一條處理batch 1，第二條處理batch 2，第三條處理batch 3(**下圖下**)。<br>\n",
    "![image.png width=\"10%\"](attachment:image.png)\n",
    "下面我們測試不同num_workers會有什麼差異。"
   ]
  },
  {
   "cell_type": "markdown",
   "metadata": {},
   "source": [
    "# PyTorch DataLoader num_workers 說明\n",
    "\n",
    "當使用 PyTorch 進行深度學習模型的訓練時，數據加載的效率對於整體訓練過程的速度有顯著影響。`DataLoader` 的 `num_workers` 參數允許開發者設定多進程數量來預加載數據，這裡提供對該參數使用的一般指南。\n",
    "\n",
    "## 多進程與多線程\n",
    "\n",
    "- **多線程**：在同一進程內運行的多條執行線程。儘管多線程可以共享記憶體空間，方便數據共享，但受限於 Python 的 GIL（Global Interpreter Lock），在 CPU 密集型任務上可能不會有效提高性能。\n",
    "\n",
    "- **多進程**：運行多個獨立進程，每個進程擁有自己的記憶體空間。多進程可充分利用多核 CPU，實現真正的並行計算，從而提升數據加載和處理的速度。\n",
    "\n",
    "## num_workers 使用指南\n",
    "\n",
    "`num_workers` 參數設定 DataLoader 在數據加載時使用的進程數量。設定為大於 0 的值時，PyTorch 將創建相應數量的子進程來加載數據，有助於縮短 I/O 等待時間。\n",
    "\n",
    "### 考慮因素\n",
    "\n",
    "- **記憶體使用量**：增加 `num_workers` 將增加系統的總記憶體消耗，因為每個進程都會佔用獨立的記憶體空間。\n",
    "- **I/O 性能**：如果數據加載速度不是訓練的瓶頸（如使用高速 SSD），增加 `num_workers` 可能不會帶來明顯的性能提升。\n",
    "- **處理器核心數**：合理設置 `num_workers` 應考慮 CPU 核心數量，避免因進程過多而導致的效率降低。\n",
    "\n",
    "### 最佳實踐\n",
    "\n",
    "選擇合適的 `num_workers` 值需根據具體硬件配置和數據集特性進行調整。一般來說，適當增加 `num_workers` 可以顯著提高數據加載速度，但也要注意平衡記憶體使用和 CPU 負載。\n",
    "\n",
    "## 結論\n",
    "\n",
    "通過合理設定 `num_workers`，PyTorch 使用者可以在確保系統資源高效利用的同時，加速模型訓練過程中的數據加載。實踐中建議逐步調整 `num_workers` 值，以找到最佳的數據加載性能。\n"
   ]
  },
  {
   "cell_type": "markdown",
   "metadata": {},
   "source": [
    "---\n",
    "\n",
    "## 實驗設計 DOE\n",
    "\n",
    "timeimplement compare w/ n_worker and batch\n"
   ]
  },
  {
   "cell_type": "code",
   "execution_count": 21,
   "metadata": {},
   "outputs": [
    {
     "name": "stdout",
     "output_type": "stream",
     "text": [
      "batch_size:2\n",
      "num_workers: 0\n",
      "num_workers: 2\n",
      "num_workers: 4\n",
      "num_workers: 6\n",
      "batch_size:10\n",
      "num_workers: 0\n",
      "num_workers: 2\n",
      "num_workers: 4\n",
      "num_workers: 6\n",
      "batch_size:50\n",
      "num_workers: 0\n",
      "num_workers: 2\n",
      "num_workers: 4\n",
      "num_workers: 6\n"
     ]
    },
    {
     "data": {
      "image/png": "[encoded data removed]",
      "text/plain": [
       "<Figure size 640x480 with 3 Axes>"
      ]
     },
     "metadata": {},
     "output_type": "display_data"
    }
   ],
   "source": [
    "from torchvision import transforms\n",
    "import time\n",
    "import numpy as np\n",
    "import matplotlib.pyplot as plt\n",
    "\n",
    "# 下載 MNIST 資料集\n",
    "dataset_MNIST_tensor = datasets.MNIST('./dataset', train=True, download=False, transform= transforms.ToTensor())\n",
    "\n",
    "\n",
    "def fun_timetest(data_loader):\n",
    "    start = time.time()\n",
    "    count=0\n",
    "    for data, target in data_loader:\n",
    "        count+=1\n",
    "    timeimplement = time.time()-start\n",
    "#     print(\"total iteration: {}, a forloop time for whole dataset within CPU: {}s\".format(count, timeimplement) )\n",
    "    return timeimplement\n",
    "\n",
    "###\n",
    "if __name__ == \"__main__\":\n",
    "    for i_subplot, batch_size in enumerate([2,10,50]):\n",
    "        record = []\n",
    "        print(\"batch_size:{}\".format(batch_size))\n",
    "        for i in range(0,8,2):\n",
    "            print(\"num_workers: {}\".format(i))\n",
    "            mnistdata_loader = torch.utils.data.DataLoader(dataset_MNIST_tensor, batch_size=batch_size, shuffle=False, num_workers=i) \n",
    "            timeimplement= fun_timetest(mnistdata_loader)\n",
    "            record.append([i,timeimplement])\n",
    "        record = np.array(record)\n",
    "\n",
    "\n",
    "        plt.subplot(1,3,i_subplot+1)\n",
    "        plt.plot(record[:,0],record[:,1],'*-')\n",
    "        plt.ylim([2,20])\n",
    "        plt.xlabel('num_workers')\n",
    "        plt.ylabel('implement time (s)')\n",
    "        plt.title('batch size:{}'.format(batch_size))\n",
    "\n"
   ]
  },
  {
   "cell_type": "markdown",
   "metadata": {},
   "source": [
    ">num_workers 這個數字不是越高越好，一般建議設定為4~6。"
   ]
  }
 ],
 "metadata": {
  "kernelspec": {
   "display_name": "Python 3 (ipykernel)",
   "language": "python",
   "name": "python3"
  },
  "language_info": {
   "codemirror_mode": {
    "name": "ipython",
    "version": 3
   },
   "file_extension": ".py",
   "mimetype": "text/x-python",
   "name": "python",
   "nbconvert_exporter": "python",
   "pygments_lexer": "ipython3",
   "version": "3.10.7"
  }
 },
 "nbformat": 4,
 "nbformat_minor": 2
}
