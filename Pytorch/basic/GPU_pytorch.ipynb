{
 "cells": [
  {
   "cell_type": "code",
   "execution_count": 4,
   "metadata": {},
   "outputs": [
    {
     "name": "stdout",
     "output_type": "stream",
     "text": [
      "GPU 0: NVIDIA GeForce RTX 3090\n",
      "-----GPU can be used-----\n",
      "Using GPU 0: NVIDIA GeForce RTX 3090\n"
     ]
    }
   ],
   "source": [
    "import torch\n",
    "\n",
    "# Check if CUDA (GPU support) is available\n",
    "cuda_available = torch.cuda.is_available()\n",
    "\n",
    "# Get the number of available GPUs\n",
    "num_gpus = torch.cuda.device_count()\n",
    "\n",
    "if cuda_available:\n",
    "    # Print GPU information\n",
    "    for gpu_id in range(num_gpus):\n",
    "        gpu_name = torch.cuda.get_device_name(gpu_id)\n",
    "        print(f\"GPU {gpu_id}: {gpu_name}\")\n",
    "        \n",
    "else:\n",
    "    print(\"No CUDA-enabled GPU found.\")\n",
    "\n",
    "\n",
    "# Print the current GPU being used (if available)\n",
    "if cuda_available:\n",
    "    current_gpu = torch.cuda.current_device()\n",
    "    print(\"-----GPU can be used-----\")\n",
    "    print(f\"Using GPU {current_gpu}: {torch.cuda.get_device_name(current_gpu)}\")\n",
    "\n"
   ]
  }
 ],
 "metadata": {
  "kernelspec": {
   "display_name": "Python 3",
   "language": "python",
   "name": "python3"
  },
  "language_info": {
   "codemirror_mode": {
    "name": "ipython",
    "version": 3
   },
   "file_extension": ".py",
   "mimetype": "text/x-python",
   "name": "python",
   "nbconvert_exporter": "python",
   "pygments_lexer": "ipython3",
   "version": "3.9.18"
  }
 },
 "nbformat": 4,
 "nbformat_minor": 2
}
