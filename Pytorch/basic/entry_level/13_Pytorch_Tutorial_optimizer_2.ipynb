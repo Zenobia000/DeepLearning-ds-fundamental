{
  "cells": [
    {
      "cell_type": "code",
      "execution_count": 23,
      "metadata": {},
      "outputs": [],
      "source": [
        "import torch\n",
        "import torchvision\n",
        "from torch import nn\n",
        "from torch.nn import Linear\n",
        "from torch.nn import Conv2d, MaxPool2d, Flatten, Sequential\n",
        "from torch.nn import L1Loss, MSELoss, CrossEntropyLoss\n",
        "import torch.optim.lr_scheduler as lr_scheduler\n",
        "\n",
        "from torch.utils.data import DataLoader\n",
        "from torch.utils.tensorboard import SummaryWriter\n",
        "from datetime import datetime\n",
        "import os\n",
        "import shutil\n"
      ]
    },
    {
      "cell_type": "markdown",
      "metadata": {},
      "source": [
        "### subdirectory"
      ]
    },
    {
      "cell_type": "code",
      "execution_count": 30,
      "metadata": {},
      "outputs": [],
      "source": [
        "# subdirectory\n",
        "now = datetime.now()\n",
        "logdir = \"tb_logs/\" + now.strftime(\"%Y%m%d-%H%M%S\") + \"/\"\n",
        "\n",
        "# Check if the directoryexists\n",
        "if os.path.exists(logdir):\n",
        "    # Delete the directory and all its contents\n",
        "    shutil.rmtree(logdir)\n",
        "\n",
        "# recreate the directory if plan to continue logging\n",
        "os.makedirs(logdir, exist_ok=True)\n"
      ]
    },
    {
      "cell_type": "markdown",
      "metadata": {},
      "source": [
        "### 創建資料"
      ]
    },
    {
      "cell_type": "code",
      "execution_count": 14,
      "metadata": {},
      "outputs": [
        {
          "name": "stdout",
          "output_type": "stream",
          "text": [
            "Files already downloaded and verified\n"
          ]
        }
      ],
      "source": [
        "dataset = torchvision.datasets.CIFAR10(\"../data\", train=False, transform=torchvision.transforms.ToTensor(), download=True)\n",
        "dataloader = DataLoader(dataset, batch_size=1)"
      ]
    },
    {
      "cell_type": "code",
      "execution_count": 21,
      "metadata": {},
      "outputs": [],
      "source": [
        "class nn_model_vgg16(nn.Module):\n",
        "    def __init__(self):\n",
        "        super(nn_model_vgg16, self).__init__()\n",
        "           \n",
        "        self.model = Sequential(\n",
        "            Conv2d(3,32,5, padding=2),\n",
        "            MaxPool2d(2),\n",
        "            Conv2d(32,32,5, padding=2),\n",
        "            MaxPool2d(2),\n",
        "            Conv2d(32,64,5, padding=2),\n",
        "            MaxPool2d(2),\n",
        "            Flatten(),\n",
        "            Linear(1024, 64),\n",
        "            Linear(64, 10)\n",
        "        )\n",
        "\n",
        "    def forward(self, x):\n",
        "        x = self.model(x)\n",
        "        return x\n"
      ]
    },
    {
      "cell_type": "code",
      "execution_count": 22,
      "metadata": {},
      "outputs": [
        {
          "name": "stdout",
          "output_type": "stream",
          "text": [
            "tensor(18706.3672, grad_fn=<AddBackward0>)\n"
          ]
        }
      ],
      "source": [
        "loss = nn.CrossEntropyLoss()\n",
        "nn_model_vgg16 = nn_model_vgg16()\n",
        "\n",
        "optim = torch.optim.SGD(nn_model_vgg16.parameters(), lr=0.01)\n",
        "\n",
        "# 學習調整器\n",
        "scheduler = lr_scheduler.StepLR(optim, step_size=5, gamma=0.5)\n",
        "\n",
        "for epoch in range(1):\n",
        "    running_loss = 0.0\n",
        "    for data in dataloader:\n",
        "        imgs, targets = data\n",
        "        outputs = nn_model_vgg16(imgs)\n",
        "        output_loss = loss(outputs, targets)\n",
        "        optim.zero_grad()\n",
        "        output_loss.backward()\n",
        "        scheduler.step()\n",
        "        running_loss = running_loss + output_loss\n",
        "    print(running_loss)\n",
        "\n"
      ]
    },
    {
      "cell_type": "code",
      "execution_count": null,
      "metadata": {},
      "outputs": [],
      "source": []
    },
    {
      "cell_type": "code",
      "execution_count": null,
      "metadata": {},
      "outputs": [],
      "source": []
    }
  ],
  "metadata": {
    "accelerator": "GPU",
    "colab": {
      "collapsed_sections": [],
      "include_colab_link": true,
      "name": "Pytorch Tutorial",
      "provenance": []
    },
    "kernelspec": {
      "display_name": "Python 3",
      "name": "python3"
    },
    "language_info": {
      "codemirror_mode": {
        "name": "ipython",
        "version": 3
      },
      "file_extension": ".py",
      "mimetype": "text/x-python",
      "name": "python",
      "nbconvert_exporter": "python",
      "pygments_lexer": "ipython3",
      "version": "3.10.7"
    }
  },
  "nbformat": 4,
  "nbformat_minor": 0
}
