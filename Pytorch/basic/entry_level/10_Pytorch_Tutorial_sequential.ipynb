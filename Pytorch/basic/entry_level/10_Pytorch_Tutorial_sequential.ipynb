{
  "cells": [
    {
      "cell_type": "code",
      "execution_count": 30,
      "metadata": {},
      "outputs": [],
      "source": [
        "import torch\n",
        "import torchvision\n",
        "from torch import nn\n",
        "from torch.nn import Linear\n",
        "from torch.nn import Conv2d, MaxPool2d, Flatten, Sequential\n",
        "from torch.utils.data import DataLoader\n",
        "from torch.utils.tensorboard import SummaryWriter\n",
        "from datetime import datetime\n",
        "import os\n",
        "import shutil\n"
      ]
    },
    {
      "cell_type": "markdown",
      "metadata": {},
      "source": [
        "### subdirectory"
      ]
    },
    {
      "cell_type": "code",
      "execution_count": 28,
      "metadata": {},
      "outputs": [],
      "source": [
        "# subdirectory\n",
        "now = datetime.now()\n",
        "logdir = \"tb_logs/\" + now.strftime(\"%Y%m%d-%H%M%S\") + \"/\"\n",
        "\n",
        "# Check if the directoryexists\n",
        "if os.path.exists(logdir):\n",
        "    # Delete the directory and all its contents\n",
        "    shutil.rmtree(logdir)\n",
        "\n",
        "# recreate the directory if plan to continue logging\n",
        "os.makedirs(logdir, exist_ok=True)\n"
      ]
    },
    {
      "cell_type": "markdown",
      "metadata": {},
      "source": [
        "### 創建資料"
      ]
    },
    {
      "cell_type": "code",
      "execution_count": 4,
      "metadata": {},
      "outputs": [
        {
          "name": "stdout",
          "output_type": "stream",
          "text": [
            "Files already downloaded and verified\n"
          ]
        }
      ],
      "source": [
        "dataset = torchvision.datasets.CIFAR10(\"../data\", train=False, transform=torchvision.transforms.ToTensor(), download=True)\n",
        "dataloader = DataLoader(dataset, batch_size=64)"
      ]
    },
    {
      "cell_type": "code",
      "execution_count": 31,
      "metadata": {},
      "outputs": [
        {
          "data": {
            "text/plain": [
              "torch.Size([3, 32, 32])"
            ]
          },
          "execution_count": 31,
          "metadata": {},
          "output_type": "execute_result"
        }
      ],
      "source": [
        "dataset[0][0].size()"
      ]
    },
    {
      "cell_type": "code",
      "execution_count": 52,
      "metadata": {},
      "outputs": [],
      "source": [
        "class nn_model_vgg16(nn.Module):\n",
        "    def __init__(self):\n",
        "        super(nn_model_vgg16, self).__init__()\n",
        "        \n",
        "        # self.conv1 = Conv2d(3,32,5, padding=2)\n",
        "        # self.MaxPool1 = MaxPool2d(2)\n",
        "        # self.conv2 = Conv2d(3,32,5, padding=2)\n",
        "        # self.MaxPool2 = MaxPool2d(2)\n",
        "        # self.conv3 = Conv2d(3,64,5, padding=2)\n",
        "        # self.MaxPool3 = MaxPool2d(2)\n",
        "        # self.flatten = Flatten()\n",
        "        # self.linear1 = Linear(1024, 64)\n",
        "        # self.linear2 = Linear(64, 10)\n",
        "        \n",
        "        self.model = Sequential(\n",
        "            Conv2d(3,32,5, padding=2),\n",
        "            MaxPool2d(2),\n",
        "            Conv2d(32,32,5, padding=2),\n",
        "            MaxPool2d(2),\n",
        "            Conv2d(32,64,5, padding=2),\n",
        "            MaxPool2d(2),\n",
        "            Flatten(),\n",
        "            Linear(1024, 64),\n",
        "            Linear(64, 10)\n",
        "        )\n",
        "    def forward(self, x):\n",
        "        x = self.model(x)\n",
        "        return x\n",
        "\n",
        "\n"
      ]
    },
    {
      "cell_type": "code",
      "execution_count": 54,
      "metadata": {},
      "outputs": [],
      "source": [
        "nn_model_vgg16 = nn_model_vgg16()"
      ]
    },
    {
      "cell_type": "code",
      "execution_count": 50,
      "metadata": {},
      "outputs": [],
      "source": [
        "input = torch.ones((64,3,32,32))"
      ]
    },
    {
      "cell_type": "code",
      "execution_count": 55,
      "metadata": {},
      "outputs": [],
      "source": [
        "writer = SummaryWriter(logdir)\n",
        "writer.add_graph(nn_model_vgg16, input)\n",
        "writer.close()"
      ]
    }
  ],
  "metadata": {
    "accelerator": "GPU",
    "colab": {
      "collapsed_sections": [],
      "include_colab_link": true,
      "name": "Pytorch Tutorial",
      "provenance": []
    },
    "kernelspec": {
      "display_name": "Python 3",
      "name": "python3"
    },
    "language_info": {
      "codemirror_mode": {
        "name": "ipython",
        "version": 3
      },
      "file_extension": ".py",
      "mimetype": "text/x-python",
      "name": "python",
      "nbconvert_exporter": "python",
      "pygments_lexer": "ipython3",
      "version": "3.10.7"
    }
  },
  "nbformat": 4,
  "nbformat_minor": 0
}
