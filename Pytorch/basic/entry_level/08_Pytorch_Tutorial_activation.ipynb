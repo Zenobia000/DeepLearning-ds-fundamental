{
  "cells": [
    {
      "cell_type": "code",
      "execution_count": 23,
      "metadata": {},
      "outputs": [],
      "source": [
        "import torch\n",
        "import torchvision\n",
        "from torch import nn\n",
        "from torch.nn import ReLU\n",
        "from torch.nn import Sigmoid\n",
        "from torch.utils.data import DataLoader\n",
        "from torch.utils.tensorboard import SummaryWriter\n",
        "from datetime import datetime\n",
        "import os\n",
        "import shutil\n"
      ]
    },
    {
      "cell_type": "markdown",
      "metadata": {},
      "source": [
        "### subdirectory"
      ]
    },
    {
      "cell_type": "code",
      "execution_count": 24,
      "metadata": {},
      "outputs": [],
      "source": [
        "# subdirectory\n",
        "now = datetime.now()\n",
        "logdir = \"tb_logs/\" + now.strftime(\"%Y%m%d-%H%M%S\") + \"/\"\n",
        "\n",
        "# Check if the directoryexists\n",
        "if os.path.exists(logdir):\n",
        "    # Delete the directory and all its contents\n",
        "    shutil.rmtree(logdir)\n",
        "\n",
        "# recreate the directory if plan to continue logging\n",
        "os.makedirs(logdir, exist_ok=True)"
      ]
    },
    {
      "cell_type": "markdown",
      "metadata": {},
      "source": [
        "### 創建資料"
      ]
    },
    {
      "cell_type": "code",
      "execution_count": 25,
      "metadata": {},
      "outputs": [
        {
          "name": "stdout",
          "output_type": "stream",
          "text": [
            "Files already downloaded and verified\n"
          ]
        }
      ],
      "source": [
        "dataset = torchvision.datasets.CIFAR10(\"../data\", train=False, transform=torchvision.transforms.ToTensor(), download=True)\n",
        "dataloader = DataLoader(dataset, batch_size=64)"
      ]
    },
    {
      "cell_type": "code",
      "execution_count": 26,
      "metadata": {},
      "outputs": [
        {
          "name": "stdout",
          "output_type": "stream",
          "text": [
            "tensor([[[[ 1.0000, -0.5000],\n",
            "          [-1.0000,  3.0000]]]])\n"
          ]
        }
      ],
      "source": [
        "input = torch.tensor([[1, -0.5],\n",
        "                      [-1, 3]], dtype=torch.float)\n",
        "\n",
        "input = torch.reshape(input, (-1,1,2,2))\n",
        "\n",
        "print(input)\n"
      ]
    },
    {
      "cell_type": "markdown",
      "metadata": {},
      "source": [
        "### activation"
      ]
    },
    {
      "cell_type": "code",
      "execution_count": 27,
      "metadata": {},
      "outputs": [
        {
          "name": "stdout",
          "output_type": "stream",
          "text": [
            "tensor([[[[0.7311, 0.3775],\n",
            "          [0.2689, 0.9526]]]])\n"
          ]
        }
      ],
      "source": [
        "class nn_model_activation(nn.Module):\n",
        "    def __init__(self):\n",
        "        super(nn_model_activation, self).__init__()\n",
        "        self.relu1 = ReLU()\n",
        "        self.sigmoid = Sigmoid()\n",
        "\n",
        "    def forward(self, input):\n",
        "        output = self.sigmoid(input)\n",
        "        return output\n",
        "\n",
        "nn_model_activation = nn_model_activation()\n",
        "output = nn_model_activation(input)\n",
        "print(output)\n"
      ]
    },
    {
      "cell_type": "code",
      "execution_count": 28,
      "metadata": {},
      "outputs": [],
      "source": [
        "writer = SummaryWriter(logdir)\n",
        "step = 0\n",
        "for data in dataloader:\n",
        "    \n",
        "    imgs, targets = data\n",
        "    writer.add_images(\"input_activation\", imgs, step)\n",
        "    output = nn_model_activation(imgs)\n",
        "    writer.add_images(\"output_activation\", output, step)\n",
        "    step += 1\n",
        "\n",
        "    break\n",
        "\n",
        "writer.close()\n"
      ]
    },
    {
      "cell_type": "code",
      "execution_count": null,
      "metadata": {},
      "outputs": [],
      "source": []
    }
  ],
  "metadata": {
    "accelerator": "GPU",
    "colab": {
      "collapsed_sections": [],
      "include_colab_link": true,
      "name": "Pytorch Tutorial",
      "provenance": []
    },
    "kernelspec": {
      "display_name": "Python 3",
      "name": "python3"
    },
    "language_info": {
      "codemirror_mode": {
        "name": "ipython",
        "version": 3
      },
      "file_extension": ".py",
      "mimetype": "text/x-python",
      "name": "python",
      "nbconvert_exporter": "python",
      "pygments_lexer": "ipython3",
      "version": "3.10.7"
    }
  },
  "nbformat": 4,
  "nbformat_minor": 0
}
