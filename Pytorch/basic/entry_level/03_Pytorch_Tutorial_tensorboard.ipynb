{
  "cells": [
    {
      "cell_type": "code",
      "execution_count": 2,
      "metadata": {},
      "outputs": [],
      "source": [
        "# pytorch tensorboard tutorial "
      ]
    },
    {
      "cell_type": "code",
      "execution_count": 1,
      "metadata": {},
      "outputs": [],
      "source": [
        "from torch.utils.tensorboard import SummaryWriter"
      ]
    },
    {
      "cell_type": "code",
      "execution_count": 3,
      "metadata": {},
      "outputs": [],
      "source": [
        "writer = SummaryWriter(\"logs_\")\n",
        "\n",
        "# writer.add_image()\n",
        "# y = x\n",
        "for i in range(100):\n",
        "    writer.add_scalar(\"y=10000x\", 1000*i, i)\n",
        "\n",
        "writer.close()\n"
      ]
    },
    {
      "cell_type": "code",
      "execution_count": 4,
      "metadata": {},
      "outputs": [
        {
          "name": "stderr",
          "output_type": "stream",
          "text": [
            "UsageError: Line magic function `%tensorboard` not found.\n"
          ]
        }
      ],
      "source": [
        "# launch tensor bard \n",
        "%tensorboard --logdir=logs_ --port=6007"
      ]
    },
    {
      "cell_type": "markdown",
      "metadata": {},
      "source": [
        "### 模型調參紀錄"
      ]
    },
    {
      "cell_type": "code",
      "execution_count": 10,
      "metadata": {},
      "outputs": [
        {
          "name": "stdout",
          "output_type": "stream",
          "text": [
            "Epoch [1/1], Step [100/938], Loss: 0.5671\n",
            "Epoch [1/1], Step [200/938], Loss: 0.2657\n",
            "Epoch [1/1], Step [300/938], Loss: 0.1583\n",
            "Epoch [1/1], Step [400/938], Loss: 0.2649\n",
            "Epoch [1/1], Step [500/938], Loss: 0.3197\n",
            "Epoch [1/1], Step [600/938], Loss: 0.1666\n",
            "Epoch [1/1], Step [700/938], Loss: 0.1661\n",
            "Epoch [1/1], Step [800/938], Loss: 0.1945\n",
            "Epoch [1/1], Step [900/938], Loss: 0.2826\n"
          ]
        }
      ],
      "source": [
        "import torch\n",
        "import torch.nn as nn\n",
        "import torch.nn.functional as F\n",
        "from torch.utils.tensorboard import SummaryWriter\n",
        "from torchvision import datasets, transforms\n",
        "import torch.optim as optim\n",
        "\n",
        "# 定义网络\n",
        "class SimpleNN(nn.Module):\n",
        "    def __init__(self, input_size, hidden_size, num_classes):\n",
        "        super(SimpleNN,self).__init__()\n",
        "        self.fc1 = nn.Linear(input_size, hidden_size) \n",
        "        self.fc2 = nn.Linear(hidden_size, num_classes)\n",
        "\n",
        "    def forward(self, x):\n",
        "        x = F.relu(self.fc1(x))\n",
        "        x = self.fc2(x)\n",
        "        return x\n",
        "\n",
        "# 设置参数\n",
        "input_size = 784  # 比如對於 MNIST (28*28) 資料集\n",
        "hidden_size = 64\n",
        "num_classes = 10\n",
        "learning_rate = 0.001\n",
        "batch_size = 64\n",
        "epochs = 1\n",
        "\n",
        "# TensorBoard 设置\n",
        "writer = SummaryWriter('runs/simple_nn_experiment_1')\n",
        "\n",
        "# 下載数据集（以 MNIST 為例）\n",
        "transform = transforms.Compose([transforms.ToTensor(), transforms.Normalize((0.1307,), (0.3081,))])\n",
        "train_dataset = datasets.MNIST(root='./data', train=True, transform=transform, download=True)\n",
        "train_loader = torch.utils.data.DataLoader(dataset=train_dataset, batch_size=batch_size, shuffle=True)\n",
        "\n",
        "# 模型、損失函數和優化器\n",
        "model = SimpleNN(input_size, hidden_size, num_classes)\n",
        "criterion = nn.CrossEntropyLoss()\n",
        "optimizer = optim.Adam(model.parameters(), lr=learning_rate)\n",
        "\n",
        "# 训练模型\n",
        "for epoch in range(epochs):\n",
        "    for i, (images, labels) in enumerate(train_loader):\n",
        "        # 展平圖片\n",
        "        images = images.view(-1, 28*28)\n",
        "        \n",
        "        # 前向傳播\n",
        "        outputs = model(images)\n",
        "        loss = criterion(outputs, labels)\n",
        "        \n",
        "        # 反向傳播和優化\n",
        "        optimizer.zero_grad()\n",
        "        loss.backward()\n",
        "        # 參數更新\n",
        "        optimizer.step()\n",
        "        \n",
        "        if (i+1) % 100 == 0:\n",
        "            print(f'Epoch [{epoch+1}/{epochs}], Step [{i+1}/{len(train_loader)}], Loss: {loss.item():.4f}')\n",
        "            writer.add_scalar('training_loss', loss.item(), epoch * len(train_loader) + i)\n",
        "\n",
        "writer.close()\n",
        "\n",
        "\n"
      ]
    },
    {
      "cell_type": "code",
      "execution_count": null,
      "metadata": {},
      "outputs": [],
      "source": []
    }
  ],
  "metadata": {
    "accelerator": "GPU",
    "colab": {
      "collapsed_sections": [],
      "include_colab_link": true,
      "name": "Pytorch Tutorial",
      "provenance": []
    },
    "kernelspec": {
      "display_name": "Python 3",
      "name": "python3"
    },
    "language_info": {
      "codemirror_mode": {
        "name": "ipython",
        "version": 3
      },
      "file_extension": ".py",
      "mimetype": "text/x-python",
      "name": "python",
      "nbconvert_exporter": "python",
      "pygments_lexer": "ipython3",
      "version": "3.10.7"
    }
  },
  "nbformat": 4,
  "nbformat_minor": 0
}
