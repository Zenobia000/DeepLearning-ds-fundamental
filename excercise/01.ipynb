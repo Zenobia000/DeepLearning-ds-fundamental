{
 "cells": [
  {
   "cell_type": "code",
   "execution_count": 2,
   "metadata": {},
   "outputs": [],
   "source": [
    "import torch\n",
    "import numpy as np"
   ]
  },
  {
   "cell_type": "code",
   "execution_count": 3,
   "metadata": {},
   "outputs": [
    {
     "data": {
      "text/plain": [
       "'2.1.0+cu121'"
      ]
     },
     "execution_count": 3,
     "metadata": {},
     "output_type": "execute_result"
    }
   ],
   "source": [
    "torch.__version__"
   ]
  },
  {
   "cell_type": "code",
   "execution_count": 4,
   "metadata": {},
   "outputs": [
    {
     "data": {
      "text/plain": [
       "tensor([[ 0.3351, -0.8894, -1.4380, -1.8493,  1.5518],\n",
       "        [ 0.3086,  0.0354,  1.0588,  0.7706,  1.0180],\n",
       "        [-0.2362,  1.9476, -0.6131, -0.8576,  0.4123],\n",
       "        [ 2.6931,  0.1153,  1.6788,  0.2622,  0.9907]])"
      ]
     },
     "execution_count": 4,
     "metadata": {},
     "output_type": "execute_result"
    }
   ],
   "source": [
    "tsr = torch.randn(4,5)\n",
    "tsr"
   ]
  },
  {
   "cell_type": "code",
   "execution_count": 5,
   "metadata": {},
   "outputs": [
    {
     "data": {
      "text/plain": [
       "tensor(2.6931)"
      ]
     },
     "execution_count": 5,
     "metadata": {},
     "output_type": "execute_result"
    }
   ],
   "source": [
    "m = torch.max(tsr)\n",
    "m"
   ]
  },
  {
   "cell_type": "code",
   "execution_count": 6,
   "metadata": {},
   "outputs": [
    {
     "data": {
      "text/plain": [
       "tensor(-1.8493)"
      ]
     },
     "execution_count": 6,
     "metadata": {},
     "output_type": "execute_result"
    }
   ],
   "source": [
    "m = torch.min(tsr)\n",
    "m"
   ]
  },
  {
   "cell_type": "code",
   "execution_count": 7,
   "metadata": {},
   "outputs": [
    {
     "name": "stdout",
     "output_type": "stream",
     "text": [
      "tensor([2.6931, 1.9476, 1.6788, 0.7706, 1.5518])\n",
      "tensor([3, 2, 3, 1, 0])\n"
     ]
    }
   ],
   "source": [
    "m, idx = torch.max(tsr, 0)\n",
    "print(m)\n",
    "print(idx)"
   ]
  },
  {
   "cell_type": "code",
   "execution_count": 8,
   "metadata": {},
   "outputs": [
    {
     "name": "stdout",
     "output_type": "stream",
     "text": [
      "tensor([2.6931, 1.9476, 1.6788, 0.7706, 1.5518])\n",
      "tensor([3, 2, 3, 1, 0])\n"
     ]
    }
   ],
   "source": [
    "m, idx = torch.max(tsr, dim=0)\n",
    "print(m)\n",
    "print(idx)\n"
   ]
  },
  {
   "cell_type": "code",
   "execution_count": 9,
   "metadata": {},
   "outputs": [
    {
     "data": {
      "text/plain": [
       "torch.return_types.max_out(\n",
       "values=tensor([2.6931, 1.9476, 1.6788, 0.7706, 1.5518]),\n",
       "indices=tensor([3, 2, 3, 1, 0]))"
      ]
     },
     "execution_count": 9,
     "metadata": {},
     "output_type": "execute_result"
    }
   ],
   "source": [
    "p =(m, idx)\n",
    "torch.max(tsr, 0, out=p)\n",
    "\n"
   ]
  },
  {
   "cell_type": "code",
   "execution_count": 10,
   "metadata": {},
   "outputs": [
    {
     "name": "stdout",
     "output_type": "stream",
     "text": [
      "零矩陣:\n",
      "tensor([[0., 0., 0.],\n",
      "        [0., 0., 0.]])\n",
      "\n",
      "隨機矩陣:\n",
      "tensor([[0.9085, 0.2962, 0.0527],\n",
      "        [0.5110, 0.2204, 0.2008]])\n",
      "\n",
      "由數據構造的 Tensor:\n",
      "tensor([[1, 2, 5],\n",
      "        [3, 4, 7]])\n",
      "torch.int64\n"
     ]
    }
   ],
   "source": [
    "# 創建一個 2x3 的零矩陣\n",
    "tensor1 = torch.zeros(2, 3)\n",
    "print(\"零矩陣:\")\n",
    "print(tensor1)\n",
    "\n",
    "# 創建一個 2x3 的隨機矩陣\n",
    "tensor2 = torch.rand(2, 3)\n",
    "print(\"\\n隨機矩陣:\")\n",
    "print(tensor2)\n",
    "\n",
    "# 創建一個直接由數據構造的 Tensor\n",
    "data = [[1, 2, 5], [3, 4, 7]]\n",
    "tensor3 = torch.tensor(data)\n",
    "print(\"\\n由數據構造的 Tensor:\")\n",
    "print(tensor3)\n",
    "print(tensor3.dtype)\n"
   ]
  },
  {
   "cell_type": "code",
   "execution_count": 13,
   "metadata": {},
   "outputs": [
    {
     "data": {
      "text/plain": [
       "tensor([[0., 0., 0.],\n",
       "        [0., 0., 0.]])"
      ]
     },
     "execution_count": 13,
     "metadata": {},
     "output_type": "execute_result"
    }
   ],
   "source": [
    "tensor1"
   ]
  },
  {
   "cell_type": "code",
   "execution_count": 14,
   "metadata": {},
   "outputs": [
    {
     "data": {
      "text/plain": [
       "tensor([[0.9085, 0.2962, 0.0527],\n",
       "        [0.5110, 0.2204, 0.2008]])"
      ]
     },
     "execution_count": 14,
     "metadata": {},
     "output_type": "execute_result"
    }
   ],
   "source": [
    "tensor2"
   ]
  },
  {
   "cell_type": "code",
   "execution_count": 12,
   "metadata": {},
   "outputs": [
    {
     "name": "stdout",
     "output_type": "stream",
     "text": [
      "\n",
      "Tensor 相加: tensor([[0.9085, 0.2962, 0.0527],\n",
      "        [0.5110, 0.2204, 0.2008]])\n",
      "\n",
      "Tensor 相乘: tensor([[0., 0., 0.],\n",
      "        [0., 0., 0.]])\n",
      "\n",
      "Reshape Tensor:\n",
      "tensor([[1, 2],\n",
      "        [5, 3],\n",
      "        [4, 7]])\n"
     ]
    }
   ],
   "source": [
    "tensor_add = tensor1 + tensor2\n",
    "print(\"\\nTensor 相加:\", tensor_add)\n",
    "\n",
    "\n",
    "\n",
    "tensor_multiply = tensor1 * tensor2\n",
    "print(\"\\nTensor 相乘:\", tensor_multiply)\n",
    "\n",
    "\n",
    "reshape_tensor = tensor3.view(3, 2)\n",
    "print(\"\\nReshape Tensor:\")\n",
    "print(reshape_tensor)\n"
   ]
  },
  {
   "cell_type": "code",
   "execution_count": 15,
   "metadata": {},
   "outputs": [
    {
     "name": "stdout",
     "output_type": "stream",
     "text": [
      "元素點對點相乘(方法1:np.multiply(a,b)):\n",
      "[[ 2  4  6]\n",
      " [12 15 18]]\n"
     ]
    }
   ],
   "source": [
    "import numpy as np\n",
    "\n",
    "\n",
    "# create 3 numpy array\n",
    "a = np.array([[1,2,3],\n",
    "              [4,5,6]])\n",
    "b = np.array([[2,2,2],\n",
    "              [3,3,3]])\n",
    "c = np.array([[1,2],\n",
    "              [3,4],\n",
    "              [5,6]])\n",
    "\n",
    "print(f'元素點對點相乘(方法1:np.multiply(a,b)):\\n{np.multiply(a,b)}')\n"
   ]
  },
  {
   "cell_type": "code",
   "execution_count": 16,
   "metadata": {},
   "outputs": [
    {
     "name": "stdout",
     "output_type": "stream",
     "text": [
      "元素點對點相乘(方法2:a*b):\n",
      "[[ 2  4  6]\n",
      " [12 15 18]]\n"
     ]
    }
   ],
   "source": [
    "print(f'元素點對點相乘(方法2:a*b):\\n{a*b}')"
   ]
  },
  {
   "cell_type": "code",
   "execution_count": 18,
   "metadata": {},
   "outputs": [
    {
     "name": "stdout",
     "output_type": "stream",
     "text": [
      "矩陣相乘(方法1: np.dot(a,c)):\n",
      "[[22 28]\n",
      " [49 64]]\n",
      "矩陣相乘(方法2: a.dot(c)):\n",
      "[[22 28]\n",
      " [49 64]]\n",
      "矩陣相乘(方法3: np.matmul(a,c)):\n",
      "[[22 28]\n",
      " [49 64]]\n"
     ]
    }
   ],
   "source": [
    "print(f'矩陣相乘(方法1: np.dot(a,c)):\\n{np.dot(a,c)}')\n",
    "print(f'矩陣相乘(方法2: a.dot(c)):\\n{a.dot(c)}')\n",
    "print(f'矩陣相乘(方法3: np.matmul(a,c)):\\n{np.matmul(a,c)}')"
   ]
  },
  {
   "cell_type": "code",
   "execution_count": null,
   "metadata": {},
   "outputs": [],
   "source": []
  },
  {
   "cell_type": "code",
   "execution_count": null,
   "metadata": {},
   "outputs": [],
   "source": []
  }
 ],
 "metadata": {
  "kernelspec": {
   "display_name": "Python 3",
   "language": "python",
   "name": "python3"
  },
  "language_info": {
   "codemirror_mode": {
    "name": "ipython",
    "version": 3
   },
   "file_extension": ".py",
   "mimetype": "text/x-python",
   "name": "python",
   "nbconvert_exporter": "python",
   "pygments_lexer": "ipython3",
   "version": "3.11.6"
  }
 },
 "nbformat": 4,
 "nbformat_minor": 2
}
